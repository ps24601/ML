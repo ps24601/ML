{
 "cells": [
  {
   "cell_type": "markdown",
   "metadata": {},
   "source": [
    "Prashant P. Singh - 8448315"
   ]
  },
  {
   "cell_type": "markdown",
   "metadata": {},
   "source": [
    "Lets start with statistical models for the task at hand. One can look at this problem, where words are features and we are trying to predict the target class. However as the models cannot directly work with words we need to encode these words and build some more features using the same and then use those to predict the models. As mentioned below we will be trying with representative from each borad categories (Regression, Ensemble methods, kernel methods and Boosted trees) "
   ]
  },
  {
   "cell_type": "code",
   "execution_count": 1,
   "metadata": {
    "colab": {
     "base_uri": "https://localhost:8080/"
    },
    "id": "MM9jekY7hBJO",
    "outputId": "9cfe738f-d2f9-41d5-f4ae-d757b6906a1c"
   },
   "outputs": [
    {
     "name": "stdout",
     "output_type": "stream",
     "text": [
      "Mounted at /content/drive\n"
     ]
    }
   ],
   "source": [
    "# Lets mount the Google Drive and acccess the data\n",
    "from google.colab import drive\n",
    "drive.mount('/content/drive')"
   ]
  },
  {
   "cell_type": "code",
   "execution_count": 2,
   "metadata": {
    "id": "JqbCLl9vWYNp"
   },
   "outputs": [],
   "source": [
    "# Function to load the data from the folder in Google Drive\n",
    "\n",
    "def load_data():\n",
    "  import pickle\n",
    "  path = '/content/drive/MyDrive/IMDB'  # path to the folder in google drive where data is saved\n",
    "  with open(path + \"/train.pkl\", 'rb') as a, open(path + \"/test.pkl\", 'rb') as b:\n",
    "      d_train = pickle.load(a)   # loading training data\n",
    "      d_test = pickle.load(b)   # loading test data \n",
    "  return d_train, d_test\n",
    "\n",
    "# loading data set\n",
    "d_train, d_test = load_data()"
   ]
  },
  {
   "cell_type": "code",
   "execution_count": 3,
   "metadata": {
    "id": "XzWZ6AAIYvKy"
   },
   "outputs": [],
   "source": [
    "# Its always good practice to keep validation set separately apart from test, in case we need to do grid search or hyperparameter tuning\n",
    "# we cannot use the test for these and also this keeps check on VC-dimentionality issue.\n",
    "\n",
    "# further as it is not clear if the test set should be used for validation or final test only however given IMDB dataset \n",
    "# is very stnadard dataset and the benchmarking is done by using the 25k whole test data set , \n",
    "# therefore to conform with the benchmark standard we will use test only for final test.\n",
    "\n",
    "from sklearn.model_selection import train_test_split\n",
    "\n",
    "X_train, X_val, y_train, y_val = train_test_split(d_train.text, d_train.label, train_size=0.8)\n",
    "X_test, y_test = d_test.text,d_test.label"
   ]
  },
  {
   "cell_type": "markdown",
   "metadata": {
    "id": "eYGxtEPUTB2s"
   },
   "source": [
    "1. Zipf's law states that given some corpus of natural language utterances, the frequency of any word is inversely proportional to its rank in the frequency table. Thus the most frequent word will occur approximately twice as often as the second most frequent word, three times as often as the third most frequent word, etc.: the rank-frequency distribution is an inverse relation.\n",
    "2. Tf_IDF: The absic idea is words which are generally frequent in documents are less informative, than the ones that are generally rare, but frequent in a small subset of documents. Therefore it makes sense to make the  rare words common in a subset of the document more prominent and effectively ignore common words.\n",
    "3. What about stop words and common words:\n",
    "*   One can argue that in case of LSTM and Sequence modelling these can play important role but in case of statistical tools like 'Random Forest' etc they cannot add value and hence should be removed.\n",
    "*   When we look at the comment 2, it is obvious that while using Tf-IDF we can ignore the removal of stop words or common words like \" 'a', 'the', 'and','of' etc\" as Tf-idf can take care of this automatically by assignning them low value.\n",
    "*   Further removal of stop words had always been controversial, as highlighted by this [paper](https://ieeexplore.ieee.org/document/7375527), the better accuracy was acheived without removing stop words, so lets go with wisdom.\n"
   ]
  },
  {
   "cell_type": "code",
   "execution_count": 1,
   "metadata": {
    "colab": {
     "base_uri": "https://localhost:8080/"
    },
    "id": "TyrM31jLPJGP",
    "outputId": "8807e660-1f06-4254-b0e8-ec9d47b74b12"
   },
   "outputs": [
    {
     "name": "stdout",
     "output_type": "stream",
     "text": [
      "[nltk_data] Downloading package wordnet to\n",
      "[nltk_data]     C:\\Users\\ppsin\\AppData\\Roaming\\nltk_data...\n",
      "[nltk_data]   Package wordnet is already up-to-date!\n"
     ]
    }
   ],
   "source": [
    "# lets now lemmatize the text\n",
    "# we will use Wordnet for the same\n",
    "\n",
    "import nltk\n",
    "nltk.download('wordnet')\n",
    "from nltk.stem import WordNetLemmatizer\n",
    "lemmatizer = WordNetLemmatizer()\n",
    "def lemmatize_text(texts):\n",
    "  lemmatizer = WordNetLemmatizer()\n",
    "  return [' '.join([lemmatizer.lemmatize(word) for word in review.split()]) for review in texts]"
   ]
  },
  {
   "cell_type": "code",
   "execution_count": 5,
   "metadata": {
    "id": "tMJJB2iKr3TE"
   },
   "outputs": [],
   "source": [
    "from sklearn.model_selection import train_test_split\n",
    "\n",
    "# we will create the validation set from train\n",
    "X_train, X_val, y_train, y_val = train_test_split(d_train.text, d_train.label, train_size=0.8)\n",
    "X_test, y_test = d_test.text,d_test.label\n",
    "\n",
    "train_reviews = lemmatize_text(X_train)\n",
    "val_reviews = lemmatize_text(X_val)\n",
    "test_reviews = lemmatize_text(X_test)"
   ]
  },
  {
   "cell_type": "code",
   "execution_count": null,
   "metadata": {
    "colab": {
     "base_uri": "https://localhost:8080/"
    },
    "id": "GEqfetmAK6Lx",
    "outputId": "9b50b055-d02d-4882-f2dc-d560ba1311a7"
   },
   "outputs": [
    {
     "name": "stdout",
     "output_type": "stream",
     "text": [
      "Labels count in train \n",
      " 1    10000\n",
      "0    10000\n",
      "Name: label, dtype: int64\n",
      "labels count in test \n",
      " 1    12500\n",
      "0    12500\n",
      "Name: label, dtype: int64\n"
     ]
    }
   ],
   "source": [
    "# lets see how much the data is balanced/imbalanced\n",
    "print(\"Labels count in train \\n\",y_train.value_counts())\n",
    "print(\"labels count in test \\n\", y_test.value_counts())"
   ]
  },
  {
   "cell_type": "markdown",
   "metadata": {},
   "source": [
    "We give the n_grams range to be 2, this will create unigrams (i.e tokens) and bi-grams.\n",
    "Why? \n",
    "Ex: 'very bad' and 'very good', in this if we use unigrams then very cannot imply positive or negative sentiment but with 'good' or 'bad' only it can. While model can build such relationship ebtween feature but by passing such explicit feature can improve the models performance.\n"
   ]
  },
  {
   "cell_type": "code",
   "execution_count": 35,
   "metadata": {
    "colab": {
     "base_uri": "https://localhost:8080/"
    },
    "id": "-n31Thl2RQ7X",
    "outputId": "08b8fd39-0b26-4a56-dd0f-b3b0e0a01adc"
   },
   "outputs": [
    {
     "name": "stdout",
     "output_type": "stream",
     "text": [
      "CPU times: user 46.9 s, sys: 492 ms, total: 47.4 s\n",
      "Wall time: 47.7 s\n"
     ]
    }
   ],
   "source": [
    "%%time\n",
    "# lets implement TF_idf, we will use ngrams = 1,2\n",
    "\n",
    "from sklearn.feature_extraction.text import TfidfVectorizer\n",
    "\n",
    "tfidf  = TfidfVectorizer(ngram_range=(1, 2)).fit(train_reviews)  # fit on the train\n",
    "dfx = tfidf.transform(train_reviews)    # transform the train\n",
    "dfxval = tfidf.transform(val_reviews)   # transform the val using same object/model\n",
    "dfxtest = tfidf.transform(test_reviews) # transform the test using same object/model\n"
   ]
  },
  {
   "cell_type": "code",
   "execution_count": null,
   "metadata": {
    "colab": {
     "base_uri": "https://localhost:8080/"
    },
    "id": "dqlmqf7prTgn",
    "outputId": "b162839f-8519-4a07-f212-3e35db07b8b0"
   },
   "outputs": [
    {
     "name": "stdout",
     "output_type": "stream",
     "text": [
      "Accuracy on valid for Logistic: 0.8858\n",
      "Accuracy on valid for RandomForest: 0.842\n",
      "Accuracy on valid for GradientBoostedTrees: 0.806\n",
      "Accuracy on valid for SVM: 0.8948\n",
      "CPU times: user 1h 14min 47s, sys: 20.4 s, total: 1h 15min 8s\n",
      "Wall time: 1h 14min 27s\n"
     ]
    }
   ],
   "source": [
    "%%time\n",
    "\n",
    "# as can be seen we have the balanced dataset so we can use the accuracy metric\n",
    "\n",
    "from sklearn.linear_model import LogisticRegression   # use this for benchmark\n",
    "from sklearn.svm import SVC                           # considered as top of its class in kernel methods\n",
    "from sklearn.ensemble import RandomForestClassifier   # ensemble method participant\n",
    "from sklearn.ensemble import GradientBoostingClassifier # Tress combined with power of Gradient descent\n",
    "\n",
    "# those are sufficient enough number of models\n",
    "# we will be using accuracy metric\n",
    "from sklearn.metrics import accuracy_score\n",
    "import pandas as pd\n",
    "\n",
    "models = []\n",
    "models.append(('Logistic', LogisticRegression()))\n",
    "models.append(('RandomForest', RandomForestClassifier()))\n",
    "models.append(('GradientBoostedTrees', GradientBoostingClassifier()))\n",
    "models.append(('SVM', SVC()))\n",
    "\n",
    "# dataframe for book keeping\n",
    "report = pd.DataFrame(columns = ['model','Train_Accuracy','Val_Accuracy']) \n",
    "\n",
    "\n",
    "for name,model in models:\n",
    "  model.fit(dfx, y_train)\n",
    "  y_train_predict = model.predict(dfx)\n",
    "  y_val_predict = model.predict(dfxval)\n",
    "  train_accuracy = accuracy_score(y_train,y_train_predict)\n",
    "  val_accuracy = accuracy_score(y_val, y_val_predict)\n",
    "  report.loc[len(report)] = [name,train_accuracy,val_accuracy]\n",
    "  print(\"Accuracy on valid for {}: {}\".format(name,val_accuracy))\n"
   ]
  },
  {
   "cell_type": "code",
   "execution_count": null,
   "metadata": {
    "id": "8QwX3d7yP0-q"
   },
   "outputs": [],
   "source": [
    "path = '/content/drive/MyDrive/IMDB/'\n",
    "report.to_csv(path + 'statisticalmodel.csv')"
   ]
  },
  {
   "cell_type": "code",
   "execution_count": null,
   "metadata": {
    "colab": {
     "base_uri": "https://localhost:8080/",
     "height": 410
    },
    "id": "tUPIbwuf6vZu",
    "outputId": "4687b65f-98e3-4bed-fc7a-c0e1430e4b87"
   },
   "outputs": [
    {
     "data": {
      "image/png": "[encoded data removed]",
      "text/plain": [
       "<Figure size 1440x432 with 1 Axes>"
      ]
     },
     "metadata": {},
     "output_type": "display_data"
    }
   ],
   "source": [
    "import seaborn as sns\n",
    "import matplotlib.pyplot as plt\n",
    "\n",
    "def model_plot(report):\n",
    "  # Reshaping dataframe in  way to make it compatible to pass it to seaborn\n",
    "  df = pd.melt(report, id_vars=\"model\", var_name=\"Type\", value_name=\"Accuracy Score\")\n",
    "  \n",
    "  # some fancy thing to make plots nice, you can different palette types and style\n",
    "  # https://seaborn.pydata.org/tutorial/color_palettes.html\n",
    "  \n",
    "  sns.set_palette(\"pastel\")\n",
    "  sns.set(style=\"darkgrid\")\n",
    "  fig, ax = plt.subplots( figsize=(20,6))\n",
    "  a = sns.barplot(data=df, x=\"model\", y= 'Accuracy Score', hue=\"Type\", ax = ax)\n",
    "  a.set_title('Accuracy Score for Models')\n",
    "  # show_values_on_bars(ax1, \"v\", 0.5)\n",
    "  fig.savefig(path +\"Accuracy_plotfor_stat\"+ '.png')\n",
    "\n",
    "model_plot(report)"
   ]
  },
  {
   "cell_type": "markdown",
   "metadata": {},
   "source": [
    "As can be seen that gradientboosted trees are behind, we will keep the SVC, RandomForest and Logistic for further analysis. Logistic regression will be kept for base becnhmarking. "
   ]
  },
  {
   "cell_type": "markdown",
   "metadata": {
    "id": "4HGDVX5m5z5h"
   },
   "source": [
    " ### Gridsearch vs Randomized gridsearch\n",
    "\n",
    "*   The ideal way of doing paramteric search is to start with Randomized grid search where you can pass params list but instead of trying everything we 'eyeball' the space to get an idea where to do the fine search. In radomized grid search it is good to pass extreme values and make big jumps in values of params (we are eyeballing the topology)\n",
    "\n",
    "*   Once we narrow down on the space of param we can try fine tuning combinations of params with small increments (in case of ordinal)"
   ]
  },
  {
   "cell_type": "code",
   "execution_count": null,
   "metadata": {
    "colab": {
     "base_uri": "https://localhost:8080/"
    },
    "id": "vYXu4q-QWAQl",
    "outputId": "4d4220cf-c04d-428e-85d0-5f40b49f2da4"
   },
   "outputs": [
    {
     "name": "stdout",
     "output_type": "stream",
     "text": [
      "Fitting 2 folds for each of 15 candidates, totalling 30 fits\n",
      "[CV] END criterion=gini, max_depth=100, max_features=log2, n_estimators=300; total time= 1.1min\n",
      "[CV] END criterion=gini, max_depth=100, max_features=log2, n_estimators=300; total time= 1.1min\n",
      "[CV] END criterion=gini, max_depth=50, max_features=log2, n_estimators=200; total time=  31.1s\n",
      "[CV] END criterion=gini, max_depth=50, max_features=log2, n_estimators=200; total time=  30.7s\n",
      "[CV] END criterion=entropy, max_depth=50, max_features=log2, n_estimators=400; total time=  52.4s\n",
      "[CV] END criterion=entropy, max_depth=50, max_features=log2, n_estimators=400; total time=  48.2s\n",
      "[CV] END criterion=entropy, max_depth=None, max_features=auto, n_estimators=200; total time= 8.0min\n",
      "[CV] END criterion=entropy, max_depth=None, max_features=auto, n_estimators=200; total time= 7.7min\n",
      "[CV] END criterion=gini, max_depth=None, max_features=log2, n_estimators=500; total time=14.5min\n",
      "[CV] END criterion=gini, max_depth=None, max_features=log2, n_estimators=500; total time=13.3min\n",
      "[CV] END criterion=gini, max_depth=10, max_features=log2, n_estimators=100; total time=   9.8s\n",
      "[CV] END criterion=gini, max_depth=10, max_features=log2, n_estimators=100; total time=   9.5s\n",
      "[CV] END criterion=entropy, max_depth=None, max_features=auto, n_estimators=400; total time=16.1min\n",
      "[CV] END criterion=entropy, max_depth=None, max_features=auto, n_estimators=400; total time=15.4min\n",
      "[CV] END criterion=entropy, max_depth=50, max_features=auto, n_estimators=200; total time= 2.8min\n",
      "[CV] END criterion=entropy, max_depth=50, max_features=auto, n_estimators=200; total time= 2.7min\n",
      "[CV] END criterion=entropy, max_depth=100, max_features=log2, n_estimators=200; total time=  39.0s\n",
      "[CV] END criterion=entropy, max_depth=100, max_features=log2, n_estimators=200; total time=  40.7s\n",
      "[CV] END criterion=gini, max_depth=50, max_features=auto, n_estimators=300; total time= 4.5min\n",
      "[CV] END criterion=gini, max_depth=50, max_features=auto, n_estimators=300; total time= 4.5min\n",
      "[CV] END criterion=gini, max_depth=10, max_features=auto, n_estimators=400; total time= 1.1min\n",
      "[CV] END criterion=gini, max_depth=10, max_features=auto, n_estimators=400; total time= 1.1min\n",
      "[CV] END criterion=gini, max_depth=None, max_features=auto, n_estimators=100; total time= 4.0min\n",
      "[CV] END criterion=gini, max_depth=None, max_features=auto, n_estimators=100; total time= 4.1min\n",
      "[CV] END criterion=entropy, max_depth=5, max_features=auto, n_estimators=300; total time=  37.1s\n",
      "[CV] END criterion=entropy, max_depth=5, max_features=auto, n_estimators=300; total time=  35.9s\n",
      "[CV] END criterion=gini, max_depth=10, max_features=auto, n_estimators=300; total time=  48.2s\n",
      "[CV] END criterion=gini, max_depth=10, max_features=auto, n_estimators=300; total time=  48.6s\n",
      "[CV] END criterion=entropy, max_depth=100, max_features=log2, n_estimators=400; total time= 1.2min\n",
      "[CV] END criterion=entropy, max_depth=100, max_features=log2, n_estimators=400; total time= 1.2min\n",
      "Best Param of Random Forest:  {'n_estimators': 500, 'max_features': 'log2', 'max_depth': None, 'criterion': 'gini'}\n",
      "Best Score:  {'mean_fit_time': array([ 38.26314533,  12.06640315,  20.07939613, 455.82060277,\n",
      "       767.29741096,   1.48060954, 909.95129716, 148.74514401,\n",
      "        21.39672983, 247.10592926,  35.86911702, 234.74413025,\n",
      "        12.60453212,  26.88337839,  40.62210882]), 'std_fit_time': array([5.93172669e-01, 3.80253792e-02, 6.78922057e-01, 7.89918244e+00,\n",
      "       3.15158358e+01, 1.49066329e-01, 2.40081040e+01, 1.96629167e-01,\n",
      "       1.14041686e-01, 1.73621404e+00, 2.19434023e-01, 2.10860693e+00,\n",
      "       1.72897577e-02, 8.68076086e-02, 2.75293708e-01]), 'mean_score_time': array([27.60014153, 18.79834533, 30.1806258 , 16.29846537, 68.85956037,\n",
      "        8.20182812, 33.40103149, 16.83009291, 18.45628285, 23.82627022,\n",
      "       30.82096958,  8.83997595, 23.90348232, 21.51503706, 30.37458622]), 'std_score_time': array([1.62186027, 0.16312623, 1.42440856, 0.65097725, 4.92355788,\n",
      "       0.00831592, 2.28084612, 1.13440418, 1.00802588, 0.12258232,\n",
      "       0.21931744, 0.05998623, 0.61947858, 0.27983665, 0.90592873]), 'param_n_estimators': masked_array(data=[300, 200, 400, 200, 500, 100, 400, 200, 200, 300, 400,\n",
      "                   100, 300, 300, 400],\n",
      "             mask=[False, False, False, False, False, False, False, False,\n",
      "                   False, False, False, False, False, False, False],\n",
      "       fill_value='?',\n",
      "            dtype=object), 'param_max_features': masked_array(data=['log2', 'log2', 'log2', 'auto', 'log2', 'log2', 'auto',\n",
      "                   'auto', 'log2', 'auto', 'auto', 'auto', 'auto', 'auto',\n",
      "                   'log2'],\n",
      "             mask=[False, False, False, False, False, False, False, False,\n",
      "                   False, False, False, False, False, False, False],\n",
      "       fill_value='?',\n",
      "            dtype=object), 'param_max_depth': masked_array(data=[100, 50, 50, None, None, 10, None, 50, 100, 50, 10,\n",
      "                   None, 5, 10, 100],\n",
      "             mask=[False, False, False, False, False, False, False, False,\n",
      "                   False, False, False, False, False, False, False],\n",
      "       fill_value='?',\n",
      "            dtype=object), 'param_criterion': masked_array(data=['gini', 'gini', 'entropy', 'entropy', 'gini', 'gini',\n",
      "                   'entropy', 'entropy', 'entropy', 'gini', 'gini',\n",
      "                   'gini', 'entropy', 'gini', 'entropy'],\n",
      "             mask=[False, False, False, False, False, False, False, False,\n",
      "                   False, False, False, False, False, False, False],\n",
      "       fill_value='?',\n",
      "            dtype=object), 'params': [{'n_estimators': 300, 'max_features': 'log2', 'max_depth': 100, 'criterion': 'gini'}, {'n_estimators': 200, 'max_features': 'log2', 'max_depth': 50, 'criterion': 'gini'}, {'n_estimators': 400, 'max_features': 'log2', 'max_depth': 50, 'criterion': 'entropy'}, {'n_estimators': 200, 'max_features': 'auto', 'max_depth': None, 'criterion': 'entropy'}, {'n_estimators': 500, 'max_features': 'log2', 'max_depth': None, 'criterion': 'gini'}, {'n_estimators': 100, 'max_features': 'log2', 'max_depth': 10, 'criterion': 'gini'}, {'n_estimators': 400, 'max_features': 'auto', 'max_depth': None, 'criterion': 'entropy'}, {'n_estimators': 200, 'max_features': 'auto', 'max_depth': 50, 'criterion': 'entropy'}, {'n_estimators': 200, 'max_features': 'log2', 'max_depth': 100, 'criterion': 'entropy'}, {'n_estimators': 300, 'max_features': 'auto', 'max_depth': 50, 'criterion': 'gini'}, {'n_estimators': 400, 'max_features': 'auto', 'max_depth': 10, 'criterion': 'gini'}, {'n_estimators': 100, 'max_features': 'auto', 'max_depth': None, 'criterion': 'gini'}, {'n_estimators': 300, 'max_features': 'auto', 'max_depth': 5, 'criterion': 'entropy'}, {'n_estimators': 300, 'max_features': 'auto', 'max_depth': 10, 'criterion': 'gini'}, {'n_estimators': 400, 'max_features': 'log2', 'max_depth': 100, 'criterion': 'entropy'}], 'split0_test_score': array([0.78528, 0.71592, 0.77592, 0.85208, 0.85776, 0.59064, 0.85608,\n",
      "       0.84984, 0.77064, 0.85264, 0.83824, 0.8372 , 0.82088, 0.83144,\n",
      "       0.81056]), 'split1_test_score': array([0.7912 , 0.72936, 0.7764 , 0.85264, 0.85848, 0.57968, 0.854  ,\n",
      "       0.85472, 0.7644 , 0.85448, 0.84416, 0.83968, 0.82808, 0.84   ,\n",
      "       0.80512]), 'mean_test_score': array([0.78824, 0.72264, 0.77616, 0.85236, 0.85812, 0.58516, 0.85504,\n",
      "       0.85228, 0.76752, 0.85356, 0.8412 , 0.83844, 0.82448, 0.83572,\n",
      "       0.80784]), 'std_test_score': array([0.00296, 0.00672, 0.00024, 0.00028, 0.00036, 0.00548, 0.00104,\n",
      "       0.00244, 0.00312, 0.00092, 0.00296, 0.00124, 0.0036 , 0.00428,\n",
      "       0.00272]), 'rank_test_score': array([11, 14, 12,  4,  1, 15,  2,  5, 13,  3,  6,  7,  9,  8, 10],\n",
      "      dtype=int32)}\n",
      "Fitting 2 folds for each of 4 candidates, totalling 8 fits\n",
      "[CV] END .............................................C=0.02; total time=15.7min\n",
      "[CV] END .............................................C=0.02; total time=15.7min\n",
      "[CV] END ..............................................C=0.5; total time=15.1min\n",
      "[CV] END ..............................................C=0.5; total time=14.7min\n",
      "[CV] END ................................................C=1; total time=26.4min\n",
      "[CV] END ................................................C=1; total time=26.0min\n",
      "[CV] END ................................................C=5; total time=30.3min\n",
      "[CV] END ................................................C=5; total time=31.2min\n"
     ]
    }
   ],
   "source": [
    "%%time\n",
    "def random_grid():\n",
    "  from sklearn.linear_model import LogisticRegression   # use this for benchmark\n",
    "  from sklearn.svm import SVC                           # considered as top of its class in kernel methods\n",
    "  from sklearn.ensemble import RandomForestClassifier   # ensemble method participant \n",
    "  from sklearn.model_selection  import RandomizedSearchCV\n",
    "  import pandas as pd\n",
    "\n",
    "  path = '/content/drive/MyDrive/IMDB/'\n",
    "\n",
    "  X_train, y_train = d_train.text,d_train.label\n",
    "\n",
    "  # tokenize the training set\n",
    "  from sklearn.feature_extraction.text import TfidfVectorizer\n",
    "  train_reviews = lemmatize_text(X_train)\n",
    "  tfidf  = TfidfVectorizer(ngram_range=(1, 2)).fit(train_reviews)  # fit on the train\n",
    "  dfx = tfidf.transform(train_reviews)    # transform the train\n",
    " \n",
    "\n",
    "  rf = RandomForestClassifier(random_state =7)\n",
    "  rf_param = {'n_estimators': [100,200,300,400,500],  # number of trees, very low value can create bias\n",
    "              'max_depth': [5,10,50,100,None],        # max_depth of tree, very high values leads to overfitting\n",
    "              'max_features': ['auto', 'log2'],       # feature selections for split\n",
    "              'criterion': ['gini', 'entropy'] }      # criteren to make the splitting \n",
    "\n",
    "# total combinations are 100, whcih will take lot fo time instead using Randomizedsearch we can get quickly get answers\n",
    "# n_iters = 15, total combination which will be tried\n",
    "  grid_rf = RandomizedSearchCV(rf, rf_param, n_iter=15, cv= 2,random_state=7, verbose = 2)\n",
    "  grid_rf.fit(dfx, y_train)\n",
    "  print(\"Best Param of Random Forest: \",grid_rf.best_params_)\n",
    "  print(\"Best Score: \",grid_rf.cv_results_)\n",
    "\n",
    "  # book keeping for params and results\n",
    "  df  = pd.concat([pd.DataFrame(grid_rf.cv_results_[\"params\"]),pd.DataFrame(grid_rf.cv_results_[\"mean_test_score\"], columns=[\"Accuracy\"])],axis=1)\n",
    "  df.to_csv(path + \"RF_grid.csv\")\n",
    "\n",
    "  # running grid for SVC, more on paramters below\n",
    "  svc_rbf = SVC(random_state =7)\n",
    "  svc_param = {'C': [0.02,0.5,1,5]}   # Regularization parameter. The strength of the regularization is inversely proportional to C.\n",
    "  grid_svc = RandomizedSearchCV(svc_rbf, svc_param, n_iter=4, cv= 2,random_state=7, verbose = 2)\n",
    "  grid_svc.fit(dfx, y_train)\n",
    "  print(\"Best Param of Random Forest: \",grid_svc.best_params_)\n",
    "  print(\"Best Score: \",grid_svc.cv_results_)\n",
    "  df  = pd.concat([pd.DataFrame(grid_svc.cv_results_[\"params\"]),pd.DataFrame(grid_svc.cv_results_[\"mean_test_score\"], columns=[\"Accuracy\"])],axis=1)\n",
    "  df.to_csv(path + \"SVC_grid.csv\")\n",
    "\n",
    "random_grid()"
   ]
  },
  {
   "cell_type": "code",
   "execution_count": null,
   "metadata": {
    "id": "9dBkuXZSye2u"
   },
   "outputs": [],
   "source": [
    "# Due to timeout issue of Google colab, we ran the SVC grid search on local machine the results of \n",
    "# which are present below as screenshot and also the csv file is provided in folder.\n",
    "from sklearn.linear_model import LogisticRegression   # use this for benchmark\n",
    "from sklearn.svm import SVC                           # considered as top of its class in kernel methods\n",
    "from sklearn.ensemble import RandomForestClassifier   # ensemble method participant \n",
    "from sklearn.model_selection  import RandomizedSearchCV\n",
    "import pandas as pd\n",
    "\n",
    "X_train, y_train = d_train.text,d_train.label  # reading training data set\n",
    "\n",
    "# tokenize the training set\n",
    "from sklearn.feature_extraction.text import TfidfVectorizer\n",
    "train_reviews = lemmatize_text(X_train)\n",
    "tfidf  = TfidfVectorizer(ngram_range=(1, 2)).fit(train_reviews)  # fit on the train\n",
    "dfx = tfidf.transform(train_reviews)    # transform the train\n",
    "\n",
    "svc_rbf = SVC(random_state =7)\n",
    "\n",
    "# C: Regularization parameter. The strength of the regularization is inversely proportional to C. C makes a trade \n",
    "# off between smooth boundary more points accuracte classification (by coming up with non smooth boundaries)\n",
    "# gamma: kernel coefficients. It affects the decision boundary, lower the value farther the effect and vice versa.\n",
    "# gamma and C affect the model in bias -variance tradeoff therefore \n",
    "# combination of them needs to tried out. Usually lower value of gamma reduce the \n",
    "svc_param = {'C': [0.05,0.5,5,10], 'gamma':['scale',0.005,0.05,0.5,1,2]}\n",
    "grid_svc = RandomizedSearchCV(svc_rbf, svc_param, n_iter=10, cv= 2,random_state=7, verbose = 2)\n",
    "grid_svc.fit(dfx, y_train)\n",
    "print(\"Best Param of SVM: \",grid_svc.best_params_)\n",
    "print(\"Best Score: \",grid_svc.cv_results_)\n",
    "\n",
    "# book keeping for params and results\n",
    "df  = pd.concat([pd.DataFrame(grid_svc.cv_results_[\"params\"]),pd.DataFrame(grid_svc.cv_results_[\"mean_test_score\"], columns=[\"Accuracy\"])],axis=1)\n",
    "df.to_csv(\"SVC_grid.csv\")"
   ]
  },
  {
   "cell_type": "markdown",
   "metadata": {
    "id": "AWnE8U8S0VTS"
   },
   "source": [
    "![Screenshot 2021-11-27 200332.png](data:image/png;base64,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)"
   ]
  },
  {
   "cell_type": "code",
   "execution_count": 31,
   "metadata": {
    "id": "JOWW10lP00GO"
   },
   "outputs": [],
   "source": [
    "import pandas as pd\n",
    "path = '/content/drive/MyDrive/IMDB/'\n",
    "\n",
    "rf_grid = pd.read_csv(path + 'RF_grid.csv').drop(['Unnamed: 0'],axis=1)\n",
    "svc_grid = pd.read_csv(path + 'SVC_grid.csv').drop(['Unnamed: 0'],axis=1)\n",
    "\n",
    "# grid with gamma fixed as 'scale'\n",
    "temp = pd.read_csv(path + 'SVC_grid_gamma.csv').drop(['Unnamed: 0'],axis=1)\n",
    "temp['gamma'] = 'scale'\n",
    "svc_grid = pd.concat([svc_grid,temp])"
   ]
  },
  {
   "cell_type": "code",
   "execution_count": 32,
   "metadata": {
    "colab": {
     "base_uri": "https://localhost:8080/",
     "height": 520
    },
    "id": "TEJ4GRiB2bsu",
    "outputId": "8c00f3d9-621c-47a0-efe8-dfe75c208855"
   },
   "outputs": [
    {
     "data": {
      "text/html": [
       "<div>\n",
       "<style scoped>\n",
       "    .dataframe tbody tr th:only-of-type {\n",
       "        vertical-align: middle;\n",
       "    }\n",
       "\n",
       "    .dataframe tbody tr th {\n",
       "        vertical-align: top;\n",
       "    }\n",
       "\n",
       "    .dataframe thead th {\n",
       "        text-align: right;\n",
       "    }\n",
       "</style>\n",
       "<table border=\"1\" class=\"dataframe\">\n",
       "  <thead>\n",
       "    <tr style=\"text-align: right;\">\n",
       "      <th></th>\n",
       "      <th>n_estimators</th>\n",
       "      <th>max_features</th>\n",
       "      <th>max_depth</th>\n",
       "      <th>criterion</th>\n",
       "      <th>Accuracy</th>\n",
       "    </tr>\n",
       "  </thead>\n",
       "  <tbody>\n",
       "    <tr>\n",
       "      <th>4</th>\n",
       "      <td>500</td>\n",
       "      <td>log2</td>\n",
       "      <td>NaN</td>\n",
       "      <td>gini</td>\n",
       "      <td>0.85812</td>\n",
       "    </tr>\n",
       "    <tr>\n",
       "      <th>6</th>\n",
       "      <td>400</td>\n",
       "      <td>auto</td>\n",
       "      <td>NaN</td>\n",
       "      <td>entropy</td>\n",
       "      <td>0.85504</td>\n",
       "    </tr>\n",
       "    <tr>\n",
       "      <th>9</th>\n",
       "      <td>300</td>\n",
       "      <td>auto</td>\n",
       "      <td>50.0</td>\n",
       "      <td>gini</td>\n",
       "      <td>0.85356</td>\n",
       "    </tr>\n",
       "    <tr>\n",
       "      <th>3</th>\n",
       "      <td>200</td>\n",
       "      <td>auto</td>\n",
       "      <td>NaN</td>\n",
       "      <td>entropy</td>\n",
       "      <td>0.85236</td>\n",
       "    </tr>\n",
       "    <tr>\n",
       "      <th>7</th>\n",
       "      <td>200</td>\n",
       "      <td>auto</td>\n",
       "      <td>50.0</td>\n",
       "      <td>entropy</td>\n",
       "      <td>0.85228</td>\n",
       "    </tr>\n",
       "    <tr>\n",
       "      <th>10</th>\n",
       "      <td>400</td>\n",
       "      <td>auto</td>\n",
       "      <td>10.0</td>\n",
       "      <td>gini</td>\n",
       "      <td>0.84120</td>\n",
       "    </tr>\n",
       "    <tr>\n",
       "      <th>11</th>\n",
       "      <td>100</td>\n",
       "      <td>auto</td>\n",
       "      <td>NaN</td>\n",
       "      <td>gini</td>\n",
       "      <td>0.83844</td>\n",
       "    </tr>\n",
       "    <tr>\n",
       "      <th>13</th>\n",
       "      <td>300</td>\n",
       "      <td>auto</td>\n",
       "      <td>10.0</td>\n",
       "      <td>gini</td>\n",
       "      <td>0.83572</td>\n",
       "    </tr>\n",
       "    <tr>\n",
       "      <th>12</th>\n",
       "      <td>300</td>\n",
       "      <td>auto</td>\n",
       "      <td>5.0</td>\n",
       "      <td>entropy</td>\n",
       "      <td>0.82448</td>\n",
       "    </tr>\n",
       "    <tr>\n",
       "      <th>14</th>\n",
       "      <td>400</td>\n",
       "      <td>log2</td>\n",
       "      <td>100.0</td>\n",
       "      <td>entropy</td>\n",
       "      <td>0.80784</td>\n",
       "    </tr>\n",
       "    <tr>\n",
       "      <th>0</th>\n",
       "      <td>300</td>\n",
       "      <td>log2</td>\n",
       "      <td>100.0</td>\n",
       "      <td>gini</td>\n",
       "      <td>0.78824</td>\n",
       "    </tr>\n",
       "    <tr>\n",
       "      <th>2</th>\n",
       "      <td>400</td>\n",
       "      <td>log2</td>\n",
       "      <td>50.0</td>\n",
       "      <td>entropy</td>\n",
       "      <td>0.77616</td>\n",
       "    </tr>\n",
       "    <tr>\n",
       "      <th>8</th>\n",
       "      <td>200</td>\n",
       "      <td>log2</td>\n",
       "      <td>100.0</td>\n",
       "      <td>entropy</td>\n",
       "      <td>0.76752</td>\n",
       "    </tr>\n",
       "    <tr>\n",
       "      <th>1</th>\n",
       "      <td>200</td>\n",
       "      <td>log2</td>\n",
       "      <td>50.0</td>\n",
       "      <td>gini</td>\n",
       "      <td>0.72264</td>\n",
       "    </tr>\n",
       "    <tr>\n",
       "      <th>5</th>\n",
       "      <td>100</td>\n",
       "      <td>log2</td>\n",
       "      <td>10.0</td>\n",
       "      <td>gini</td>\n",
       "      <td>0.58516</td>\n",
       "    </tr>\n",
       "  </tbody>\n",
       "</table>\n",
       "</div>"
      ],
      "text/plain": [
       "    n_estimators max_features  max_depth criterion  Accuracy\n",
       "4            500         log2        NaN      gini   0.85812\n",
       "6            400         auto        NaN   entropy   0.85504\n",
       "9            300         auto       50.0      gini   0.85356\n",
       "3            200         auto        NaN   entropy   0.85236\n",
       "7            200         auto       50.0   entropy   0.85228\n",
       "10           400         auto       10.0      gini   0.84120\n",
       "11           100         auto        NaN      gini   0.83844\n",
       "13           300         auto       10.0      gini   0.83572\n",
       "12           300         auto        5.0   entropy   0.82448\n",
       "14           400         log2      100.0   entropy   0.80784\n",
       "0            300         log2      100.0      gini   0.78824\n",
       "2            400         log2       50.0   entropy   0.77616\n",
       "8            200         log2      100.0   entropy   0.76752\n",
       "1            200         log2       50.0      gini   0.72264\n",
       "5            100         log2       10.0      gini   0.58516"
      ]
     },
     "execution_count": 32,
     "metadata": {},
     "output_type": "execute_result"
    }
   ],
   "source": [
    "# results os RandomForest Random Grid search\n",
    "rf_grid.sort_values(by = ['Accuracy'], ascending= False)"
   ]
  },
  {
   "cell_type": "markdown",
   "metadata": {
    "id": "vHn7eOC7-NMl"
   },
   "source": [
    "In case of Random forest it is seen that higher estimators values gives better results (intutively biggert eh forest better the ensembling 'Wisdom of many'). But as cen be seen from the graphs above R.reaches the 100% accuracy of train, so maybe it could be overfitting (not necessarily until we know validation and trianing is diverging) hence better to regularize this. In random forest one way to do this is to control for depth. By default RF imlementation goes on to build the trees with highest purity in leaf, which we can restrict by putting limit to the max-depth. Therefore we we will be going forward with Higher estimator values of [400,450,500] and max-depth of [50,60,70,100] with feature = [auto].\n",
    "\n",
    "\n",
    "Grid Search for Random forest"
   ]
  },
  {
   "cell_type": "code",
   "execution_count": 38,
   "metadata": {
    "colab": {
     "base_uri": "https://localhost:8080/"
    },
    "id": "uV2QCSvzBBPZ",
    "outputId": "71dca828-b6b5-424e-f378-8fd5ebaaebef"
   },
   "outputs": [
    {
     "name": "stdout",
     "output_type": "stream",
     "text": [
      "Fitting 2 folds for each of 12 candidates, totalling 24 fits\n",
      "[CV] END criterion=gini, max_depth=50, max_features=auto, n_estimators=400; total time= 6.1min\n",
      "[CV] END criterion=gini, max_depth=50, max_features=auto, n_estimators=400; total time= 6.0min\n",
      "[CV] END criterion=gini, max_depth=50, max_features=auto, n_estimators=450; total time= 6.6min\n",
      "[CV] END criterion=gini, max_depth=50, max_features=auto, n_estimators=450; total time= 6.9min\n",
      "[CV] END criterion=gini, max_depth=50, max_features=auto, n_estimators=500; total time= 7.8min\n",
      "[CV] END criterion=gini, max_depth=50, max_features=auto, n_estimators=500; total time= 7.4min\n",
      "[CV] END criterion=gini, max_depth=60, max_features=auto, n_estimators=400; total time= 7.6min\n",
      "[CV] END criterion=gini, max_depth=60, max_features=auto, n_estimators=400; total time= 7.0min\n",
      "[CV] END criterion=gini, max_depth=60, max_features=auto, n_estimators=450; total time= 7.1min\n",
      "[CV] END criterion=gini, max_depth=60, max_features=auto, n_estimators=450; total time= 7.1min\n",
      "[CV] END criterion=gini, max_depth=60, max_features=auto, n_estimators=500; total time= 8.1min\n",
      "[CV] END criterion=gini, max_depth=60, max_features=auto, n_estimators=500; total time= 8.0min\n",
      "[CV] END criterion=gini, max_depth=70, max_features=auto, n_estimators=400; total time= 7.7min\n",
      "[CV] END criterion=gini, max_depth=70, max_features=auto, n_estimators=400; total time= 7.6min\n",
      "[CV] END criterion=gini, max_depth=70, max_features=auto, n_estimators=450; total time= 8.3min\n",
      "[CV] END criterion=gini, max_depth=70, max_features=auto, n_estimators=450; total time= 8.4min\n",
      "[CV] END criterion=gini, max_depth=70, max_features=auto, n_estimators=500; total time= 9.7min\n",
      "[CV] END criterion=gini, max_depth=70, max_features=auto, n_estimators=500; total time= 9.4min\n",
      "[CV] END criterion=gini, max_depth=100, max_features=auto, n_estimators=400; total time=10.4min\n",
      "[CV] END criterion=gini, max_depth=100, max_features=auto, n_estimators=400; total time=10.2min\n",
      "[CV] END criterion=gini, max_depth=100, max_features=auto, n_estimators=450; total time=11.4min\n",
      "[CV] END criterion=gini, max_depth=100, max_features=auto, n_estimators=450; total time=11.6min\n",
      "[CV] END criterion=gini, max_depth=100, max_features=auto, n_estimators=500; total time=13.1min\n",
      "[CV] END criterion=gini, max_depth=100, max_features=auto, n_estimators=500; total time=13.7min\n",
      "Best Param of Random Forest:  {'criterion': 'gini', 'max_depth': 60, 'max_features': 'auto', 'n_estimators': 500}\n",
      "Best Score:  {'mean_fit_time': array([325.36655784, 361.76605594, 410.32209873, 408.09381723,\n",
      "       392.70437384, 449.49513865, 430.88528287, 473.19732511,\n",
      "       538.16028929, 587.25397849, 657.84238994, 764.09812355]), 'std_fit_time': array([ 3.63941574,  8.4436425 , 13.42432475, 11.46154904,  1.62809777,\n",
      "        1.5918467 ,  0.10197222,  2.76414239,  9.20124531,  4.06818843,\n",
      "        5.99695742, 17.42210221]), 'mean_score_time': array([36.88876903, 43.27263355, 46.87542272, 32.08997726, 31.35389841,\n",
      "       31.91972923, 28.12256372, 29.23064077, 34.49197865, 30.06375611,\n",
      "       32.20607829, 40.04986203]), 'std_score_time': array([1.12744963, 0.1011188 , 2.57113457, 6.23930192, 1.39903677,\n",
      "       0.38501716, 0.30880654, 0.48953879, 2.54727745, 0.69471943,\n",
      "       0.72482467, 3.26444209]), 'param_criterion': masked_array(data=['gini', 'gini', 'gini', 'gini', 'gini', 'gini', 'gini',\n",
      "                   'gini', 'gini', 'gini', 'gini', 'gini'],\n",
      "             mask=[False, False, False, False, False, False, False, False,\n",
      "                   False, False, False, False],\n",
      "       fill_value='?',\n",
      "            dtype=object), 'param_max_depth': masked_array(data=[50, 50, 50, 60, 60, 60, 70, 70, 70, 100, 100, 100],\n",
      "             mask=[False, False, False, False, False, False, False, False,\n",
      "                   False, False, False, False],\n",
      "       fill_value='?',\n",
      "            dtype=object), 'param_max_features': masked_array(data=['auto', 'auto', 'auto', 'auto', 'auto', 'auto', 'auto',\n",
      "                   'auto', 'auto', 'auto', 'auto', 'auto'],\n",
      "             mask=[False, False, False, False, False, False, False, False,\n",
      "                   False, False, False, False],\n",
      "       fill_value='?',\n",
      "            dtype=object), 'param_n_estimators': masked_array(data=[400, 450, 500, 400, 450, 500, 400, 450, 500, 400, 450,\n",
      "                   500],\n",
      "             mask=[False, False, False, False, False, False, False, False,\n",
      "                   False, False, False, False],\n",
      "       fill_value='?',\n",
      "            dtype=object), 'params': [{'criterion': 'gini', 'max_depth': 50, 'max_features': 'auto', 'n_estimators': 400}, {'criterion': 'gini', 'max_depth': 50, 'max_features': 'auto', 'n_estimators': 450}, {'criterion': 'gini', 'max_depth': 50, 'max_features': 'auto', 'n_estimators': 500}, {'criterion': 'gini', 'max_depth': 60, 'max_features': 'auto', 'n_estimators': 400}, {'criterion': 'gini', 'max_depth': 60, 'max_features': 'auto', 'n_estimators': 450}, {'criterion': 'gini', 'max_depth': 60, 'max_features': 'auto', 'n_estimators': 500}, {'criterion': 'gini', 'max_depth': 70, 'max_features': 'auto', 'n_estimators': 400}, {'criterion': 'gini', 'max_depth': 70, 'max_features': 'auto', 'n_estimators': 450}, {'criterion': 'gini', 'max_depth': 70, 'max_features': 'auto', 'n_estimators': 500}, {'criterion': 'gini', 'max_depth': 100, 'max_features': 'auto', 'n_estimators': 400}, {'criterion': 'gini', 'max_depth': 100, 'max_features': 'auto', 'n_estimators': 450}, {'criterion': 'gini', 'max_depth': 100, 'max_features': 'auto', 'n_estimators': 500}], 'split0_test_score': array([0.85344, 0.85432, 0.85648, 0.85512, 0.85512, 0.85672, 0.85536,\n",
      "       0.85536, 0.85776, 0.85376, 0.85488, 0.85576]), 'split1_test_score': array([0.85696, 0.85952, 0.85872, 0.85984, 0.85992, 0.85928, 0.85704,\n",
      "       0.85648, 0.85744, 0.85648, 0.85744, 0.85656]), 'mean_test_score': array([0.8552 , 0.85692, 0.8576 , 0.85748, 0.85752, 0.858  , 0.8562 ,\n",
      "       0.85592, 0.8576 , 0.85512, 0.85616, 0.85616]), 'std_test_score': array([0.00176, 0.0026 , 0.00112, 0.00236, 0.0024 , 0.00128, 0.00084,\n",
      "       0.00056, 0.00016, 0.00136, 0.00128, 0.0004 ]), 'rank_test_score': array([11,  6,  2,  5,  4,  1,  7, 10,  3, 12,  8,  8], dtype=int32)}\n",
      "CPU times: user 3h 38min 8s, sys: 11.2 s, total: 3h 38min 20s\n",
      "Wall time: 3h 38min 5s\n"
     ]
    }
   ],
   "source": [
    "%%time\n",
    "from sklearn.linear_model import LogisticRegression   # use this for benchmark\n",
    "from sklearn.svm import SVC                           # considered as top of its class in kernel methods\n",
    "from sklearn.ensemble import RandomForestClassifier   # ensemble method participant \n",
    "from sklearn.model_selection  import GridSearchCV\n",
    "import pandas as pd\n",
    "\n",
    "X_train, y_train = d_train.text,d_train.label\n",
    "\n",
    "# tokenize the training set\n",
    "from sklearn.feature_extraction.text import TfidfVectorizer\n",
    "train_reviews = lemmatize_text(X_train)\n",
    "tfidf  = TfidfVectorizer(ngram_range=(1, 2)).fit(train_reviews)  # fit on the train\n",
    "dfx = tfidf.transform(train_reviews)    # transform the train\n",
    "\n",
    "# only n_estimator and max_depth need to tuned, as can be seen from the results above, critereon: gini and max_fatures: auto\n",
    "# seemed to perform better, we can keep them fixed now.\n",
    "rf = RandomForestClassifier(random_state =7)\n",
    "rf_param = {'n_estimators': [400,450,500], \n",
    "            'max_depth': [50,60,70,100],\n",
    "            'max_features': ['auto'],\n",
    "            'criterion': ['gini'] }\n",
    "\n",
    "# we will run Gridsearch instead of Randomizedgrid now\n",
    "grid_rf = GridSearchCV(rf, rf_param,cv= 2, verbose = 2)\n",
    "grid_rf.fit(dfx, y_train)\n",
    "print(\"Best Param of Random Forest: \",grid_rf.best_params_)\n",
    "print(\"Best Score: \",grid_rf.cv_results_)\n",
    "df  = pd.concat([pd.DataFrame(grid_rf.cv_results_[\"params\"]),pd.DataFrame(grid_rf.cv_results_[\"mean_test_score\"], columns=[\"Accuracy\"])],axis=1)\n",
    "df.to_csv(path + \"RF_gridsearch.csv\")"
   ]
  },
  {
   "cell_type": "code",
   "execution_count": 39,
   "metadata": {
    "colab": {
     "base_uri": "https://localhost:8080/",
     "height": 426
    },
    "id": "7DwnhpL70FYl",
    "outputId": "c3f68c0d-24f1-4903-8cd5-95c2b1eebd5f"
   },
   "outputs": [
    {
     "data": {
      "text/html": [
       "<div>\n",
       "<style scoped>\n",
       "    .dataframe tbody tr th:only-of-type {\n",
       "        vertical-align: middle;\n",
       "    }\n",
       "\n",
       "    .dataframe tbody tr th {\n",
       "        vertical-align: top;\n",
       "    }\n",
       "\n",
       "    .dataframe thead th {\n",
       "        text-align: right;\n",
       "    }\n",
       "</style>\n",
       "<table border=\"1\" class=\"dataframe\">\n",
       "  <thead>\n",
       "    <tr style=\"text-align: right;\">\n",
       "      <th></th>\n",
       "      <th>criterion</th>\n",
       "      <th>max_depth</th>\n",
       "      <th>max_features</th>\n",
       "      <th>n_estimators</th>\n",
       "      <th>Accuracy</th>\n",
       "    </tr>\n",
       "  </thead>\n",
       "  <tbody>\n",
       "    <tr>\n",
       "      <th>0</th>\n",
       "      <td>gini</td>\n",
       "      <td>50</td>\n",
       "      <td>auto</td>\n",
       "      <td>400</td>\n",
       "      <td>0.85520</td>\n",
       "    </tr>\n",
       "    <tr>\n",
       "      <th>1</th>\n",
       "      <td>gini</td>\n",
       "      <td>50</td>\n",
       "      <td>auto</td>\n",
       "      <td>450</td>\n",
       "      <td>0.85692</td>\n",
       "    </tr>\n",
       "    <tr>\n",
       "      <th>2</th>\n",
       "      <td>gini</td>\n",
       "      <td>50</td>\n",
       "      <td>auto</td>\n",
       "      <td>500</td>\n",
       "      <td>0.85760</td>\n",
       "    </tr>\n",
       "    <tr>\n",
       "      <th>3</th>\n",
       "      <td>gini</td>\n",
       "      <td>60</td>\n",
       "      <td>auto</td>\n",
       "      <td>400</td>\n",
       "      <td>0.85748</td>\n",
       "    </tr>\n",
       "    <tr>\n",
       "      <th>4</th>\n",
       "      <td>gini</td>\n",
       "      <td>60</td>\n",
       "      <td>auto</td>\n",
       "      <td>450</td>\n",
       "      <td>0.85752</td>\n",
       "    </tr>\n",
       "    <tr>\n",
       "      <th>5</th>\n",
       "      <td>gini</td>\n",
       "      <td>60</td>\n",
       "      <td>auto</td>\n",
       "      <td>500</td>\n",
       "      <td>0.85800</td>\n",
       "    </tr>\n",
       "    <tr>\n",
       "      <th>6</th>\n",
       "      <td>gini</td>\n",
       "      <td>70</td>\n",
       "      <td>auto</td>\n",
       "      <td>400</td>\n",
       "      <td>0.85620</td>\n",
       "    </tr>\n",
       "    <tr>\n",
       "      <th>7</th>\n",
       "      <td>gini</td>\n",
       "      <td>70</td>\n",
       "      <td>auto</td>\n",
       "      <td>450</td>\n",
       "      <td>0.85592</td>\n",
       "    </tr>\n",
       "    <tr>\n",
       "      <th>8</th>\n",
       "      <td>gini</td>\n",
       "      <td>70</td>\n",
       "      <td>auto</td>\n",
       "      <td>500</td>\n",
       "      <td>0.85760</td>\n",
       "    </tr>\n",
       "    <tr>\n",
       "      <th>9</th>\n",
       "      <td>gini</td>\n",
       "      <td>100</td>\n",
       "      <td>auto</td>\n",
       "      <td>400</td>\n",
       "      <td>0.85512</td>\n",
       "    </tr>\n",
       "    <tr>\n",
       "      <th>10</th>\n",
       "      <td>gini</td>\n",
       "      <td>100</td>\n",
       "      <td>auto</td>\n",
       "      <td>450</td>\n",
       "      <td>0.85616</td>\n",
       "    </tr>\n",
       "    <tr>\n",
       "      <th>11</th>\n",
       "      <td>gini</td>\n",
       "      <td>100</td>\n",
       "      <td>auto</td>\n",
       "      <td>500</td>\n",
       "      <td>0.85616</td>\n",
       "    </tr>\n",
       "  </tbody>\n",
       "</table>\n",
       "</div>"
      ],
      "text/plain": [
       "   criterion  max_depth max_features  n_estimators  Accuracy\n",
       "0       gini         50         auto           400   0.85520\n",
       "1       gini         50         auto           450   0.85692\n",
       "2       gini         50         auto           500   0.85760\n",
       "3       gini         60         auto           400   0.85748\n",
       "4       gini         60         auto           450   0.85752\n",
       "5       gini         60         auto           500   0.85800\n",
       "6       gini         70         auto           400   0.85620\n",
       "7       gini         70         auto           450   0.85592\n",
       "8       gini         70         auto           500   0.85760\n",
       "9       gini        100         auto           400   0.85512\n",
       "10      gini        100         auto           450   0.85616\n",
       "11      gini        100         auto           500   0.85616"
      ]
     },
     "execution_count": 39,
     "metadata": {},
     "output_type": "execute_result"
    }
   ],
   "source": [
    "# print the dataframe\n",
    "# as can be seen best result are from n_estimator 500 (this was highest value we had, so there is \n",
    "# scope to go further than this), max_depth= 60\n",
    "df"
   ]
  },
  {
   "cell_type": "code",
   "execution_count": 34,
   "metadata": {
    "colab": {
     "base_uri": "https://localhost:8080/",
     "height": 488
    },
    "id": "SozcywsM8YFF",
    "outputId": "cf2b6cea-aca6-485a-f2e6-2916c0bd1902"
   },
   "outputs": [
    {
     "data": {
      "text/html": [
       "<div>\n",
       "<style scoped>\n",
       "    .dataframe tbody tr th:only-of-type {\n",
       "        vertical-align: middle;\n",
       "    }\n",
       "\n",
       "    .dataframe tbody tr th {\n",
       "        vertical-align: top;\n",
       "    }\n",
       "\n",
       "    .dataframe thead th {\n",
       "        text-align: right;\n",
       "    }\n",
       "</style>\n",
       "<table border=\"1\" class=\"dataframe\">\n",
       "  <thead>\n",
       "    <tr style=\"text-align: right;\">\n",
       "      <th></th>\n",
       "      <th>gamma</th>\n",
       "      <th>C</th>\n",
       "      <th>Accuracy</th>\n",
       "    </tr>\n",
       "  </thead>\n",
       "  <tbody>\n",
       "    <tr>\n",
       "      <th>5</th>\n",
       "      <td>0.5</td>\n",
       "      <td>10.00</td>\n",
       "      <td>0.89560</td>\n",
       "    </tr>\n",
       "    <tr>\n",
       "      <th>7</th>\n",
       "      <td>1</td>\n",
       "      <td>5.00</td>\n",
       "      <td>0.88968</td>\n",
       "    </tr>\n",
       "    <tr>\n",
       "      <th>8</th>\n",
       "      <td>scale</td>\n",
       "      <td>5.00</td>\n",
       "      <td>0.88964</td>\n",
       "    </tr>\n",
       "    <tr>\n",
       "      <th>3</th>\n",
       "      <td>scale</td>\n",
       "      <td>5.00</td>\n",
       "      <td>0.88964</td>\n",
       "    </tr>\n",
       "    <tr>\n",
       "      <th>2</th>\n",
       "      <td>scale</td>\n",
       "      <td>1.00</td>\n",
       "      <td>0.88360</td>\n",
       "    </tr>\n",
       "    <tr>\n",
       "      <th>6</th>\n",
       "      <td>0.5</td>\n",
       "      <td>0.50</td>\n",
       "      <td>0.86472</td>\n",
       "    </tr>\n",
       "    <tr>\n",
       "      <th>1</th>\n",
       "      <td>scale</td>\n",
       "      <td>0.50</td>\n",
       "      <td>0.85880</td>\n",
       "    </tr>\n",
       "    <tr>\n",
       "      <th>2</th>\n",
       "      <td>2</td>\n",
       "      <td>0.50</td>\n",
       "      <td>0.79384</td>\n",
       "    </tr>\n",
       "    <tr>\n",
       "      <th>3</th>\n",
       "      <td>0.005</td>\n",
       "      <td>5.00</td>\n",
       "      <td>0.76788</td>\n",
       "    </tr>\n",
       "    <tr>\n",
       "      <th>0</th>\n",
       "      <td>0.005</td>\n",
       "      <td>0.05</td>\n",
       "      <td>0.71100</td>\n",
       "    </tr>\n",
       "    <tr>\n",
       "      <th>4</th>\n",
       "      <td>0.05</td>\n",
       "      <td>0.05</td>\n",
       "      <td>0.71036</td>\n",
       "    </tr>\n",
       "    <tr>\n",
       "      <th>9</th>\n",
       "      <td>scale</td>\n",
       "      <td>0.05</td>\n",
       "      <td>0.69644</td>\n",
       "    </tr>\n",
       "    <tr>\n",
       "      <th>0</th>\n",
       "      <td>scale</td>\n",
       "      <td>0.02</td>\n",
       "      <td>0.69644</td>\n",
       "    </tr>\n",
       "    <tr>\n",
       "      <th>1</th>\n",
       "      <td>2</td>\n",
       "      <td>0.05</td>\n",
       "      <td>0.68116</td>\n",
       "    </tr>\n",
       "  </tbody>\n",
       "</table>\n",
       "</div>"
      ],
      "text/plain": [
       "   gamma      C  Accuracy\n",
       "5    0.5  10.00   0.89560\n",
       "7      1   5.00   0.88968\n",
       "8  scale   5.00   0.88964\n",
       "3  scale   5.00   0.88964\n",
       "2  scale   1.00   0.88360\n",
       "6    0.5   0.50   0.86472\n",
       "1  scale   0.50   0.85880\n",
       "2      2   0.50   0.79384\n",
       "3  0.005   5.00   0.76788\n",
       "0  0.005   0.05   0.71100\n",
       "4   0.05   0.05   0.71036\n",
       "9  scale   0.05   0.69644\n",
       "0  scale   0.02   0.69644\n",
       "1      2   0.05   0.68116"
      ]
     },
     "execution_count": 34,
     "metadata": {},
     "output_type": "execute_result"
    }
   ],
   "source": [
    "# results of SVC on Random Grid search\n",
    "svc_grid.sort_values(by = ['Accuracy'], ascending= False)"
   ]
  },
  {
   "cell_type": "markdown",
   "metadata": {
    "id": "MrKJHJJ4FL1i"
   },
   "source": [
    "#### For the SVC it is seen that the higher value of C is warranted for different values of gamma. But as we know higher 'value' of C means less regularization and since we have seen in initial run that SVC is overtting (train accuracy ~ 100 %), hence lets go with C = 5.  Further it is noteworthy that Radial Gaussian Kernel finds the support vector in infinite dimension. While the radial gaussian function cause of its nature makes the influence of nearest neighbours more prominent than the one farther away, gamma (Ƴ) scales the influence, lets keep the gamma low that is  = 0.5."
   ]
  },
  {
   "cell_type": "code",
   "execution_count": 2,
   "metadata": {},
   "outputs": [],
   "source": [
    "import pickle\n",
    "path = '/content/drive/MyDrive/IMDB/'  # path to the folder in google drive where data is saved\n",
    "with open(\"train.pkl\", 'rb') as a, open(\"test.pkl\", 'rb') as b:\n",
    "    d_train = pickle.load(a)   # loading training data\n",
    "    d_test = pickle.load(b)   # loading test data "
   ]
  },
  {
   "cell_type": "code",
   "execution_count": 10,
   "metadata": {
    "id": "6JpFoKtwJ-Hz"
   },
   "outputs": [],
   "source": [
    "# function to include the final models we will keep in the final run\n",
    "def get_models():\n",
    "    from sklearn.linear_model import LogisticRegression   # use this for benchmark\n",
    "    from sklearn.svm import SVC                           # considered as top of its class in kernel methods\n",
    "    from sklearn.ensemble import RandomForestClassifier   # ensemble method participant \n",
    "    from sklearn.model_selection  import RandomizedSearchCV\n",
    "    import pandas as pd\n",
    "    random_state = 7\n",
    "    models=dict()\n",
    "    models['Logistic'] = LogisticRegression()\n",
    "\n",
    "    # running gridsearch on SVC is computationally expensive, however as we can see higher value of C and lower value of gamma is warranted\n",
    "    # we will try the model with two different values of gamma = 0.5, 1 ( as one of these combinations was not tried in RandomGridsearch)\n",
    "    models['SVC: {gamma: 0.5, C:5}'] = SVC(gamma = 0.5, C = 5,random_state = random_state )\n",
    "    models['SVC: {gamma: 1, C:5}'] = SVC(gamma = 1, C = 5,random_state = random_state)\n",
    "\n",
    "\n",
    "    # as we saw that we got best results with 500 which was highest value in our gridsearch we will make one model with\n",
    "    # n_estimators = 1000, and keep max_depth = default.\n",
    "    models['RF: {n_estimators:1000, max_depth:Default}'] = RandomForestClassifier(n_estimators = 1000, random_state = 7)\n",
    "    models['RF:{n_estimators: 500, max_depth:60}'] = RandomForestClassifier(n_estimators = 500, max_depth = 60,\n",
    "                                                                             random_state = 7)\n",
    "    return models\n",
    "\n",
    "def final_statistical_run():\n",
    "  from sklearn.metrics import accuracy_score\n",
    "  import pandas as pd \n",
    "  random_state = 7\n",
    "  report = pd.DataFrame(columns = ['model','TFIDF','Train_Accuracy','Test_accuracy']) \n",
    "  models = get_models()\n",
    "\n",
    "  from sklearn.feature_extraction.text import TfidfVectorizer\n",
    "  from sklearn.model_selection import train_test_split\n",
    "\n",
    "  X_train, y_train = d_train.text,d_train.label\n",
    "  X_test, y_test = d_test.text,d_test.label\n",
    "  train_reviews = lemmatize_text(X_train)\n",
    "  test_reviews = lemmatize_text(X_test)\n",
    "\n",
    "  # same Tfidf transform ( Not dropping stop words, trust the wisdom of many)\n",
    "  tfidf  = TfidfVectorizer(ngram_range=(1, 2)).fit(train_reviews)  # fit on the train\n",
    "  dfx = tfidf.transform(train_reviews)    # transform the train\n",
    "  dfxtest = tfidf.transform(test_reviews) # transform the test using same object/model\n",
    "\n",
    "  for name,model in models.items():   # iterating through models\n",
    "    model.fit(dfx, y_train)\n",
    "    y_train_predict = model.predict(dfx)\n",
    "    y_test_predict = model.predict(dfxtest)\n",
    "    train_accuracy = accuracy_score(y_train,y_train_predict)\n",
    "    test_accuracy = accuracy_score(y_test, y_test_predict)\n",
    "    report.loc[len(report)] = [name,'Default',train_accuracy,test_accuracy]\n",
    "    print(\"Accuracy on test for {}: {}\".format(name,test_accuracy))\n",
    "\n",
    "  # Lets change the Tf_idf with respect to minimum occurence atleast, \n",
    "  # drop the words which have count < 10.\n",
    "  # Though as can be seen the results are not that impressive so comment \n",
    "  # out the following code except 'return'\n",
    "  \n",
    "  tfidf  = TfidfVectorizer(ngram_range=(1, 2), min_df = 10).fit(train_reviews)  # fit on the train\n",
    "  # min_df : if float then takes frequency if int then takes absolute count into consideration.\n",
    "  dfx = tfidf.transform(train_reviews)    # transform the train\n",
    "  dfxtest = tfidf.transform(test_reviews) # transform the test using same object/model\n",
    "\n",
    "  for name,model in models.items():   # iterating through models\n",
    "    model.fit(dfx, y_train)\n",
    "    y_train_predict = model.predict(dfx)\n",
    "    y_test_predict = model.predict(dfxtest)\n",
    "    train_accuracy = accuracy_score(y_train,y_train_predict)\n",
    "    test_accuracy = accuracy_score(y_test, y_test_predict)\n",
    "    report.loc[len(report)] = [name,'min_df:10',train_accuracy,test_accuracy]\n",
    "    print(\"Accuracy on test for {}: {}\".format(name,test_accuracy))\n",
    "\n",
    "  return report\n"
   ]
  },
  {
   "cell_type": "code",
   "execution_count": 11,
   "metadata": {},
   "outputs": [
    {
     "name": "stdout",
     "output_type": "stream",
     "text": [
      "Accuracy on test for Logistic: 0.8858\n",
      "Accuracy on test for SVC: {gamma: 0.5, C:5}: 0.9012\n",
      "Accuracy on test for SVC: {gamma: 1, C:5}: 0.89716\n",
      "Accuracy on test for RF: {n_estimators:1000, max_depth:Default}: 0.8606\n",
      "Accuracy on test for RF:{n_estimators: 500, max_depth:60}: 0.86028\n",
      "Accuracy on test for Logistic: 0.89196\n",
      "Accuracy on test for SVC: {gamma: 0.5, C:5}: 0.89924\n",
      "Accuracy on test for SVC: {gamma: 1, C:5}: 0.90092\n",
      "Accuracy on test for RF: {n_estimators:1000, max_depth:Default}: 0.86156\n",
      "Accuracy on test for RF:{n_estimators: 500, max_depth:60}: 0.85944\n",
      "                                        model      TFIDF  Train_Accuracy  \\\n",
      "0                                    Logistic    Default         0.95660   \n",
      "1                      SVC: {gamma: 0.5, C:5}    Default         1.00000   \n",
      "2                        SVC: {gamma: 1, C:5}    Default         1.00000   \n",
      "3  RF: {n_estimators:1000, max_depth:Default}    Default         1.00000   \n",
      "4        RF:{n_estimators: 500, max_depth:60}    Default         0.99392   \n",
      "5                                    Logistic  min_df:10         0.94528   \n",
      "6                      SVC: {gamma: 0.5, C:5}  min_df:10         0.99996   \n",
      "7                        SVC: {gamma: 1, C:5}  min_df:10         1.00000   \n",
      "8  RF: {n_estimators:1000, max_depth:Default}  min_df:10         1.00000   \n",
      "9        RF:{n_estimators: 500, max_depth:60}  min_df:10         0.99828   \n",
      "\n",
      "   Test_accuracy  \n",
      "0        0.88580  \n",
      "1        0.90120  \n",
      "2        0.89716  \n",
      "3        0.86060  \n",
      "4        0.86028  \n",
      "5        0.89196  \n",
      "6        0.89924  \n",
      "7        0.90092  \n",
      "8        0.86156  \n",
      "9        0.85944  \n",
      "Wall time: 5h 18min 35s\n"
     ]
    }
   ],
   "source": [
    "%%time\n",
    "report = final_statistical_run()"
   ]
  },
  {
   "cell_type": "code",
   "execution_count": 13,
   "metadata": {},
   "outputs": [
    {
     "name": "stdout",
     "output_type": "stream",
     "text": [
      "                                        model      TFIDF  Train_Accuracy  \\\n",
      "0                                    Logistic    Default         0.95660   \n",
      "1                      SVC: {gamma: 0.5, C:5}    Default         1.00000   \n",
      "2                        SVC: {gamma: 1, C:5}    Default         1.00000   \n",
      "3  RF: {n_estimators:1000, max_depth:Default}    Default         1.00000   \n",
      "4        RF:{n_estimators: 500, max_depth:60}    Default         0.99392   \n",
      "5                                    Logistic  min_df:10         0.94528   \n",
      "6                      SVC: {gamma: 0.5, C:5}  min_df:10         0.99996   \n",
      "7                        SVC: {gamma: 1, C:5}  min_df:10         1.00000   \n",
      "8  RF: {n_estimators:1000, max_depth:Default}  min_df:10         1.00000   \n",
      "9        RF:{n_estimators: 500, max_depth:60}  min_df:10         0.99828   \n",
      "\n",
      "   Test_accuracy  \n",
      "0        0.88580  \n",
      "1        0.90120  \n",
      "2        0.89716  \n",
      "3        0.86060  \n",
      "4        0.86028  \n",
      "5        0.89196  \n",
      "6        0.89924  \n",
      "7        0.90092  \n",
      "8        0.86156  \n",
      "9        0.85944  \n"
     ]
    }
   ],
   "source": [
    "# saving the file, as this run was done on the local machine, therefore path is not provided,\n",
    "# if want to save the results to colab directory created previously then use report.to_csv('content/drive/Mydrive/IMDB' + filename)\n",
    "\n",
    "print(report)\n",
    "report.to_csv('statistical_final.csv')"
   ]
  },
  {
   "cell_type": "code",
   "execution_count": 30,
   "metadata": {
    "id": "yhs0OsW0e0r1"
   },
   "outputs": [],
   "source": [
    "import seaborn as sns\n",
    "import matplotlib.pyplot as plt\n",
    "import pandas as pd\n",
    "import numpy as np\n",
    "\n",
    "# to show the values on barplot. \n",
    "# code from https://stackoverflow.com/questions/43214978/seaborn-barplot-displaying-values\n",
    "\n",
    "def show_values_on_bars(axs, h_v=\"v\", space=0.4):\n",
    "    def _show_on_single_plot(ax):\n",
    "        if h_v == \"v\":\n",
    "            for p in ax.patches:\n",
    "                _x = p.get_x() + p.get_width() / 2\n",
    "                _y = p.get_y() + p.get_height()\n",
    "                value = float(p.get_height())\n",
    "                ax.text(_x, _y, value, ha=\"center\") \n",
    "        elif h_v == \"h\":\n",
    "            for p in ax.patches:\n",
    "                _x = p.get_x() + p.get_width() + float(space)\n",
    "                _y = p.get_y() + p.get_height()\n",
    "                value = float(p.get_width())\n",
    "                ax.text(_x, _y, value, ha=\"left\")\n",
    "\n",
    "    if isinstance(axs, np.ndarray):\n",
    "        for idx, ax in np.ndenumerate(axs):\n",
    "            _show_on_single_plot(ax)\n",
    "    else:\n",
    "        _show_on_single_plot(axs)\n",
    "\n",
    "def model_plot(df):\n",
    "   \n",
    "  # some fancy thing to make plots nice, you can different palette types and style\n",
    "  # https://seaborn.pydata.org/tutorial/color_palettes.html\n",
    "  \n",
    "  sns.set_palette(\"pastel\")\n",
    "  sns.set(style=\"darkgrid\")\n",
    "  fig, ax = plt.subplots( figsize=(20,6))\n",
    "\n",
    "  # hue type for train vs test accuracy\n",
    "  a = sns.barplot(data=df, x=\"model\", y= 'Accuracy Score', hue=\"Type\", ax = ax)\n",
    "  a.set_title('Accuracy Score for Models')\n",
    "  show_values_on_bars(a, \"v\", 0.5)\n",
    "  fig.savefig(\"Finalplot_statistical_model\"+ '.png')"
   ]
  },
  {
   "cell_type": "code",
   "execution_count": 31,
   "metadata": {},
   "outputs": [
    {
     "data": {
      "image/png": "[encoded data removed]",
      "text/plain": [
       "<Figure size 1440x432 with 1 Axes>"
      ]
     },
     "metadata": {},
     "output_type": "display_data"
    }
   ],
   "source": [
    "\n",
    "# Reshaping dataframe in  way to make it compatible to pass it to seaborn\n",
    "df = pd.melt(report, id_vars=[\"model\",\"TFIDF\"], var_name=\"Type\", value_name=\"Accuracy Score\")\n",
    "\n",
    "# As no significant difference noticed for min_df = 10 (only Logistic Regression improved), keeping only default setting of TFIDF\n",
    "model_plot(df[df.TFIDF == 'Default'])"
   ]
  },
  {
   "cell_type": "markdown",
   "metadata": {},
   "source": [
    "Advantages: Simple to build, easy to run (computationaly less expensive except maybe SVC), can capture high dimensional relationship betweeen features to predict the target class. Quick and easy to deploy until accuracy benchmark standard are not very high.\n",
    "Disadvantges: They lack the capability to capture semantics and word reprentation like we do in natural language. The models at best are trying to build complex coorelation relationship which can lead to better prediction. Though the task at hand is simple, however if we were to make it more complicated like divide the reviews on more than 2 classes then these models can drift away (this is just anticipation), as they lack capability to capture the underlying formal semantic representation of words.\n",
    "\n",
    "Takeaway: These models are good to deploy and use as starting point, however with problem becoming more complicated (sequence predcition, spell check etc) they might not be suited. Further the models have limitation to adapt to different language, for Example: if we were to use these models for non-english language then they need to be trained from scratch, further even if we change the problem by marginal like giving the ordinal rating to review, then also we cannot these models but need to build something from scratch."
   ]
  }
 ],
 "metadata": {
  "colab": {
   "collapsed_sections": [],
   "name": "Statistical_Method_on IMDB_dataset.ipynb",
   "provenance": []
  },
  "kernelspec": {
   "display_name": "Python 3",
   "language": "python",
   "name": "python3"
  },
  "language_info": {
   "codemirror_mode": {
    "name": "ipython",
    "version": 3
   },
   "file_extension": ".py",
   "mimetype": "text/x-python",
   "name": "python",
   "nbconvert_exporter": "python",
   "pygments_lexer": "ipython3",
   "version": "3.8.5"
  }
 },
 "nbformat": 4,
 "nbformat_minor": 1
}
