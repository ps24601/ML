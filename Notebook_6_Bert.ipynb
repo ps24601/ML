{
 "cells": [
  {
   "cell_type": "markdown",
   "metadata": {},
   "source": [
    "Prashant P. Singh - 8448315"
   ]
  },
  {
   "cell_type": "markdown",
   "metadata": {
    "id": "bxjC0Hd7cDP8"
   },
   "source": [
    "As we have seen in case of embedding, there is huge amount of effort which goes in trianing the model and coming-up with representation matrix for different context. The good point is by using the Transfer learning approach we can use these pretrained embedding and make use of those. However what if the same can be said about the models. \n",
    "\n",
    "'Attention is all you need': Transformers are new buzz in the feild of Deeplearning and NLP and it is said the Transformer can revolutionize the field (its already happening). The contextual embedding combined with Transformer architecture was next way forward and right now there are models which are way superior than all rpevious avatars and models. However training such models from scratch is not possible and not advisible (until really needed and you have resource too). This transfer learning approach allows us to make use of model built by big companies like ( google, facebook etc) and use 'adapt' them to our need.\n",
    "\n",
    "For any pretrained model as has been highlighted by representation learning, the inner layer are the one which extract more basic feature and the outer layer are the ones which are building complex feature (thereby adapting to the task at hand) and are more prone to influence from the task we are doing. In this regard the best practice is to remove the last few layers, add your own Dense network and then train the model. \n",
    "\n",
    "Lets use the BERT (Bidirectional Encoder Representations  from Transformers, Google, 2018).[Link](https://arxiv.org/abs/1810.04805)\n",
    "\n",
    "Important library:'[Hugging face](https://huggingface.co/docs/transformers/training )' for diffrent kind of transofrmer based models with contextual embedding. Using k-train we can use the hugging face library. \n"
   ]
  },
  {
   "cell_type": "code",
   "execution_count": 1,
   "metadata": {
    "colab": {
     "base_uri": "https://localhost:8080/"
    },
    "id": "hp0R7n-Ef2l4",
    "outputId": "b10238b2-696f-46b9-9f7c-7ad4fb2e8425"
   },
   "outputs": [
    {
     "name": "stdout",
     "output_type": "stream",
     "text": [
      "Collecting tensorflow_addons\n",
      "  Downloading tensorflow_addons-0.15.0-cp37-cp37m-manylinux_2_12_x86_64.manylinux2010_x86_64.whl (1.1 MB)\n",
      "\u001b[K     |████████████████████████████████| 1.1 MB 4.3 MB/s \n",
      "\u001b[?25hRequirement already satisfied: typeguard>=2.7 in /usr/local/lib/python3.7/dist-packages (from tensorflow_addons) (2.7.1)\n",
      "Installing collected packages: tensorflow-addons\n",
      "Successfully installed tensorflow-addons-0.15.0\n"
     ]
    }
   ],
   "source": [
    "# for RADAM optimizer\n",
    "! pip install tensorflow_addons"
   ]
  },
  {
   "cell_type": "code",
   "execution_count": 5,
   "metadata": {
    "colab": {
     "base_uri": "https://localhost:8080/"
    },
    "id": "2xG1LrXPzEx8",
    "outputId": "1a0848ea-6269-4cfd-c4a9-272b63f92246"
   },
   "outputs": [
    {
     "name": "stdout",
     "output_type": "stream",
     "text": [
      "Collecting ktrain\n",
      "  Downloading ktrain-0.28.3.tar.gz (25.3 MB)\n",
      "\u001b[K     |████████████████████████████████| 25.3 MB 1.6 MB/s \n",
      "\u001b[?25hCollecting scikit-learn==0.23.2\n",
      "  Downloading scikit_learn-0.23.2-cp37-cp37m-manylinux1_x86_64.whl (6.8 MB)\n",
      "\u001b[K     |████████████████████████████████| 6.8 MB 20.7 MB/s \n",
      "\u001b[?25hRequirement already satisfied: matplotlib>=3.0.0 in /usr/local/lib/python3.7/dist-packages (from ktrain) (3.2.2)\n",
      "Requirement already satisfied: pandas>=1.0.1 in /usr/local/lib/python3.7/dist-packages (from ktrain) (1.1.5)\n",
      "Requirement already satisfied: fastprogress>=0.1.21 in /usr/local/lib/python3.7/dist-packages (from ktrain) (1.0.0)\n",
      "Requirement already satisfied: requests in /usr/local/lib/python3.7/dist-packages (from ktrain) (2.23.0)\n",
      "Requirement already satisfied: joblib in /usr/local/lib/python3.7/dist-packages (from ktrain) (1.1.0)\n",
      "Requirement already satisfied: packaging in /usr/local/lib/python3.7/dist-packages (from ktrain) (21.3)\n",
      "Collecting langdetect\n",
      "  Downloading langdetect-1.0.9.tar.gz (981 kB)\n",
      "\u001b[K     |████████████████████████████████| 981 kB 50.9 MB/s \n",
      "\u001b[?25hRequirement already satisfied: jieba in /usr/local/lib/python3.7/dist-packages (from ktrain) (0.42.1)\n",
      "Collecting cchardet\n",
      "  Downloading cchardet-2.1.7-cp37-cp37m-manylinux2010_x86_64.whl (263 kB)\n",
      "\u001b[K     |████████████████████████████████| 263 kB 51.3 MB/s \n",
      "\u001b[?25hRequirement already satisfied: chardet in /usr/local/lib/python3.7/dist-packages (from ktrain) (3.0.4)\n",
      "Collecting syntok\n",
      "  Downloading syntok-1.3.1.tar.gz (23 kB)\n",
      "Collecting seqeval==0.0.19\n",
      "  Downloading seqeval-0.0.19.tar.gz (30 kB)\n",
      "Collecting transformers<=4.10.3,>=4.0.0\n",
      "  Downloading transformers-4.10.3-py3-none-any.whl (2.8 MB)\n",
      "\u001b[K     |████████████████████████████████| 2.8 MB 39.5 MB/s \n",
      "\u001b[?25hCollecting sentencepiece\n",
      "  Downloading sentencepiece-0.1.96-cp37-cp37m-manylinux_2_17_x86_64.manylinux2014_x86_64.whl (1.2 MB)\n",
      "\u001b[K     |████████████████████████████████| 1.2 MB 45.4 MB/s \n",
      "\u001b[?25hCollecting keras_bert>=0.86.0\n",
      "  Downloading keras-bert-0.88.0.tar.gz (26 kB)\n",
      "Collecting whoosh\n",
      "  Downloading Whoosh-2.7.4-py2.py3-none-any.whl (468 kB)\n",
      "\u001b[K     |████████████████████████████████| 468 kB 48.4 MB/s \n",
      "\u001b[?25hRequirement already satisfied: threadpoolctl>=2.0.0 in /usr/local/lib/python3.7/dist-packages (from scikit-learn==0.23.2->ktrain) (3.0.0)\n",
      "Requirement already satisfied: scipy>=0.19.1 in /usr/local/lib/python3.7/dist-packages (from scikit-learn==0.23.2->ktrain) (1.4.1)\n",
      "Requirement already satisfied: numpy>=1.13.3 in /usr/local/lib/python3.7/dist-packages (from scikit-learn==0.23.2->ktrain) (1.19.5)\n",
      "Requirement already satisfied: Keras>=2.2.4 in /usr/local/lib/python3.7/dist-packages (from seqeval==0.0.19->ktrain) (2.7.0)\n",
      "Collecting keras-transformer>=0.39.0\n",
      "  Downloading keras-transformer-0.39.0.tar.gz (11 kB)\n",
      "Collecting keras-pos-embd>=0.12.0\n",
      "  Downloading keras-pos-embd-0.12.0.tar.gz (6.0 kB)\n",
      "Collecting keras-multi-head>=0.28.0\n",
      "  Downloading keras-multi-head-0.28.0.tar.gz (14 kB)\n",
      "Collecting keras-layer-normalization>=0.15.0\n",
      "  Downloading keras-layer-normalization-0.15.0.tar.gz (4.2 kB)\n",
      "Collecting keras-position-wise-feed-forward>=0.7.0\n",
      "  Downloading keras-position-wise-feed-forward-0.7.0.tar.gz (4.5 kB)\n",
      "Collecting keras-embed-sim>=0.9.0\n",
      "  Downloading keras-embed-sim-0.9.0.tar.gz (4.1 kB)\n",
      "Collecting keras-self-attention>=0.50.0\n",
      "  Downloading keras-self-attention-0.50.0.tar.gz (12 kB)\n",
      "Requirement already satisfied: kiwisolver>=1.0.1 in /usr/local/lib/python3.7/dist-packages (from matplotlib>=3.0.0->ktrain) (1.3.2)\n",
      "Requirement already satisfied: cycler>=0.10 in /usr/local/lib/python3.7/dist-packages (from matplotlib>=3.0.0->ktrain) (0.11.0)\n",
      "Requirement already satisfied: python-dateutil>=2.1 in /usr/local/lib/python3.7/dist-packages (from matplotlib>=3.0.0->ktrain) (2.8.2)\n",
      "Requirement already satisfied: pyparsing!=2.0.4,!=2.1.2,!=2.1.6,>=2.0.1 in /usr/local/lib/python3.7/dist-packages (from matplotlib>=3.0.0->ktrain) (3.0.6)\n",
      "Requirement already satisfied: pytz>=2017.2 in /usr/local/lib/python3.7/dist-packages (from pandas>=1.0.1->ktrain) (2018.9)\n",
      "Requirement already satisfied: six>=1.5 in /usr/local/lib/python3.7/dist-packages (from python-dateutil>=2.1->matplotlib>=3.0.0->ktrain) (1.15.0)\n",
      "Collecting tokenizers<0.11,>=0.10.1\n",
      "  Downloading tokenizers-0.10.3-cp37-cp37m-manylinux_2_5_x86_64.manylinux1_x86_64.manylinux_2_12_x86_64.manylinux2010_x86_64.whl (3.3 MB)\n",
      "\u001b[K     |████████████████████████████████| 3.3 MB 39.4 MB/s \n",
      "\u001b[?25hRequirement already satisfied: tqdm>=4.27 in /usr/local/lib/python3.7/dist-packages (from transformers<=4.10.3,>=4.0.0->ktrain) (4.62.3)\n",
      "Requirement already satisfied: filelock in /usr/local/lib/python3.7/dist-packages (from transformers<=4.10.3,>=4.0.0->ktrain) (3.4.0)\n",
      "Requirement already satisfied: importlib-metadata in /usr/local/lib/python3.7/dist-packages (from transformers<=4.10.3,>=4.0.0->ktrain) (4.8.2)\n",
      "Collecting huggingface-hub>=0.0.12\n",
      "  Downloading huggingface_hub-0.2.1-py3-none-any.whl (61 kB)\n",
      "\u001b[K     |████████████████████████████████| 61 kB 539 kB/s \n",
      "\u001b[?25hRequirement already satisfied: regex!=2019.12.17 in /usr/local/lib/python3.7/dist-packages (from transformers<=4.10.3,>=4.0.0->ktrain) (2019.12.20)\n",
      "Collecting sacremoses\n",
      "  Downloading sacremoses-0.0.46-py3-none-any.whl (895 kB)\n",
      "\u001b[K     |████████████████████████████████| 895 kB 47.6 MB/s \n",
      "\u001b[?25hCollecting pyyaml>=5.1\n",
      "  Downloading PyYAML-6.0-cp37-cp37m-manylinux_2_5_x86_64.manylinux1_x86_64.manylinux_2_12_x86_64.manylinux2010_x86_64.whl (596 kB)\n",
      "\u001b[K     |████████████████████████████████| 596 kB 52.8 MB/s \n",
      "\u001b[?25hRequirement already satisfied: typing-extensions>=3.7.4.3 in /usr/local/lib/python3.7/dist-packages (from huggingface-hub>=0.0.12->transformers<=4.10.3,>=4.0.0->ktrain) (3.10.0.2)\n",
      "Requirement already satisfied: zipp>=0.5 in /usr/local/lib/python3.7/dist-packages (from importlib-metadata->transformers<=4.10.3,>=4.0.0->ktrain) (3.6.0)\n",
      "Requirement already satisfied: idna<3,>=2.5 in /usr/local/lib/python3.7/dist-packages (from requests->ktrain) (2.10)\n",
      "Requirement already satisfied: urllib3!=1.25.0,!=1.25.1,<1.26,>=1.21.1 in /usr/local/lib/python3.7/dist-packages (from requests->ktrain) (1.24.3)\n",
      "Requirement already satisfied: certifi>=2017.4.17 in /usr/local/lib/python3.7/dist-packages (from requests->ktrain) (2021.10.8)\n",
      "Requirement already satisfied: click in /usr/local/lib/python3.7/dist-packages (from sacremoses->transformers<=4.10.3,>=4.0.0->ktrain) (7.1.2)\n",
      "Building wheels for collected packages: ktrain, seqeval, keras-bert, keras-transformer, keras-embed-sim, keras-layer-normalization, keras-multi-head, keras-pos-embd, keras-position-wise-feed-forward, keras-self-attention, langdetect, syntok\n",
      "  Building wheel for ktrain (setup.py) ... \u001b[?25l\u001b[?25hdone\n",
      "  Created wheel for ktrain: filename=ktrain-0.28.3-py3-none-any.whl size=25292659 sha256=00cd061a6538225119e4b6670c4fef39f4d9ddcc382d6191d1fcdc9be6761d7e\n",
      "  Stored in directory: /root/.cache/pip/wheels/6a/7e/c3/f46cdfc2b81c54424923b1405d7e670c35cacc11ada9a47b1c\n",
      "  Building wheel for seqeval (setup.py) ... \u001b[?25l\u001b[?25hdone\n",
      "  Created wheel for seqeval: filename=seqeval-0.0.19-py3-none-any.whl size=9929 sha256=b58ccda1e941e6bca774756ebf0dcc5b4cade3c394dd487db2083a718edb84f0\n",
      "  Stored in directory: /root/.cache/pip/wheels/f5/ac/f1/4e13d7aff05c722d142b7d20a88ad63f9aab11b895411241a4\n",
      "  Building wheel for keras-bert (setup.py) ... \u001b[?25l\u001b[?25hdone\n",
      "  Created wheel for keras-bert: filename=keras_bert-0.88.0-py3-none-any.whl size=34204 sha256=e4e4cb28f53462ada129f6b0e735fcad8565911d8e3a97d882d438f6778d5514\n",
      "  Stored in directory: /root/.cache/pip/wheels/a2/90/cd/c038f2366929a3a5e3414a303b673e10235e802d871d29a835\n",
      "  Building wheel for keras-transformer (setup.py) ... \u001b[?25l\u001b[?25hdone\n",
      "  Created wheel for keras-transformer: filename=keras_transformer-0.39.0-py3-none-any.whl size=12842 sha256=ed52f7aaeb39579431e93b33f3203b2963207ce7d9ee400ba1a0ab5657774beb\n",
      "  Stored in directory: /root/.cache/pip/wheels/bc/01/e0/5a1a14bed6726f2ed73f7917d2d2c2d4081d2c88426dea07ce\n",
      "  Building wheel for keras-embed-sim (setup.py) ... \u001b[?25l\u001b[?25hdone\n",
      "  Created wheel for keras-embed-sim: filename=keras_embed_sim-0.9.0-py3-none-any.whl size=4504 sha256=c21ac7f3ee25c4a11173ce9cb393a670c7be1387a7b0339da58b5d3431ddb841\n",
      "  Stored in directory: /root/.cache/pip/wheels/a8/1e/d2/9bc15513dd2f8b9de3e628b3aa9d2de49e721deef6bbd1497e\n",
      "  Building wheel for keras-layer-normalization (setup.py) ... \u001b[?25l\u001b[?25hdone\n",
      "  Created wheel for keras-layer-normalization: filename=keras_layer_normalization-0.15.0-py3-none-any.whl size=5224 sha256=090cacaba113564e37f09ddacedce2a5bd614f54eb4689aac804e9725fc2ddbc\n",
      "  Stored in directory: /root/.cache/pip/wheels/4d/be/fe/55422f77ac11fe6ddcb471198038de8a26b5a4dd1557883c1e\n",
      "  Building wheel for keras-multi-head (setup.py) ... \u001b[?25l\u001b[?25hdone\n",
      "  Created wheel for keras-multi-head: filename=keras_multi_head-0.28.0-py3-none-any.whl size=15559 sha256=e44d06b4f626d49c7f79b87ba5f465793ee96345764da838d948df83aa80cd79\n",
      "  Stored in directory: /root/.cache/pip/wheels/79/4a/ea/9503ab5a02201dfb8635ba2cc8f30844661623c684a5b44472\n",
      "  Building wheel for keras-pos-embd (setup.py) ... \u001b[?25l\u001b[?25hdone\n",
      "  Created wheel for keras-pos-embd: filename=keras_pos_embd-0.12.0-py3-none-any.whl size=7469 sha256=234ece9bf2ce6006f85eb88baa6f5249fc45f6b194514eb6c92207e4cb381f32\n",
      "  Stored in directory: /root/.cache/pip/wheels/77/99/fd/dd98f4876c3ebbef7aab0dbfbd37bca41d7db37d3a28b2cb09\n",
      "  Building wheel for keras-position-wise-feed-forward (setup.py) ... \u001b[?25l\u001b[?25hdone\n",
      "  Created wheel for keras-position-wise-feed-forward: filename=keras_position_wise_feed_forward-0.7.0-py3-none-any.whl size=5541 sha256=382ce9edefa86e596bad42782aa2d8f6e02dde83ec3e4d32b88ee241f1eb3290\n",
      "  Stored in directory: /root/.cache/pip/wheels/2d/12/02/1ad455c4f181cda1a4e60c5445855853d5c2ea91f942586a04\n",
      "  Building wheel for keras-self-attention (setup.py) ... \u001b[?25l\u001b[?25hdone\n",
      "  Created wheel for keras-self-attention: filename=keras_self_attention-0.50.0-py3-none-any.whl size=19414 sha256=4a9c0e8fdd5abacacd7022bd1fbb8a3a72783309c5a36cd47a66caccc7bfff92\n",
      "  Stored in directory: /root/.cache/pip/wheels/92/7a/a3/231bef5803298e7ec1815215bc0613239cb1e9c03c57b13c14\n",
      "  Building wheel for langdetect (setup.py) ... \u001b[?25l\u001b[?25hdone\n",
      "  Created wheel for langdetect: filename=langdetect-1.0.9-py3-none-any.whl size=993242 sha256=2a316d790bda7f2b5992e284bc178dc95ec4ba4e6b84d57deabdd5644d2db0bd\n",
      "  Stored in directory: /root/.cache/pip/wheels/c5/96/8a/f90c59ed25d75e50a8c10a1b1c2d4c402e4dacfa87f3aff36a\n",
      "  Building wheel for syntok (setup.py) ... \u001b[?25l\u001b[?25hdone\n",
      "  Created wheel for syntok: filename=syntok-1.3.1-py3-none-any.whl size=20917 sha256=f313ebabfa5ab301efe7c0c0f66ff494a88516bcd691ff1a4c88d8ca19f66fa2\n",
      "  Stored in directory: /root/.cache/pip/wheels/5e/c2/33/e5d7d8f2f8b0c391d76bf82b844c3151bf23a84d75d02b185f\n",
      "Successfully built ktrain seqeval keras-bert keras-transformer keras-embed-sim keras-layer-normalization keras-multi-head keras-pos-embd keras-position-wise-feed-forward keras-self-attention langdetect syntok\n",
      "Installing collected packages: keras-self-attention, pyyaml, keras-position-wise-feed-forward, keras-pos-embd, keras-multi-head, keras-layer-normalization, keras-embed-sim, tokenizers, sacremoses, keras-transformer, huggingface-hub, whoosh, transformers, syntok, seqeval, sentencepiece, scikit-learn, langdetect, keras-bert, cchardet, ktrain\n",
      "  Attempting uninstall: pyyaml\n",
      "    Found existing installation: PyYAML 3.13\n",
      "    Uninstalling PyYAML-3.13:\n",
      "      Successfully uninstalled PyYAML-3.13\n",
      "  Attempting uninstall: scikit-learn\n",
      "    Found existing installation: scikit-learn 1.0.1\n",
      "    Uninstalling scikit-learn-1.0.1:\n",
      "      Successfully uninstalled scikit-learn-1.0.1\n",
      "\u001b[31mERROR: pip's dependency resolver does not currently take into account all the packages that are installed. This behaviour is the source of the following dependency conflicts.\n",
      "imbalanced-learn 0.8.1 requires scikit-learn>=0.24, but you have scikit-learn 0.23.2 which is incompatible.\u001b[0m\n",
      "Successfully installed cchardet-2.1.7 huggingface-hub-0.2.1 keras-bert-0.88.0 keras-embed-sim-0.9.0 keras-layer-normalization-0.15.0 keras-multi-head-0.28.0 keras-pos-embd-0.12.0 keras-position-wise-feed-forward-0.7.0 keras-self-attention-0.50.0 keras-transformer-0.39.0 ktrain-0.28.3 langdetect-1.0.9 pyyaml-6.0 sacremoses-0.0.46 scikit-learn-0.23.2 sentencepiece-0.1.96 seqeval-0.0.19 syntok-1.3.1 tokenizers-0.10.3 transformers-4.10.3 whoosh-2.7.4\n"
     ]
    }
   ],
   "source": [
    "# we wil be using the ktrain for loading pretrained models and embedding for next steps as this takes care of preprcoessing automatically behind the curtain.\n",
    "# https://github.com/amaiya/ktrain\n",
    "! pip install ktrain"
   ]
  },
  {
   "cell_type": "code",
   "execution_count": 2,
   "metadata": {
    "id": "b3ZITCQ4eIbZ"
   },
   "outputs": [],
   "source": [
    "# some packages and library we will need\n",
    "import tensorflow as tf\n",
    "from tensorflow_addons.optimizers import RectifiedAdam\n",
    "import tensorflow_hub as hub\n",
    "import os\n",
    "import shutil\n",
    "import matplotlib.pyplot as plt\n"
   ]
  },
  {
   "cell_type": "code",
   "execution_count": 3,
   "metadata": {
    "colab": {
     "base_uri": "https://localhost:8080/"
    },
    "id": "aBpEO-EkhWje",
    "outputId": "e53997a9-ffb4-4481-dafe-0fc7d1564263"
   },
   "outputs": [
    {
     "name": "stdout",
     "output_type": "stream",
     "text": [
      "Mounted at /content/drive\n"
     ]
    }
   ],
   "source": [
    "# Lets mount the Google Drive and acccess the data\n",
    "from google.colab import drive\n",
    "drive.mount('/content/drive')"
   ]
  },
  {
   "cell_type": "code",
   "execution_count": 4,
   "metadata": {
    "id": "Bce3_DF8hdHv"
   },
   "outputs": [],
   "source": [
    "import pickle\n",
    "path = '/content/drive/MyDrive/IMDB/'  # path to the folder in google drive where data is saved\n",
    "with open(path + \"train.pkl\", 'rb') as a, open(path + \"test.pkl\", 'rb') as b:\n",
    "    d_train = pickle.load(a)   # loading training data\n",
    "    d_test = pickle.load(b)   # loading test data "
   ]
  },
  {
   "cell_type": "code",
   "execution_count": 6,
   "metadata": {
    "id": "PayGpXeixNBJ"
   },
   "outputs": [],
   "source": [
    "import ktrain\n",
    "from ktrain import text\n",
    "import tensorflow as tf"
   ]
  },
  {
   "cell_type": "code",
   "execution_count": null,
   "metadata": {
    "id": "h1jMHWeZOLJF"
   },
   "outputs": [],
   "source": [
    "# creating trianing and validation set from train set\n",
    "\n",
    "(x_train, y_train), (x_val, y_val), preproc = ktrain.text.texts_from_df(train_df=d_train,\n",
    "                                                                   text_column = 'text',\n",
    "                                                                   label_columns = 'label',\n",
    "                                                                   val_pct = 0.7,    # training size is kept so low to make the learner plot run faster\n",
    "                                                                   maxlen = 200,\n",
    "                                                                   preprocess_mode = 'bert')"
   ]
  },
  {
   "cell_type": "code",
   "execution_count": 19,
   "metadata": {
    "colab": {
     "base_uri": "https://localhost:8080/"
    },
    "id": "sx2Nr1VUzZib",
    "outputId": "ee7b0425-4403-47e6-cf7b-7262f4268d49"
   },
   "outputs": [
    {
     "name": "stdout",
     "output_type": "stream",
     "text": [
      "Is Multi-Label? False\n",
      "maxlen is 200\n",
      "done.\n"
     ]
    }
   ],
   "source": [
    "model = text.text_classifier('bert',(x_train,y_train) , preproc=preproc)\n",
    "learner = ktrain.get_learner(model, \n",
    "                             train_data=(x_train,y_train), \n",
    "                             val_data=(x_val,y_val), \n",
    "                             batch_size= 6)"
   ]
  },
  {
   "cell_type": "code",
   "execution_count": 21,
   "metadata": {
    "colab": {
     "base_uri": "https://localhost:8080/"
    },
    "id": "MAbh5GxVzzGk",
    "outputId": "c498f1ac-d89f-461d-b29b-cc6d722d3de9"
   },
   "outputs": [
    {
     "name": "stdout",
     "output_type": "stream",
     "text": [
      "simulating training for different learning rates... this may take a few moments...\n"
     ]
    },
    {
     "name": "stderr",
     "output_type": "stream",
     "text": [
      "/usr/local/lib/python3.7/dist-packages/keras/engine/functional.py:1410: CustomMaskWarning: Custom mask layers require a config and must override get_config. When loading, the custom mask layer must be passed to the custom_objects argument.\n",
      "  layer_config = serialize_layer_fn(layer)\n"
     ]
    },
    {
     "name": "stdout",
     "output_type": "stream",
     "text": [
      "Epoch 1/1024\n",
      "2084/2084 [==============================] - 855s 398ms/step - loss: 3.3996 - accuracy: 0.5959\n",
      "\n",
      "\n",
      "done.\n",
      "Please invoke the Learner.lr_plot() method to visually inspect the loss plot to help identify the maximal learning rate associated with falling loss.\n"
     ]
    }
   ],
   "source": [
    "learner.lr_find()             # briefly simulate training to find good learning rate"
   ]
  },
  {
   "cell_type": "code",
   "execution_count": 22,
   "metadata": {
    "colab": {
     "base_uri": "https://localhost:8080/",
     "height": 283
    },
    "id": "0T3zbKfCOkjO",
    "outputId": "d37057bb-fef8-430c-f32c-ba8ab9799183"
   },
   "outputs": [
    {
     "data": {
      "image/png": "[encoded data removed]",
      "text/plain": [
       "<Figure size 432x288 with 1 Axes>"
      ]
     },
     "metadata": {
      "needs_background": "light"
     },
     "output_type": "display_data"
    }
   ],
   "source": [
    "learner.lr_plot()"
   ]
  },
  {
   "cell_type": "markdown",
   "metadata": {
    "id": "JDSv-RSfO0sx"
   },
   "source": [
    "As can be seen above the good range of leanring rate is from 0.00005 to 0.0005. Therefore for this maxlen = 200 we can use the leanring rate with max value as 0.0002 and decaying down till the value of 0.00005. ( Radam is just exactly which can do this for us further it can take care of warm-up phase too.).  However we can make the change to maxlen and see what is the effect of same on learning rate ( which we will do next), for now let's try to find optimal value for number of epochs"
   ]
  },
  {
   "cell_type": "code",
   "execution_count": 11,
   "metadata": {
    "colab": {
     "base_uri": "https://localhost:8080/"
    },
    "id": "BoKdIXuQY96X",
    "outputId": "e59a7251-40e0-4002-a08c-99aa4749cb65"
   },
   "outputs": [
    {
     "name": "stdout",
     "output_type": "stream",
     "text": [
      "Is Multi-Label? False\n",
      "maxlen is 200\n",
      "done.\n"
     ]
    }
   ],
   "source": [
    "model = text.text_classifier('bert',(x_train,y_train) , preproc=preproc)\n",
    "\n",
    "# param for early stopping, number of epoch to wait before terminating the process, if no improvmenet seen for the monitored quantity\n",
    "patience = 2\n",
    "\n",
    "# loss and metrics for the models\n",
    "loss = tf.keras.losses.BinaryCrossentropy()\n",
    "metrics = tf.metrics.BinaryAccuracy()\n",
    "\n",
    "early_stopping = tf.keras.callbacks.EarlyStopping(monitor='val_binary_accuracy',   # as we are using binary accuracy which is same as accuracy for two category\n",
    "                                                  patience=patience,\n",
    "                                                  mode='max', restore_best_weights = False)\n",
    "\n",
    "model.compile(optimizer=RectifiedAdam(learning_rate = 0.0001, warmup_proportion = 0.2, beta_1 = 0.9, \n",
    "                                           total_steps= 3000, weight_decay = 0.05, min_lr= 0.00002),loss= loss, metrics = metrics)\n"
   ]
  },
  {
   "cell_type": "code",
   "execution_count": 12,
   "metadata": {
    "colab": {
     "base_uri": "https://localhost:8080/"
    },
    "id": "TCl9I5HJNAgs",
    "outputId": "ae78274c-b54c-45e6-9b5c-2fedab0b8ad4"
   },
   "outputs": [
    {
     "name": "stdout",
     "output_type": "stream",
     "text": [
      "Epoch 1/6\n",
      "1250/1250 [==============================] - 631s 485ms/step - loss: 0.3523 - binary_accuracy: 0.8374 - val_loss: 0.2476 - val_binary_accuracy: 0.9026\n",
      "Epoch 2/6\n",
      "1250/1250 [==============================] - 602s 482ms/step - loss: 0.1841 - binary_accuracy: 0.9288 - val_loss: 0.2311 - val_binary_accuracy: 0.9140\n",
      "Epoch 3/6\n",
      "1250/1250 [==============================] - 602s 482ms/step - loss: 0.0763 - binary_accuracy: 0.9743 - val_loss: 0.2975 - val_binary_accuracy: 0.9026\n",
      "Epoch 4/6\n",
      "1250/1250 [==============================] - 602s 481ms/step - loss: 0.0415 - binary_accuracy: 0.9876 - val_loss: 0.3187 - val_binary_accuracy: 0.9084\n"
     ]
    },
    {
     "data": {
      "text/plain": [
       "<keras.callbacks.History at 0x7f3a4e017dd0>"
      ]
     },
     "execution_count": 12,
     "metadata": {},
     "output_type": "execute_result"
    }
   ],
   "source": [
    "# Finding epochs value ( Number fo epochs = 4). One can argue that we can keep the epoch value where val-accuracy is highest,\n",
    "# but it is advisable to go beyond that and chose epoch value when training and valid begin to diverge.\n",
    "\n",
    "learner = ktrain.get_learner(model, \n",
    "                             train_data=(x_train,y_train), \n",
    "                             val_data=(x_val,y_val), \n",
    "                             batch_size= 16)\n",
    "\n",
    "# https://github.com/amaiya/ktrain/blob/a871779581eea37c5e0211a3f787af8c7f2e9522/ktrain/core.py#L833\n",
    "# n_cycles* cycle_len = total number of epochs, in each cycle, the optimizer lr gradually decays down.\n",
    "\n",
    "learner.fit(lr = 1e-4,n_cycles= 3, cycle_len = 2, early_stopping= early_stopping)"
   ]
  },
  {
   "cell_type": "code",
   "execution_count": 9,
   "metadata": {
    "colab": {
     "base_uri": "https://localhost:8080/",
     "height": 307
    },
    "id": "HvA77P1t0plj",
    "outputId": "1d47b408-1563-4e9f-e328-7ef6d901a39e"
   },
   "outputs": [
    {
     "name": "stdout",
     "output_type": "stream",
     "text": [
      "detected encoding: utf-8\n",
      "downloading pretrained BERT model (uncased_L-12_H-768_A-12.zip)...\n",
      "[██████████████████████████████████████████████████]\n",
      "extracting pretrained BERT model...\n",
      "done.\n",
      "\n",
      "cleanup downloaded zip...\n",
      "done.\n",
      "\n",
      "preprocessing train...\n",
      "language: en\n"
     ]
    },
    {
     "data": {
      "text/html": [
       "done."
      ],
      "text/plain": [
       "<IPython.core.display.HTML object>"
      ]
     },
     "metadata": {},
     "output_type": "display_data"
    },
    {
     "name": "stdout",
     "output_type": "stream",
     "text": [
      "Is Multi-Label? False\n",
      "preprocessing test...\n",
      "language: en\n"
     ]
    },
    {
     "data": {
      "text/html": [
       "done."
      ],
      "text/plain": [
       "<IPython.core.display.HTML object>"
      ]
     },
     "metadata": {},
     "output_type": "display_data"
    }
   ],
   "source": [
    "# creating trianing and validation set from train set for maxlen = 500 (previous was 200)\n",
    "\n",
    "(x_train, y_train), (x_val, y_val), preproc = ktrain.text.texts_from_df(train_df=d_train,\n",
    "                                                                   text_column = 'text',\n",
    "                                                                   label_columns = 'label',\n",
    "                                                                   val_pct = 0.5,    # training size is kept so low to make the learner plot run faster\n",
    "                                                                   maxlen = 200,\n",
    "                                                                   preprocess_mode = 'bert')"
   ]
  },
  {
   "cell_type": "code",
   "execution_count": 11,
   "metadata": {
    "colab": {
     "base_uri": "https://localhost:8080/"
    },
    "id": "Uggs981x06VY",
    "outputId": "3eda3a4b-f822-4c67-d4a7-c2b78b7acb93"
   },
   "outputs": [
    {
     "name": "stdout",
     "output_type": "stream",
     "text": [
      "Is Multi-Label? False\n",
      "maxlen is 500\n",
      "done.\n",
      "simulating training for different learning rates... this may take a few moments...\n"
     ]
    },
    {
     "name": "stderr",
     "output_type": "stream",
     "text": [
      "/usr/local/lib/python3.7/dist-packages/keras/engine/functional.py:1410: CustomMaskWarning: Custom mask layers require a config and must override get_config. When loading, the custom mask layer must be passed to the custom_objects argument.\n",
      "  layer_config = serialize_layer_fn(layer)\n"
     ]
    },
    {
     "name": "stdout",
     "output_type": "stream",
     "text": [
      "Epoch 1/1024\n",
      "2084/2084 [==============================] - 2309s 1s/step - loss: 3.4755 - accuracy: 0.6152\n",
      "\n",
      "\n",
      "done.\n",
      "Please invoke the Learner.lr_plot() method to visually inspect the loss plot to help identify the maximal learning rate associated with falling loss.\n"
     ]
    }
   ],
   "source": [
    "model = text.text_classifier('bert',train_data, preproc=preproc)\n",
    "learner = ktrain.get_learner(model, \n",
    "                             train_data=train_data, \n",
    "                             val_data=val_data, \n",
    "                             batch_size= 6)\n",
    "\n",
    "# briefly simulate training to find good learning rate\n",
    "learner.lr_find()             "
   ]
  },
  {
   "cell_type": "code",
   "execution_count": 12,
   "metadata": {
    "colab": {
     "base_uri": "https://localhost:8080/",
     "height": 284
    },
    "id": "DWc4_TWM1GOV",
    "outputId": "7d0ee88b-2373-4ce4-d810-012114eda493"
   },
   "outputs": [
    {
     "data": {
      "image/png": "[encoded data removed]",
      "text/plain": [
       "<Figure size 432x288 with 1 Axes>"
      ]
     },
     "metadata": {
      "needs_background": "light"
     },
     "output_type": "display_data"
    }
   ],
   "source": [
    "learner.lr_plot()"
   ]
  },
  {
   "cell_type": "markdown",
   "metadata": {
    "id": "meqMh1NBQzry"
   },
   "source": [
    "Though the graph is similar to previous but we can by looking say that the range of leanring rate is max = 0.0002 and min = 0.00008. We will use these values in Radam."
   ]
  },
  {
   "cell_type": "code",
   "execution_count": 32,
   "metadata": {
    "colab": {
     "base_uri": "https://localhost:8080/"
    },
    "id": "_eEyBWaYFq24",
    "outputId": "f39ada90-81a8-4e58-afa9-ec827064532f"
   },
   "outputs": [
    {
     "name": "stdout",
     "output_type": "stream",
     "text": [
      "Is Multi-Label? False\n",
      "maxlen is 500\n",
      "done.\n"
     ]
    }
   ],
   "source": [
    "model = text.text_classifier('bert',(x_train,y_train) , preproc=preproc)\n",
    "patience = 2\n",
    "loss = tf.keras.losses.BinaryCrossentropy()\n",
    "metrics = tf.metrics.BinaryAccuracy()\n",
    "\n",
    "early_stopping = tf.keras.callbacks.EarlyStopping(monitor='val_binary_accuracy',\n",
    "                                                  patience=patience,\n",
    "                                                  mode='max', restore_best_weights = False)\n",
    "\n",
    "# model = create_model(embedding_matrix= embedding_matrix, embedding_size= embedding_size, lstm_cell_size= 128)\n",
    "model.compile(optimizer=RectifiedAdam(learning_rate = 0.00008, warmup_proportion = 0.2, beta_1 = 0.9, \n",
    "                                           total_steps= 3000, weight_decay = 0.05, min_lr= 0.00002),loss= loss, metrics = metrics)\n"
   ]
  },
  {
   "cell_type": "code",
   "execution_count": 33,
   "metadata": {
    "colab": {
     "base_uri": "https://localhost:8080/"
    },
    "id": "ss1gsRhTGNO1",
    "outputId": "297d2d5f-1b5e-40ec-d921-7ab3c6a96c60"
   },
   "outputs": [
    {
     "name": "stdout",
     "output_type": "stream",
     "text": [
      "Epoch 1/8\n",
      "3334/3334 [==============================] - 1856s 548ms/step - loss: 0.2883 - binary_accuracy: 0.8744 - val_loss: 0.1845 - val_binary_accuracy: 0.9268\n",
      "Epoch 2/8\n",
      "3334/3334 [==============================] - 1824s 547ms/step - loss: 0.1302 - binary_accuracy: 0.9553 - val_loss: 0.3328 - val_binary_accuracy: 0.9014\n",
      "Epoch 3/8\n",
      "3334/3334 [==============================] - 1823s 547ms/step - loss: 0.0668 - binary_accuracy: 0.9776 - val_loss: 0.2504 - val_binary_accuracy: 0.9208\n"
     ]
    },
    {
     "data": {
      "text/plain": [
       "<keras.callbacks.History at 0x7f3667f70f10>"
      ]
     },
     "execution_count": 33,
     "metadata": {},
     "output_type": "execute_result"
    }
   ],
   "source": [
    "# Finding epochs value ( Number fo epochs = 4). One can argue that we can keep the epoch value where val-accuracy is highest,\n",
    "# but it is advisable to go beyond that and chose epoch value when training and valid begin to diverge.\n",
    "\n",
    "learner = ktrain.get_learner(model, \n",
    "                             train_data=(x_train,y_train), \n",
    "                             val_data=(x_val,y_val), \n",
    "                             batch_size= 6)\n",
    "learner.fit(lr = 1e-4,n_cycles= 4, cycle_len = 2, callbacks= [early_stopping])"
   ]
  },
  {
   "cell_type": "markdown",
   "metadata": {
    "id": "YC8ZolgjXwBH"
   },
   "source": [
    "We can now make final run on the data set for amxlen = 200 and maxlen = 500"
   ]
  },
  {
   "cell_type": "code",
   "execution_count": 7,
   "metadata": {
    "colab": {
     "base_uri": "https://localhost:8080/",
     "height": 544
    },
    "id": "phQhZl2NpQtQ",
    "outputId": "0a8e93d7-295f-49bb-c4c5-000e0c3b233f"
   },
   "outputs": [
    {
     "name": "stdout",
     "output_type": "stream",
     "text": [
      "['not_label', 'label']\n",
      "   not_label  label\n",
      "0        1.0    0.0\n",
      "1        1.0    0.0\n",
      "2        1.0    0.0\n",
      "3        0.0    1.0\n",
      "4        0.0    1.0\n",
      "['not_label', 'label']\n",
      "   not_label  label\n",
      "0        0.0    1.0\n",
      "1        0.0    1.0\n",
      "2        1.0    0.0\n",
      "3        1.0    0.0\n",
      "4        0.0    1.0\n",
      "downloading pretrained BERT model (uncased_L-12_H-768_A-12.zip)...\n",
      "[██████████████████████████████████████████████████]\n",
      "extracting pretrained BERT model...\n",
      "done.\n",
      "\n",
      "cleanup downloaded zip...\n",
      "done.\n",
      "\n",
      "preprocessing train...\n",
      "language: en\n"
     ]
    },
    {
     "data": {
      "text/html": [
       "done."
      ],
      "text/plain": [
       "<IPython.core.display.HTML object>"
      ]
     },
     "metadata": {},
     "output_type": "display_data"
    },
    {
     "name": "stdout",
     "output_type": "stream",
     "text": [
      "Is Multi-Label? False\n",
      "preprocessing test...\n",
      "language: en\n"
     ]
    },
    {
     "data": {
      "text/html": [
       "done."
      ],
      "text/plain": [
       "<IPython.core.display.HTML object>"
      ]
     },
     "metadata": {},
     "output_type": "display_data"
    }
   ],
   "source": [
    "# creating data set for maxlen = 200\n",
    "(x_train, y_train), (x_val, y_val), preproc = ktrain.text.texts_from_df(train_df=d_train,\n",
    "                                                                   text_column = 'text',\n",
    "                                                                   label_columns = 'label',\n",
    "                                                                   val_df = d_test,    # using test data now\n",
    "                                                                   maxlen = 200,\n",
    "                                                                   preprocess_mode = 'bert')"
   ]
  },
  {
   "cell_type": "code",
   "execution_count": 9,
   "metadata": {
    "colab": {
     "base_uri": "https://localhost:8080/"
    },
    "id": "x5tSDXlhy_4d",
    "outputId": "961591f6-1de2-4afe-bde4-16a811586b2f"
   },
   "outputs": [
    {
     "name": "stdout",
     "output_type": "stream",
     "text": [
      "Is Multi-Label? False\n",
      "maxlen is 200\n",
      "done.\n"
     ]
    }
   ],
   "source": [
    "model = text.text_classifier('bert',(x_train,y_train) , preproc=preproc)\n",
    "patience = 2\n",
    "loss = tf.keras.losses.BinaryCrossentropy()\n",
    "metrics = tf.metrics.BinaryAccuracy()\n",
    "\n",
    "model.compile(optimizer=RectifiedAdam(learning_rate = 0.0001, warmup_proportion = 0.2, beta_1 = 0.9, \n",
    "                                           total_steps= 3000, weight_decay = 0.1, min_lr= 0.00002),loss= loss, metrics = metrics)\n",
    "\n"
   ]
  },
  {
   "cell_type": "code",
   "execution_count": 10,
   "metadata": {
    "colab": {
     "base_uri": "https://localhost:8080/"
    },
    "id": "NqNe7RGP0rfR",
    "outputId": "c09d6ce2-9b17-41dd-d975-c4762a5ef66d"
   },
   "outputs": [
    {
     "name": "stdout",
     "output_type": "stream",
     "text": [
      "\n",
      "\n",
      "begin training using onecycle policy with max lr of 0.0001...\n",
      "Epoch 1/4\n",
      "1563/1563 [==============================] - 757s 459ms/step - loss: 0.3739 - binary_accuracy: 0.8228\n",
      "Epoch 2/4\n",
      "1563/1563 [==============================] - 717s 459ms/step - loss: 0.1956 - binary_accuracy: 0.9234\n",
      "Epoch 3/4\n",
      "1563/1563 [==============================] - 716s 458ms/step - loss: 0.0827 - binary_accuracy: 0.9735\n",
      "Epoch 4/4\n",
      "1563/1563 [==============================] - 717s 458ms/step - loss: 0.0484 - binary_accuracy: 0.9852\n"
     ]
    },
    {
     "data": {
      "text/plain": [
       "<keras.callbacks.History at 0x7f98d2bdc310>"
      ]
     },
     "execution_count": 10,
     "metadata": {},
     "output_type": "execute_result"
    }
   ],
   "source": [
    "\n",
    "learner = ktrain.get_learner(model, \n",
    "                             train_data=(x_train,y_train), \n",
    "                             batch_size= 16)\n",
    "                              \n",
    "learner.fit_onecycle(lr = 1e-4,epochs = 4)   # epoch value of 4 is determined from previous run using early stopping"
   ]
  },
  {
   "cell_type": "code",
   "execution_count": 22,
   "metadata": {
    "colab": {
     "base_uri": "https://localhost:8080/",
     "height": 71
    },
    "id": "bKYcb4D7A85i",
    "outputId": "ff907f97-acf0-4c00-b5a6-1395926adefa"
   },
   "outputs": [
    {
     "name": "stdout",
     "output_type": "stream",
     "text": [
      "preprocessing test...\n",
      "language: en\n"
     ]
    },
    {
     "data": {
      "text/html": [
       "done."
      ],
      "text/plain": [
       "<IPython.core.display.HTML object>"
      ]
     },
     "metadata": {},
     "output_type": "display_data"
    }
   ],
   "source": [
    "# preprocessing the test dataset using the transform object 'preproc'\n",
    "x_test, y_test = preproc.preprocess_test(d_test.text, y = d_test.label)"
   ]
  },
  {
   "cell_type": "code",
   "execution_count": 13,
   "metadata": {
    "id": "FdL8R1sfD2zS"
   },
   "outputs": [],
   "source": [
    "# book keeping\n",
    "import pandas as pd\n",
    "report = pd.DataFrame(columns = ['model','Trail_loss','Train_accuracy', 'Test_loss','Test_accuracy']) \n"
   ]
  },
  {
   "cell_type": "code",
   "execution_count": 14,
   "metadata": {
    "colab": {
     "base_uri": "https://localhost:8080/"
    },
    "id": "5PSknXMEDorG",
    "outputId": "c1cbfcdd-8bea-423b-cdde-40cc02f5a565"
   },
   "outputs": [
    {
     "name": "stdout",
     "output_type": "stream",
     "text": [
      "Evaluating on valid set...200d_lr_0.0001\n",
      "782/782 [==============================] - 210s 262ms/step - loss: 0.0168 - binary_accuracy: 0.9971\n",
      "loss=0.0168, accuracy: 99.7080%\n",
      "Evaluating on test set...200d_lr_0.0001\n",
      "782/782 [==============================] - 205s 262ms/step - loss: 0.2811 - binary_accuracy: 0.9121\n",
      "loss=0.2811, accuracy: 91.2080%\n",
      "            model  Trail_loss  Train_accuracy  Test_loss  Test_accuracy\n",
      "0  200d_lr_0.0001    0.016768         0.99708   0.281085        0.91208\n"
     ]
    }
   ],
   "source": [
    "# Evaluation on test data for maxlen = 200, lr = 0.0001\n",
    "\n",
    "name = '200d_lr_0.0001'\n",
    "print(\"Evaluating on valid set...{}\".format(name))\n",
    "(val_loss, val_accuracy) = learner.model.evaluate(x_train, y_train)\n",
    "print(\"loss={:.4f}, accuracy: {:.4f}%\".format(val_loss,val_accuracy * 100))\n",
    "print(\"Evaluating on test set...{}\".format(name))\n",
    "(test_loss, test_accuracy) = learner.model.evaluate(x_test, y_test)\n",
    "print(\"loss={:.4f}, accuracy: {:.4f}%\".format(test_loss,test_accuracy * 100))\n",
    "report.loc[len(report)] = [name,val_loss, val_accuracy, test_loss, test_accuracy]\n",
    "print(report)"
   ]
  },
  {
   "cell_type": "code",
   "execution_count": 28,
   "metadata": {
    "colab": {
     "base_uri": "https://localhost:8080/",
     "height": 398
    },
    "id": "CnRp-9emFfJg",
    "outputId": "fa815495-741d-4579-ebc3-ccf7e0b1f9ab"
   },
   "outputs": [
    {
     "name": "stdout",
     "output_type": "stream",
     "text": [
      "['not_label', 'label']\n",
      "       not_label  label\n",
      "4156         0.0    1.0\n",
      "18325        1.0    0.0\n",
      "18918        0.0    1.0\n",
      "18063        0.0    1.0\n",
      "22337        1.0    0.0\n",
      "['not_label', 'label']\n",
      "       not_label  label\n",
      "22540        0.0    1.0\n",
      "11155        0.0    1.0\n",
      "239          1.0    0.0\n",
      "14311        1.0    0.0\n",
      "9243         1.0    0.0\n",
      "preprocessing train...\n",
      "language: en\n"
     ]
    },
    {
     "data": {
      "text/html": [
       "done."
      ],
      "text/plain": [
       "<IPython.core.display.HTML object>"
      ]
     },
     "metadata": {},
     "output_type": "display_data"
    },
    {
     "name": "stdout",
     "output_type": "stream",
     "text": [
      "Is Multi-Label? False\n",
      "preprocessing test...\n",
      "language: en\n"
     ]
    },
    {
     "data": {
      "text/html": [
       "done."
      ],
      "text/plain": [
       "<IPython.core.display.HTML object>"
      ]
     },
     "metadata": {},
     "output_type": "display_data"
    }
   ],
   "source": [
    "# running the model for maxlen = 500\n",
    "\n",
    "(x_train, y_train), (x_val, y_val), preproc = ktrain.text.texts_from_df(train_df=d_train,\n",
    "                                                                   text_column = 'text',\n",
    "                                                                   label_columns = 'label',\n",
    "                                                                   val_pct = 0.2,\n",
    "                                                                   maxlen = 500,\n",
    "                                                                   preprocess_mode = 'bert')"
   ]
  },
  {
   "cell_type": "code",
   "execution_count": 16,
   "metadata": {
    "colab": {
     "base_uri": "https://localhost:8080/"
    },
    "id": "fONrAHSjGs0U",
    "outputId": "42961b12-bc39-4adf-c0ae-c1a5739e6d25"
   },
   "outputs": [
    {
     "name": "stdout",
     "output_type": "stream",
     "text": [
      "Is Multi-Label? False\n",
      "maxlen is 500\n",
      "done.\n"
     ]
    }
   ],
   "source": [
    "model = text.text_classifier('bert',(x_train,y_train) , preproc=preproc)\n",
    "patience = 2\n",
    "loss = tf.keras.losses.BinaryCrossentropy()\n",
    "metrics = tf.metrics.BinaryAccuracy()\n",
    "\n",
    "model.compile(optimizer=RectifiedAdam(learning_rate = 0.00008, warmup_proportion = 0.2, beta_1 = 0.9, \n",
    "                                           total_steps= 3000, weight_decay = 0.05, min_lr= 0.00002),loss= loss, metrics = metrics)\n"
   ]
  },
  {
   "cell_type": "code",
   "execution_count": 17,
   "metadata": {
    "colab": {
     "base_uri": "https://localhost:8080/"
    },
    "id": "VFXVnNqnG-xQ",
    "outputId": "ff8b334a-3677-4856-c2e6-3b9dda7c264c"
   },
   "outputs": [
    {
     "name": "stdout",
     "output_type": "stream",
     "text": [
      "\n",
      "\n",
      "begin training using onecycle policy with max lr of 8e-05...\n",
      "Epoch 1/3\n",
      "4167/4167 [==============================] - 2192s 517ms/step - loss: 0.2933 - binary_accuracy: 0.8655\n",
      "Epoch 2/3\n",
      "4167/4167 [==============================] - 2150s 516ms/step - loss: 0.1415 - binary_accuracy: 0.9502\n",
      "Epoch 3/3\n",
      "4167/4167 [==============================] - 2150s 516ms/step - loss: 0.0757 - binary_accuracy: 0.9748\n"
     ]
    },
    {
     "data": {
      "text/plain": [
       "<keras.callbacks.History at 0x7f984aeebe50>"
      ]
     },
     "execution_count": 17,
     "metadata": {},
     "output_type": "execute_result"
    }
   ],
   "source": [
    "# fit for maxlen = 500\n",
    "learner = ktrain.get_learner(model, \n",
    "                             train_data=(x_train,y_train), \n",
    "                             batch_size= 6)\n",
    "learner.fit_onecycle(lr = 8e-5,epochs = 3)  # epoch value of 3 determined from previous run using early stopping"
   ]
  },
  {
   "cell_type": "code",
   "execution_count": 19,
   "metadata": {
    "colab": {
     "base_uri": "https://localhost:8080/",
     "height": 235
    },
    "id": "jNpiqfNzghku",
    "outputId": "20a8f6c6-d3c5-4969-b2e7-6251725f5326"
   },
   "outputs": [
    {
     "name": "stdout",
     "output_type": "stream",
     "text": [
      "preprocessing test...\n",
      "language: en\n"
     ]
    },
    {
     "data": {
      "text/html": [
       "done."
      ],
      "text/plain": [
       "<IPython.core.display.HTML object>"
      ]
     },
     "metadata": {},
     "output_type": "display_data"
    },
    {
     "name": "stdout",
     "output_type": "stream",
     "text": [
      "Evaluating on valid set...500d_lr_0.00008\n",
      "782/782 [==============================] - 566s 724ms/step - loss: 0.0313 - binary_accuracy: 0.9928\n",
      "loss=0.0313, accuracy: 99.2800%\n",
      "Evaluating on test set...500d_lr_0.00008\n",
      "782/782 [==============================] - 565s 723ms/step - loss: 0.1898 - binary_accuracy: 0.9318\n",
      "loss=0.1898, accuracy: 93.1800%\n",
      "             model  Trail_loss  Train_accuracy  Test_loss  Test_accuracy\n",
      "0   200d_lr_0.0001    0.016768         0.99708   0.281085        0.91208\n",
      "1  500d_lr_0.00008    0.031273         0.99280   0.189808        0.93180\n"
     ]
    }
   ],
   "source": [
    "x_test, y_test = preproc.preprocess_test(d_test.text, y = d_test.label)\n",
    "name = '500d_lr_0.00008'\n",
    "print(\"Evaluating on valid set...{}\".format(name))\n",
    "(val_loss, val_accuracy) = learner.model.evaluate(x_train, y_train)\n",
    "print(\"loss={:.4f}, accuracy: {:.4f}%\".format(val_loss,val_accuracy * 100))\n",
    "print(\"Evaluating on test set...{}\".format(name))\n",
    "(test_loss, test_accuracy) = learner.model.evaluate(x_test, y_test)\n",
    "print(\"loss={:.4f}, accuracy: {:.4f}%\".format(test_loss,test_accuracy * 100))\n",
    "report.loc[len(report)] = [name,val_loss, val_accuracy, test_loss, test_accuracy]\n",
    "print(report)"
   ]
  },
  {
   "cell_type": "code",
   "execution_count": 20,
   "metadata": {
    "colab": {
     "base_uri": "https://localhost:8080/",
     "height": 112
    },
    "id": "z8T7OroJnXYs",
    "outputId": "63a45b1a-d6ed-48b7-d49e-dbd9027f1dd5"
   },
   "outputs": [
    {
     "data": {
      "text/html": [
       "<div>\n",
       "<style scoped>\n",
       "    .dataframe tbody tr th:only-of-type {\n",
       "        vertical-align: middle;\n",
       "    }\n",
       "\n",
       "    .dataframe tbody tr th {\n",
       "        vertical-align: top;\n",
       "    }\n",
       "\n",
       "    .dataframe thead th {\n",
       "        text-align: right;\n",
       "    }\n",
       "</style>\n",
       "<table border=\"1\" class=\"dataframe\">\n",
       "  <thead>\n",
       "    <tr style=\"text-align: right;\">\n",
       "      <th></th>\n",
       "      <th>model</th>\n",
       "      <th>Trail_loss</th>\n",
       "      <th>Train_accuracy</th>\n",
       "      <th>Test_loss</th>\n",
       "      <th>Test_accuracy</th>\n",
       "    </tr>\n",
       "  </thead>\n",
       "  <tbody>\n",
       "    <tr>\n",
       "      <th>0</th>\n",
       "      <td>200d_lr_0.0001</td>\n",
       "      <td>0.016768</td>\n",
       "      <td>0.99708</td>\n",
       "      <td>0.281085</td>\n",
       "      <td>0.91208</td>\n",
       "    </tr>\n",
       "    <tr>\n",
       "      <th>1</th>\n",
       "      <td>500d_lr_0.00008</td>\n",
       "      <td>0.031273</td>\n",
       "      <td>0.99280</td>\n",
       "      <td>0.189808</td>\n",
       "      <td>0.93180</td>\n",
       "    </tr>\n",
       "  </tbody>\n",
       "</table>\n",
       "</div>"
      ],
      "text/plain": [
       "             model  Trail_loss  Train_accuracy  Test_loss  Test_accuracy\n",
       "0   200d_lr_0.0001    0.016768         0.99708   0.281085        0.91208\n",
       "1  500d_lr_0.00008    0.031273         0.99280   0.189808        0.93180"
      ]
     },
     "execution_count": 20,
     "metadata": {},
     "output_type": "execute_result"
    }
   ],
   "source": [
    "report"
   ]
  },
  {
   "cell_type": "markdown",
   "metadata": {
    "id": "c_TO8bAva-1O"
   },
   "source": [
    "As cen be seen both the models perform above 90% which was the mark acheived by our SVC model. the model with maxlen = 500 is substantially over the mark than SVC and that too using only 20k vocab size ( max_features), hence this can be improved upon further by fine tuning max_features, learning rate (further fine tuning) etc.\n",
    "\n",
    "Refrences:\n",
    "\n",
    "https://github.com/amaiya/ktrain/blob/master/examples/text/IMDb-BERT.ipynb"
   ]
  }
 ],
 "metadata": {
  "accelerator": "GPU",
  "colab": {
   "collapsed_sections": [],
   "name": "Notebook_6_Bert.ipynb",
   "provenance": []
  },
  "kernelspec": {
   "display_name": "Python 3",
   "language": "python",
   "name": "python3"
  },
  "language_info": {
   "codemirror_mode": {
    "name": "ipython",
    "version": 3
   },
   "file_extension": ".py",
   "mimetype": "text/x-python",
   "name": "python",
   "nbconvert_exporter": "python",
   "pygments_lexer": "ipython3",
   "version": "3.8.5"
  }
 },
 "nbformat": 4,
 "nbformat_minor": 1
}
