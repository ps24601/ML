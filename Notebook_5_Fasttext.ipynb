{
 "cells": [
  {
   "cell_type": "markdown",
   "metadata": {
    "id": "YLeOu8Hp29n5"
   },
   "source": [
    "\n",
    "After having tried the previous models lets see the effect of n-grams embeddings (as discussed previosuly)\n",
    "[Fasttext](https://fasttext.cc/docs/en/english-vectors.html)"
   ]
  },
  {
   "cell_type": "code",
   "execution_count": 1,
   "metadata": {
    "colab": {
     "base_uri": "https://localhost:8080/"
    },
    "id": "YqJZTwOK3kpH",
    "outputId": "c23b3473-9926-48f8-b0a7-1bbf24fb4e71"
   },
   "outputs": [
    {
     "name": "stdout",
     "output_type": "stream",
     "text": [
      "Mounted at /content/drive\n"
     ]
    }
   ],
   "source": [
    "# Lets mount the Google Drive and acccess the data\n",
    "from google.colab import drive\n",
    "drive.mount('/content/drive')"
   ]
  },
  {
   "cell_type": "code",
   "execution_count": 2,
   "metadata": {
    "id": "oj11yoeL3pMn"
   },
   "outputs": [],
   "source": [
    "import pickle\n",
    "path = '/content/drive/MyDrive/IMDB/'  # path to the folder in google drive where data is saved\n",
    "with open(path + \"train.pkl\", 'rb') as a, open(path + \"test.pkl\", 'rb') as b:\n",
    "    d_train = pickle.load(a)   # loading training data\n",
    "    d_test = pickle.load(b)   # loading test data "
   ]
  },
  {
   "cell_type": "code",
   "execution_count": 3,
   "metadata": {
    "colab": {
     "base_uri": "https://localhost:8080/"
    },
    "id": "piEtsbAXJkFI",
    "outputId": "1ec438da-b766-400a-fe44-5cb546c89891"
   },
   "outputs": [
    {
     "name": "stdout",
     "output_type": "stream",
     "text": [
      "Collecting ktrain\n",
      "  Downloading ktrain-0.28.3.tar.gz (25.3 MB)\n",
      "\u001b[K     |████████████████████████████████| 25.3 MB 42.6 MB/s \n",
      "\u001b[?25hCollecting scikit-learn==0.23.2\n",
      "  Downloading scikit_learn-0.23.2-cp37-cp37m-manylinux1_x86_64.whl (6.8 MB)\n",
      "\u001b[K     |████████████████████████████████| 6.8 MB 49.7 MB/s \n",
      "\u001b[?25hRequirement already satisfied: matplotlib>=3.0.0 in /usr/local/lib/python3.7/dist-packages (from ktrain) (3.2.2)\n",
      "Requirement already satisfied: pandas>=1.0.1 in /usr/local/lib/python3.7/dist-packages (from ktrain) (1.1.5)\n",
      "Requirement already satisfied: fastprogress>=0.1.21 in /usr/local/lib/python3.7/dist-packages (from ktrain) (1.0.0)\n",
      "Requirement already satisfied: requests in /usr/local/lib/python3.7/dist-packages (from ktrain) (2.23.0)\n",
      "Requirement already satisfied: joblib in /usr/local/lib/python3.7/dist-packages (from ktrain) (1.1.0)\n",
      "Requirement already satisfied: packaging in /usr/local/lib/python3.7/dist-packages (from ktrain) (21.3)\n",
      "Collecting langdetect\n",
      "  Downloading langdetect-1.0.9.tar.gz (981 kB)\n",
      "\u001b[K     |████████████████████████████████| 981 kB 37.0 MB/s \n",
      "\u001b[?25hRequirement already satisfied: jieba in /usr/local/lib/python3.7/dist-packages (from ktrain) (0.42.1)\n",
      "Collecting cchardet\n",
      "  Downloading cchardet-2.1.7-cp37-cp37m-manylinux2010_x86_64.whl (263 kB)\n",
      "\u001b[K     |████████████████████████████████| 263 kB 39.8 MB/s \n",
      "\u001b[?25hRequirement already satisfied: chardet in /usr/local/lib/python3.7/dist-packages (from ktrain) (3.0.4)\n",
      "Collecting syntok\n",
      "  Downloading syntok-1.3.1.tar.gz (23 kB)\n",
      "Collecting seqeval==0.0.19\n",
      "  Downloading seqeval-0.0.19.tar.gz (30 kB)\n",
      "Collecting transformers<=4.10.3,>=4.0.0\n",
      "  Downloading transformers-4.10.3-py3-none-any.whl (2.8 MB)\n",
      "\u001b[K     |████████████████████████████████| 2.8 MB 43.6 MB/s \n",
      "\u001b[?25hCollecting sentencepiece\n",
      "  Downloading sentencepiece-0.1.96-cp37-cp37m-manylinux_2_17_x86_64.manylinux2014_x86_64.whl (1.2 MB)\n",
      "\u001b[K     |████████████████████████████████| 1.2 MB 46.0 MB/s \n",
      "\u001b[?25hCollecting keras_bert>=0.86.0\n",
      "  Downloading keras-bert-0.88.0.tar.gz (26 kB)\n",
      "Collecting whoosh\n",
      "  Downloading Whoosh-2.7.4-py2.py3-none-any.whl (468 kB)\n",
      "\u001b[K     |████████████████████████████████| 468 kB 48.3 MB/s \n",
      "\u001b[?25hRequirement already satisfied: numpy>=1.13.3 in /usr/local/lib/python3.7/dist-packages (from scikit-learn==0.23.2->ktrain) (1.19.5)\n",
      "Requirement already satisfied: scipy>=0.19.1 in /usr/local/lib/python3.7/dist-packages (from scikit-learn==0.23.2->ktrain) (1.4.1)\n",
      "Requirement already satisfied: threadpoolctl>=2.0.0 in /usr/local/lib/python3.7/dist-packages (from scikit-learn==0.23.2->ktrain) (3.0.0)\n",
      "Requirement already satisfied: Keras>=2.2.4 in /usr/local/lib/python3.7/dist-packages (from seqeval==0.0.19->ktrain) (2.7.0)\n",
      "Collecting keras-transformer>=0.39.0\n",
      "  Downloading keras-transformer-0.39.0.tar.gz (11 kB)\n",
      "Collecting keras-pos-embd>=0.12.0\n",
      "  Downloading keras-pos-embd-0.12.0.tar.gz (6.0 kB)\n",
      "Collecting keras-multi-head>=0.28.0\n",
      "  Downloading keras-multi-head-0.28.0.tar.gz (14 kB)\n",
      "Collecting keras-layer-normalization>=0.15.0\n",
      "  Downloading keras-layer-normalization-0.15.0.tar.gz (4.2 kB)\n",
      "Collecting keras-position-wise-feed-forward>=0.7.0\n",
      "  Downloading keras-position-wise-feed-forward-0.7.0.tar.gz (4.5 kB)\n",
      "Collecting keras-embed-sim>=0.9.0\n",
      "  Downloading keras-embed-sim-0.9.0.tar.gz (4.1 kB)\n",
      "Collecting keras-self-attention>=0.50.0\n",
      "  Downloading keras-self-attention-0.50.0.tar.gz (12 kB)\n",
      "Requirement already satisfied: cycler>=0.10 in /usr/local/lib/python3.7/dist-packages (from matplotlib>=3.0.0->ktrain) (0.11.0)\n",
      "Requirement already satisfied: pyparsing!=2.0.4,!=2.1.2,!=2.1.6,>=2.0.1 in /usr/local/lib/python3.7/dist-packages (from matplotlib>=3.0.0->ktrain) (3.0.6)\n",
      "Requirement already satisfied: kiwisolver>=1.0.1 in /usr/local/lib/python3.7/dist-packages (from matplotlib>=3.0.0->ktrain) (1.3.2)\n",
      "Requirement already satisfied: python-dateutil>=2.1 in /usr/local/lib/python3.7/dist-packages (from matplotlib>=3.0.0->ktrain) (2.8.2)\n",
      "Requirement already satisfied: pytz>=2017.2 in /usr/local/lib/python3.7/dist-packages (from pandas>=1.0.1->ktrain) (2018.9)\n",
      "Requirement already satisfied: six>=1.5 in /usr/local/lib/python3.7/dist-packages (from python-dateutil>=2.1->matplotlib>=3.0.0->ktrain) (1.15.0)\n",
      "Requirement already satisfied: importlib-metadata in /usr/local/lib/python3.7/dist-packages (from transformers<=4.10.3,>=4.0.0->ktrain) (4.8.2)\n",
      "Collecting pyyaml>=5.1\n",
      "  Downloading PyYAML-6.0-cp37-cp37m-manylinux_2_5_x86_64.manylinux1_x86_64.manylinux_2_12_x86_64.manylinux2010_x86_64.whl (596 kB)\n",
      "\u001b[K     |████████████████████████████████| 596 kB 44.1 MB/s \n",
      "\u001b[?25hCollecting huggingface-hub>=0.0.12\n",
      "  Downloading huggingface_hub-0.2.1-py3-none-any.whl (61 kB)\n",
      "\u001b[K     |████████████████████████████████| 61 kB 313 kB/s \n",
      "\u001b[?25hCollecting tokenizers<0.11,>=0.10.1\n",
      "  Downloading tokenizers-0.10.3-cp37-cp37m-manylinux_2_5_x86_64.manylinux1_x86_64.manylinux_2_12_x86_64.manylinux2010_x86_64.whl (3.3 MB)\n",
      "\u001b[K     |████████████████████████████████| 3.3 MB 33.2 MB/s \n",
      "\u001b[?25hRequirement already satisfied: filelock in /usr/local/lib/python3.7/dist-packages (from transformers<=4.10.3,>=4.0.0->ktrain) (3.4.0)\n",
      "Requirement already satisfied: tqdm>=4.27 in /usr/local/lib/python3.7/dist-packages (from transformers<=4.10.3,>=4.0.0->ktrain) (4.62.3)\n",
      "Requirement already satisfied: regex!=2019.12.17 in /usr/local/lib/python3.7/dist-packages (from transformers<=4.10.3,>=4.0.0->ktrain) (2019.12.20)\n",
      "Collecting sacremoses\n",
      "  Downloading sacremoses-0.0.46-py3-none-any.whl (895 kB)\n",
      "\u001b[K     |████████████████████████████████| 895 kB 38.5 MB/s \n",
      "\u001b[?25hRequirement already satisfied: typing-extensions>=3.7.4.3 in /usr/local/lib/python3.7/dist-packages (from huggingface-hub>=0.0.12->transformers<=4.10.3,>=4.0.0->ktrain) (3.10.0.2)\n",
      "Requirement already satisfied: zipp>=0.5 in /usr/local/lib/python3.7/dist-packages (from importlib-metadata->transformers<=4.10.3,>=4.0.0->ktrain) (3.6.0)\n",
      "Requirement already satisfied: idna<3,>=2.5 in /usr/local/lib/python3.7/dist-packages (from requests->ktrain) (2.10)\n",
      "Requirement already satisfied: certifi>=2017.4.17 in /usr/local/lib/python3.7/dist-packages (from requests->ktrain) (2021.10.8)\n",
      "Requirement already satisfied: urllib3!=1.25.0,!=1.25.1,<1.26,>=1.21.1 in /usr/local/lib/python3.7/dist-packages (from requests->ktrain) (1.24.3)\n",
      "Requirement already satisfied: click in /usr/local/lib/python3.7/dist-packages (from sacremoses->transformers<=4.10.3,>=4.0.0->ktrain) (7.1.2)\n",
      "Building wheels for collected packages: ktrain, seqeval, keras-bert, keras-transformer, keras-embed-sim, keras-layer-normalization, keras-multi-head, keras-pos-embd, keras-position-wise-feed-forward, keras-self-attention, langdetect, syntok\n",
      "  Building wheel for ktrain (setup.py) ... \u001b[?25l\u001b[?25hdone\n",
      "  Created wheel for ktrain: filename=ktrain-0.28.3-py3-none-any.whl size=25292659 sha256=bbdebe84946462948ced446d208a60e1518f8661d2718e49cb953f398e2876f1\n",
      "  Stored in directory: /root/.cache/pip/wheels/6a/7e/c3/f46cdfc2b81c54424923b1405d7e670c35cacc11ada9a47b1c\n",
      "  Building wheel for seqeval (setup.py) ... \u001b[?25l\u001b[?25hdone\n",
      "  Created wheel for seqeval: filename=seqeval-0.0.19-py3-none-any.whl size=9929 sha256=88f4b8137c8650398fefd33297409013e5d9246d84b53ec8d7e11621d4104181\n",
      "  Stored in directory: /root/.cache/pip/wheels/f5/ac/f1/4e13d7aff05c722d142b7d20a88ad63f9aab11b895411241a4\n",
      "  Building wheel for keras-bert (setup.py) ... \u001b[?25l\u001b[?25hdone\n",
      "  Created wheel for keras-bert: filename=keras_bert-0.88.0-py3-none-any.whl size=34204 sha256=0686df825396972ebe3e1c17b1c45d2db404f36109846518c1f3e75363100913\n",
      "  Stored in directory: /root/.cache/pip/wheels/a2/90/cd/c038f2366929a3a5e3414a303b673e10235e802d871d29a835\n",
      "  Building wheel for keras-transformer (setup.py) ... \u001b[?25l\u001b[?25hdone\n",
      "  Created wheel for keras-transformer: filename=keras_transformer-0.39.0-py3-none-any.whl size=12842 sha256=2b69756deb2a56015b957c34cd448136a45576ba8a7211c8e5bb572446663131\n",
      "  Stored in directory: /root/.cache/pip/wheels/bc/01/e0/5a1a14bed6726f2ed73f7917d2d2c2d4081d2c88426dea07ce\n",
      "  Building wheel for keras-embed-sim (setup.py) ... \u001b[?25l\u001b[?25hdone\n",
      "  Created wheel for keras-embed-sim: filename=keras_embed_sim-0.9.0-py3-none-any.whl size=4504 sha256=313bed474b1989b4a4813cce86fe687eea7bf59ae5dbebdd0c4dec8bfe9fe3b0\n",
      "  Stored in directory: /root/.cache/pip/wheels/a8/1e/d2/9bc15513dd2f8b9de3e628b3aa9d2de49e721deef6bbd1497e\n",
      "  Building wheel for keras-layer-normalization (setup.py) ... \u001b[?25l\u001b[?25hdone\n",
      "  Created wheel for keras-layer-normalization: filename=keras_layer_normalization-0.15.0-py3-none-any.whl size=5224 sha256=db7f74b1c1364f56c495f4c3bada4e7baffcff505e9ee9c798b624111462f4d4\n",
      "  Stored in directory: /root/.cache/pip/wheels/4d/be/fe/55422f77ac11fe6ddcb471198038de8a26b5a4dd1557883c1e\n",
      "  Building wheel for keras-multi-head (setup.py) ... \u001b[?25l\u001b[?25hdone\n",
      "  Created wheel for keras-multi-head: filename=keras_multi_head-0.28.0-py3-none-any.whl size=15559 sha256=93fae979962b14fc05f9cc17130c4efdb7379e1928f8d3ceb5fa2e917c2d11e0\n",
      "  Stored in directory: /root/.cache/pip/wheels/79/4a/ea/9503ab5a02201dfb8635ba2cc8f30844661623c684a5b44472\n",
      "  Building wheel for keras-pos-embd (setup.py) ... \u001b[?25l\u001b[?25hdone\n",
      "  Created wheel for keras-pos-embd: filename=keras_pos_embd-0.12.0-py3-none-any.whl size=7469 sha256=fd360f88d28ca8b7e8c0e6b1290e74516b13a1778f7dcd144d3681fbbfa92510\n",
      "  Stored in directory: /root/.cache/pip/wheels/77/99/fd/dd98f4876c3ebbef7aab0dbfbd37bca41d7db37d3a28b2cb09\n",
      "  Building wheel for keras-position-wise-feed-forward (setup.py) ... \u001b[?25l\u001b[?25hdone\n",
      "  Created wheel for keras-position-wise-feed-forward: filename=keras_position_wise_feed_forward-0.7.0-py3-none-any.whl size=5541 sha256=d6112767c29b86f70c93b8cf98b06fa255180cae9e2c640f904839d924695a7d\n",
      "  Stored in directory: /root/.cache/pip/wheels/2d/12/02/1ad455c4f181cda1a4e60c5445855853d5c2ea91f942586a04\n",
      "  Building wheel for keras-self-attention (setup.py) ... \u001b[?25l\u001b[?25hdone\n",
      "  Created wheel for keras-self-attention: filename=keras_self_attention-0.50.0-py3-none-any.whl size=19414 sha256=3ba18b70395cf77820bf4c4e28dd1a520d981191b621e2eee6fe79139a56e1dc\n",
      "  Stored in directory: /root/.cache/pip/wheels/92/7a/a3/231bef5803298e7ec1815215bc0613239cb1e9c03c57b13c14\n",
      "  Building wheel for langdetect (setup.py) ... \u001b[?25l\u001b[?25hdone\n",
      "  Created wheel for langdetect: filename=langdetect-1.0.9-py3-none-any.whl size=993242 sha256=db1c04fec700c93878513478ace3a94c64352f53d8b74f96d11401b9a986e1be\n",
      "  Stored in directory: /root/.cache/pip/wheels/c5/96/8a/f90c59ed25d75e50a8c10a1b1c2d4c402e4dacfa87f3aff36a\n",
      "  Building wheel for syntok (setup.py) ... \u001b[?25l\u001b[?25hdone\n",
      "  Created wheel for syntok: filename=syntok-1.3.1-py3-none-any.whl size=20917 sha256=308a446ab81e2fb570006d9a257d255060a5b8e23c55a9fc8f8587f4c114de77\n",
      "  Stored in directory: /root/.cache/pip/wheels/5e/c2/33/e5d7d8f2f8b0c391d76bf82b844c3151bf23a84d75d02b185f\n",
      "Successfully built ktrain seqeval keras-bert keras-transformer keras-embed-sim keras-layer-normalization keras-multi-head keras-pos-embd keras-position-wise-feed-forward keras-self-attention langdetect syntok\n",
      "Installing collected packages: keras-self-attention, pyyaml, keras-position-wise-feed-forward, keras-pos-embd, keras-multi-head, keras-layer-normalization, keras-embed-sim, tokenizers, sacremoses, keras-transformer, huggingface-hub, whoosh, transformers, syntok, seqeval, sentencepiece, scikit-learn, langdetect, keras-bert, cchardet, ktrain\n",
      "  Attempting uninstall: pyyaml\n",
      "    Found existing installation: PyYAML 3.13\n",
      "    Uninstalling PyYAML-3.13:\n",
      "      Successfully uninstalled PyYAML-3.13\n",
      "  Attempting uninstall: scikit-learn\n",
      "    Found existing installation: scikit-learn 1.0.1\n",
      "    Uninstalling scikit-learn-1.0.1:\n",
      "      Successfully uninstalled scikit-learn-1.0.1\n",
      "\u001b[31mERROR: pip's dependency resolver does not currently take into account all the packages that are installed. This behaviour is the source of the following dependency conflicts.\n",
      "imbalanced-learn 0.8.1 requires scikit-learn>=0.24, but you have scikit-learn 0.23.2 which is incompatible.\u001b[0m\n",
      "Successfully installed cchardet-2.1.7 huggingface-hub-0.2.1 keras-bert-0.88.0 keras-embed-sim-0.9.0 keras-layer-normalization-0.15.0 keras-multi-head-0.28.0 keras-pos-embd-0.12.0 keras-position-wise-feed-forward-0.7.0 keras-self-attention-0.50.0 keras-transformer-0.39.0 ktrain-0.28.3 langdetect-1.0.9 pyyaml-6.0 sacremoses-0.0.46 scikit-learn-0.23.2 sentencepiece-0.1.96 seqeval-0.0.19 syntok-1.3.1 tokenizers-0.10.3 transformers-4.10.3 whoosh-2.7.4\n"
     ]
    }
   ],
   "source": [
    "# we wil be using the ktrain for loading pretrained models and embedding for next steps as this takes care of preprcoessing automatically behind the curtain.\n",
    "# https://github.com/amaiya/ktrain\n",
    "\n",
    "! pip install ktrain"
   ]
  },
  {
   "cell_type": "code",
   "execution_count": 4,
   "metadata": {
    "colab": {
     "base_uri": "https://localhost:8080/"
    },
    "id": "YAO0Q9YPnfYz",
    "outputId": "e33af31a-3c22-4eda-e4c7-1eb9b3035229"
   },
   "outputs": [
    {
     "name": "stdout",
     "output_type": "stream",
     "text": [
      "Collecting tensorflow_addons\n",
      "  Downloading tensorflow_addons-0.15.0-cp37-cp37m-manylinux_2_12_x86_64.manylinux2010_x86_64.whl (1.1 MB)\n",
      "\u001b[?25l\r\n",
      "\u001b[K     |▎                               | 10 kB 24.5 MB/s eta 0:00:01\r\n",
      "\u001b[K     |▋                               | 20 kB 30.0 MB/s eta 0:00:01\r\n",
      "\u001b[K     |▉                               | 30 kB 13.4 MB/s eta 0:00:01\r\n",
      "\u001b[K     |█▏                              | 40 kB 9.9 MB/s eta 0:00:01\r\n",
      "\u001b[K     |█▌                              | 51 kB 5.1 MB/s eta 0:00:01\r\n",
      "\u001b[K     |█▊                              | 61 kB 5.4 MB/s eta 0:00:01\r\n",
      "\u001b[K     |██                              | 71 kB 5.9 MB/s eta 0:00:01\r\n",
      "\u001b[K     |██▍                             | 81 kB 6.6 MB/s eta 0:00:01\r\n",
      "\u001b[K     |██▋                             | 92 kB 6.9 MB/s eta 0:00:01\r\n",
      "\u001b[K     |███                             | 102 kB 5.4 MB/s eta 0:00:01\r\n",
      "\u001b[K     |███▎                            | 112 kB 5.4 MB/s eta 0:00:01\r\n",
      "\u001b[K     |███▌                            | 122 kB 5.4 MB/s eta 0:00:01\r\n",
      "\u001b[K     |███▉                            | 133 kB 5.4 MB/s eta 0:00:01\r\n",
      "\u001b[K     |████▏                           | 143 kB 5.4 MB/s eta 0:00:01\r\n",
      "\u001b[K     |████▍                           | 153 kB 5.4 MB/s eta 0:00:01\r\n",
      "\u001b[K     |████▊                           | 163 kB 5.4 MB/s eta 0:00:01\r\n",
      "\u001b[K     |█████                           | 174 kB 5.4 MB/s eta 0:00:01\r\n",
      "\u001b[K     |█████▎                          | 184 kB 5.4 MB/s eta 0:00:01\r\n",
      "\u001b[K     |█████▋                          | 194 kB 5.4 MB/s eta 0:00:01\r\n",
      "\u001b[K     |█████▉                          | 204 kB 5.4 MB/s eta 0:00:01\r\n",
      "\u001b[K     |██████▏                         | 215 kB 5.4 MB/s eta 0:00:01\r\n",
      "\u001b[K     |██████▌                         | 225 kB 5.4 MB/s eta 0:00:01\r\n",
      "\u001b[K     |██████▊                         | 235 kB 5.4 MB/s eta 0:00:01\r\n",
      "\u001b[K     |███████                         | 245 kB 5.4 MB/s eta 0:00:01\r\n",
      "\u001b[K     |███████▍                        | 256 kB 5.4 MB/s eta 0:00:01\r\n",
      "\u001b[K     |███████▋                        | 266 kB 5.4 MB/s eta 0:00:01\r\n",
      "\u001b[K     |████████                        | 276 kB 5.4 MB/s eta 0:00:01\r\n",
      "\u001b[K     |████████▎                       | 286 kB 5.4 MB/s eta 0:00:01\r\n",
      "\u001b[K     |████████▌                       | 296 kB 5.4 MB/s eta 0:00:01\r\n",
      "\u001b[K     |████████▉                       | 307 kB 5.4 MB/s eta 0:00:01\r\n",
      "\u001b[K     |█████████                       | 317 kB 5.4 MB/s eta 0:00:01\r\n",
      "\u001b[K     |█████████▍                      | 327 kB 5.4 MB/s eta 0:00:01\r\n",
      "\u001b[K     |█████████▊                      | 337 kB 5.4 MB/s eta 0:00:01\r\n",
      "\u001b[K     |██████████                      | 348 kB 5.4 MB/s eta 0:00:01\r\n",
      "\u001b[K     |██████████▎                     | 358 kB 5.4 MB/s eta 0:00:01\r\n",
      "\u001b[K     |██████████▋                     | 368 kB 5.4 MB/s eta 0:00:01\r\n",
      "\u001b[K     |██████████▉                     | 378 kB 5.4 MB/s eta 0:00:01\r\n",
      "\u001b[K     |███████████▏                    | 389 kB 5.4 MB/s eta 0:00:01\r\n",
      "\u001b[K     |███████████▌                    | 399 kB 5.4 MB/s eta 0:00:01\r\n",
      "\u001b[K     |███████████▊                    | 409 kB 5.4 MB/s eta 0:00:01\r\n",
      "\u001b[K     |████████████                    | 419 kB 5.4 MB/s eta 0:00:01\r\n",
      "\u001b[K     |████████████▍                   | 430 kB 5.4 MB/s eta 0:00:01\r\n",
      "\u001b[K     |████████████▋                   | 440 kB 5.4 MB/s eta 0:00:01\r\n",
      "\u001b[K     |█████████████                   | 450 kB 5.4 MB/s eta 0:00:01\r\n",
      "\u001b[K     |█████████████▎                  | 460 kB 5.4 MB/s eta 0:00:01\r\n",
      "\u001b[K     |█████████████▌                  | 471 kB 5.4 MB/s eta 0:00:01\r\n",
      "\u001b[K     |█████████████▉                  | 481 kB 5.4 MB/s eta 0:00:01\r\n",
      "\u001b[K     |██████████████                  | 491 kB 5.4 MB/s eta 0:00:01\r\n",
      "\u001b[K     |██████████████▍                 | 501 kB 5.4 MB/s eta 0:00:01\r\n",
      "\u001b[K     |██████████████▊                 | 512 kB 5.4 MB/s eta 0:00:01\r\n",
      "\u001b[K     |███████████████                 | 522 kB 5.4 MB/s eta 0:00:01\r\n",
      "\u001b[K     |███████████████▎                | 532 kB 5.4 MB/s eta 0:00:01\r\n",
      "\u001b[K     |███████████████▋                | 542 kB 5.4 MB/s eta 0:00:01\r\n",
      "\u001b[K     |███████████████▉                | 552 kB 5.4 MB/s eta 0:00:01\r\n",
      "\u001b[K     |████████████████▏               | 563 kB 5.4 MB/s eta 0:00:01\r\n",
      "\u001b[K     |████████████████▌               | 573 kB 5.4 MB/s eta 0:00:01\r\n",
      "\u001b[K     |████████████████▊               | 583 kB 5.4 MB/s eta 0:00:01\r\n",
      "\u001b[K     |█████████████████               | 593 kB 5.4 MB/s eta 0:00:01\r\n",
      "\u001b[K     |█████████████████▍              | 604 kB 5.4 MB/s eta 0:00:01\r\n",
      "\u001b[K     |█████████████████▋              | 614 kB 5.4 MB/s eta 0:00:01\r\n",
      "\u001b[K     |██████████████████              | 624 kB 5.4 MB/s eta 0:00:01\r\n",
      "\u001b[K     |██████████████████▏             | 634 kB 5.4 MB/s eta 0:00:01\r\n",
      "\u001b[K     |██████████████████▌             | 645 kB 5.4 MB/s eta 0:00:01\r\n",
      "\u001b[K     |██████████████████▉             | 655 kB 5.4 MB/s eta 0:00:01\r\n",
      "\u001b[K     |███████████████████             | 665 kB 5.4 MB/s eta 0:00:01\r\n",
      "\u001b[K     |███████████████████▍            | 675 kB 5.4 MB/s eta 0:00:01\r\n",
      "\u001b[K     |███████████████████▊            | 686 kB 5.4 MB/s eta 0:00:01\r\n",
      "\u001b[K     |████████████████████            | 696 kB 5.4 MB/s eta 0:00:01\r\n",
      "\u001b[K     |████████████████████▎           | 706 kB 5.4 MB/s eta 0:00:01\r\n",
      "\u001b[K     |████████████████████▋           | 716 kB 5.4 MB/s eta 0:00:01\r\n",
      "\u001b[K     |████████████████████▉           | 727 kB 5.4 MB/s eta 0:00:01\r\n",
      "\u001b[K     |█████████████████████▏          | 737 kB 5.4 MB/s eta 0:00:01\r\n",
      "\u001b[K     |█████████████████████▌          | 747 kB 5.4 MB/s eta 0:00:01\r\n",
      "\u001b[K     |█████████████████████▊          | 757 kB 5.4 MB/s eta 0:00:01\r\n",
      "\u001b[K     |██████████████████████          | 768 kB 5.4 MB/s eta 0:00:01\r\n",
      "\u001b[K     |██████████████████████▎         | 778 kB 5.4 MB/s eta 0:00:01\r\n",
      "\u001b[K     |██████████████████████▋         | 788 kB 5.4 MB/s eta 0:00:01\r\n",
      "\u001b[K     |███████████████████████         | 798 kB 5.4 MB/s eta 0:00:01\r\n",
      "\u001b[K     |███████████████████████▏        | 808 kB 5.4 MB/s eta 0:00:01\r\n",
      "\u001b[K     |███████████████████████▌        | 819 kB 5.4 MB/s eta 0:00:01\r\n",
      "\u001b[K     |███████████████████████▉        | 829 kB 5.4 MB/s eta 0:00:01\r\n",
      "\u001b[K     |████████████████████████        | 839 kB 5.4 MB/s eta 0:00:01\r\n",
      "\u001b[K     |████████████████████████▍       | 849 kB 5.4 MB/s eta 0:00:01\r\n",
      "\u001b[K     |████████████████████████▊       | 860 kB 5.4 MB/s eta 0:00:01\r\n",
      "\u001b[K     |█████████████████████████       | 870 kB 5.4 MB/s eta 0:00:01\r\n",
      "\u001b[K     |█████████████████████████▎      | 880 kB 5.4 MB/s eta 0:00:01\r\n",
      "\u001b[K     |█████████████████████████▋      | 890 kB 5.4 MB/s eta 0:00:01\r\n",
      "\u001b[K     |█████████████████████████▉      | 901 kB 5.4 MB/s eta 0:00:01\r\n",
      "\u001b[K     |██████████████████████████▏     | 911 kB 5.4 MB/s eta 0:00:01\r\n",
      "\u001b[K     |██████████████████████████▌     | 921 kB 5.4 MB/s eta 0:00:01\r\n",
      "\u001b[K     |██████████████████████████▊     | 931 kB 5.4 MB/s eta 0:00:01\r\n",
      "\u001b[K     |███████████████████████████     | 942 kB 5.4 MB/s eta 0:00:01\r\n",
      "\u001b[K     |███████████████████████████▎    | 952 kB 5.4 MB/s eta 0:00:01\r\n",
      "\u001b[K     |███████████████████████████▋    | 962 kB 5.4 MB/s eta 0:00:01\r\n",
      "\u001b[K     |████████████████████████████    | 972 kB 5.4 MB/s eta 0:00:01\r\n",
      "\u001b[K     |████████████████████████████▏   | 983 kB 5.4 MB/s eta 0:00:01\r\n",
      "\u001b[K     |████████████████████████████▌   | 993 kB 5.4 MB/s eta 0:00:01\r\n",
      "\u001b[K     |████████████████████████████▉   | 1.0 MB 5.4 MB/s eta 0:00:01\r\n",
      "\u001b[K     |█████████████████████████████   | 1.0 MB 5.4 MB/s eta 0:00:01\r\n",
      "\u001b[K     |█████████████████████████████▍  | 1.0 MB 5.4 MB/s eta 0:00:01\r\n",
      "\u001b[K     |█████████████████████████████▊  | 1.0 MB 5.4 MB/s eta 0:00:01\r\n",
      "\u001b[K     |██████████████████████████████  | 1.0 MB 5.4 MB/s eta 0:00:01\r\n",
      "\u001b[K     |██████████████████████████████▎ | 1.1 MB 5.4 MB/s eta 0:00:01\r\n",
      "\u001b[K     |██████████████████████████████▋ | 1.1 MB 5.4 MB/s eta 0:00:01\r\n",
      "\u001b[K     |██████████████████████████████▉ | 1.1 MB 5.4 MB/s eta 0:00:01\r\n",
      "\u001b[K     |███████████████████████████████▏| 1.1 MB 5.4 MB/s eta 0:00:01\r\n",
      "\u001b[K     |███████████████████████████████▍| 1.1 MB 5.4 MB/s eta 0:00:01\r\n",
      "\u001b[K     |███████████████████████████████▊| 1.1 MB 5.4 MB/s eta 0:00:01\r\n",
      "\u001b[K     |████████████████████████████████| 1.1 MB 5.4 MB/s \n",
      "\u001b[?25hRequirement already satisfied: typeguard>=2.7 in /usr/local/lib/python3.7/dist-packages (from tensorflow_addons) (2.7.1)\n",
      "Installing collected packages: tensorflow-addons\n",
      "Successfully installed tensorflow-addons-0.15.0\n"
     ]
    }
   ],
   "source": [
    "# for RADAM optimizer\n",
    "! pip install tensorflow_addons"
   ]
  },
  {
   "cell_type": "code",
   "execution_count": 5,
   "metadata": {
    "id": "6qzuDwiBnrAC"
   },
   "outputs": [],
   "source": [
    "# some packages and library we will need\n",
    "import tensorflow as tf\n",
    "from tensorflow_addons.optimizers import RectifiedAdam\n",
    "import os\n",
    "import shutil\n",
    "import matplotlib.pyplot as plt\n",
    "import ktrain\n",
    "from ktrain import text\n",
    "import tensorflow as tf"
   ]
  },
  {
   "cell_type": "code",
   "execution_count": 6,
   "metadata": {
    "colab": {
     "base_uri": "https://localhost:8080/"
    },
    "id": "vIYUew7pKSf-",
    "outputId": "89bcae50-f8e2-4bec-ed74-3e86375a03de"
   },
   "outputs": [
    {
     "name": "stdout",
     "output_type": "stream",
     "text": [
      "['not_label', 'label']\n",
      "       not_label  label\n",
      "6761         0.0    1.0\n",
      "24254        0.0    1.0\n",
      "12726        0.0    1.0\n",
      "21750        1.0    0.0\n",
      "1253         0.0    1.0\n",
      "['not_label', 'label']\n",
      "       not_label  label\n",
      "24887        1.0    0.0\n",
      "24727        1.0    0.0\n",
      "18830        0.0    1.0\n",
      "22855        1.0    0.0\n",
      "13498        0.0    1.0\n",
      "language: en\n",
      "Word Counts: 66940\n",
      "Nrows: 12500\n",
      "12500 train sequences\n",
      "train sequence lengths:\n",
      "\tmean : 227\n",
      "\t95percentile : 583\n",
      "\t99percentile : 887\n",
      "Adding 3-gram features\n",
      "max_features changed to 2671062 with addition of ngrams\n",
      "Average train sequence length with ngrams: 678\n",
      "train (w/ngrams) sequence lengths:\n",
      "\tmean : 679\n",
      "\t95percentile : 1746\n",
      "\t99percentile : 2658\n",
      "x_train shape: (12500,200)\n",
      "y_train shape: (12500, 2)\n",
      "Is Multi-Label? False\n",
      "12500 test sequences\n",
      "test sequence lengths:\n",
      "\tmean : 224\n",
      "\t95percentile : 571\n",
      "\t99percentile : 873\n",
      "Average test sequence length with ngrams: 497\n",
      "test (w/ngrams) sequence lengths:\n",
      "\tmean : 497\n",
      "\t95percentile : 1249\n",
      "\t99percentile : 1849\n",
      "x_test shape: (12500,200)\n",
      "y_test shape: (12500, 2)\n"
     ]
    }
   ],
   "source": [
    "# creating trianing and validation set from train set\n",
    "\n",
    "(x_train, y_train), (x_val, y_val), preproc = ktrain.text.texts_from_df(train_df=d_train,\n",
    "                                                                   text_column = 'text',\n",
    "                                                                   label_columns = 'label',\n",
    "                                                                   ngram_range=3,\n",
    "                                                                  #  val_df = d_test,\n",
    "                                                                   val_pct = 0.5,  # keeeping training batch low for faster runtime\n",
    "                                                                   maxlen = 200,\n",
    "                                                                   preprocess_mode = 'standard')"
   ]
  },
  {
   "cell_type": "code",
   "execution_count": 6,
   "metadata": {
    "colab": {
     "base_uri": "https://localhost:8080/"
    },
    "id": "3dBvbWueK5ky",
    "outputId": "2e63c05c-ace4-40a9-f1c9-5a7207c0e25b"
   },
   "outputs": [
    {
     "name": "stdout",
     "output_type": "stream",
     "text": [
      "Is Multi-Label? False\n",
      "compiling word ID features...\n",
      "maxlen is 200\n",
      "done.\n",
      "simulating training for different learning rates... this may take a few moments...\n",
      "Epoch 1/1024\n",
      "782/782 [==============================] - 1270s 2s/step - loss: 0.9094 - accuracy: 0.5045\n",
      "Epoch 2/1024\n",
      "782/782 [==============================] - 1275s 2s/step - loss: 0.7564 - accuracy: 0.5162\n",
      "Epoch 3/1024\n",
      "782/782 [==============================] - 280s 357ms/step - loss: 636.6793 - accuracy: 0.4927\n",
      "\n",
      "\n",
      "done.\n",
      "Please invoke the Learner.lr_plot() method to visually inspect the loss plot to help identify the maximal learning rate associated with falling loss.\n"
     ]
    }
   ],
   "source": [
    "# model = text.text_classifier('fasttext', trn, preproc=preproc)\n",
    "\n",
    "model = text.text_classifier('fasttext',(x_train, y_train), preproc=preproc)\n",
    "learner = ktrain.get_learner(model, \n",
    "                             train_data=(x_train, y_train), \n",
    "                             val_data=(x_val, y_val), \n",
    "                             batch_size= 16)\n",
    "\n",
    "learner.lr_find()             # briefly simulate training to find good learning rate\n"
   ]
  },
  {
   "cell_type": "code",
   "execution_count": 7,
   "metadata": {
    "colab": {
     "base_uri": "https://localhost:8080/",
     "height": 283
    },
    "id": "MQjfNQA1Wzct",
    "outputId": "1c095bfd-1cd3-4a9c-b071-518eac7e6cc4"
   },
   "outputs": [
    {
     "data": {
      "image/png": "[encoded data removed]",
      "text/plain": [
       "<Figure size 432x288 with 1 Axes>"
      ]
     },
     "metadata": {
      "needs_background": "light"
     },
     "output_type": "display_data"
    }
   ],
   "source": [
    "learner.lr_plot()"
   ]
  },
  {
   "cell_type": "markdown",
   "metadata": {
    "id": "3IfYWA5ljWU9"
   },
   "source": [
    "We can choose the learning rate in the the range of 0.005 to 0.01"
   ]
  },
  {
   "cell_type": "code",
   "execution_count": 10,
   "metadata": {
    "colab": {
     "base_uri": "https://localhost:8080/"
    },
    "id": "aIsMJGXmjVP9",
    "outputId": "88c190a6-442b-4085-e7c0-d320e05196b0"
   },
   "outputs": [
    {
     "name": "stdout",
     "output_type": "stream",
     "text": [
      "Is Multi-Label? False\n",
      "compiling word ID features...\n",
      "maxlen is 200\n",
      "done.\n"
     ]
    }
   ],
   "source": [
    "model = text.text_classifier('fasttext',(x_train,y_train) , preproc=preproc)\n",
    "\n",
    "# param for early stopping, number of epoch to wait before terminating the process, if no improvmenet seen for the monitored quantity\n",
    "patience = 2\n",
    "\n",
    "# loss and metrics for the models\n",
    "loss = tf.keras.losses.BinaryCrossentropy()\n",
    "metrics = tf.metrics.BinaryAccuracy()\n",
    "\n",
    "early_stopping = tf.keras.callbacks.EarlyStopping(monitor='val_binary_accuracy',   # as we are using binary accuracy which is same as accuracy for two category\n",
    "                                                  patience=patience,\n",
    "                                                  mode='max', restore_best_weights = False)\n",
    "\n",
    "model.compile(optimizer=RectifiedAdam(learning_rate = 0.01, warmup_proportion = 0.2, beta_1 = 0.9, \n",
    "                                           total_steps= 3000, weight_decay = 0.05, min_lr= 0.001),loss= loss, metrics = metrics)"
   ]
  },
  {
   "cell_type": "code",
   "execution_count": 12,
   "metadata": {
    "colab": {
     "base_uri": "https://localhost:8080/",
     "height": 541
    },
    "id": "q1hWHxT1kVwa",
    "outputId": "3d25cf14-2f80-4944-d8e5-120a00265f44"
   },
   "outputs": [
    {
     "name": "stdout",
     "output_type": "stream",
     "text": [
      "Epoch 1/6\n",
      "782/782 [==============================] - 1746s 2s/step - loss: 0.6719 - binary_accuracy: 0.5786 - val_loss: 0.6061 - val_binary_accuracy: 0.7144\n",
      "Epoch 2/6\n",
      "782/782 [==============================] - 1724s 2s/step - loss: 0.4817 - binary_accuracy: 0.7726 - val_loss: 0.5130 - val_binary_accuracy: 0.7449\n",
      "Epoch 3/6\n",
      "782/782 [==============================] - 1711s 2s/step - loss: 0.3839 - binary_accuracy: 0.8323 - val_loss: 0.4788 - val_binary_accuracy: 0.7689\n",
      "Epoch 4/6\n",
      "782/782 [==============================] - 1714s 2s/step - loss: 0.2889 - binary_accuracy: 0.8860 - val_loss: 0.4761 - val_binary_accuracy: 0.7723\n",
      "Epoch 5/6\n",
      "197/782 [======>.......................] - ETA: 21:18 - loss: 0.2415 - binary_accuracy: 0.9055"
     ]
    },
    {
     "ename": "KeyboardInterrupt",
     "evalue": "ignored",
     "output_type": "error",
     "traceback": [
      "\u001b[0;31m---------------------------------------------------------------------------\u001b[0m",
      "\u001b[0;31mKeyboardInterrupt\u001b[0m                         Traceback (most recent call last)",
      "\u001b[0;32m<ipython-input-12-89350533e82d>\u001b[0m in \u001b[0;36m<module>\u001b[0;34m()\u001b[0m\n\u001b[1;32m     10\u001b[0m \u001b[0;31m# n_cycles* cycle_len = total number of epochs, in each cycle, the optimizer lr gradually decays down.\u001b[0m\u001b[0;34m\u001b[0m\u001b[0;34m\u001b[0m\u001b[0;34m\u001b[0m\u001b[0m\n\u001b[1;32m     11\u001b[0m \u001b[0;34m\u001b[0m\u001b[0m\n\u001b[0;32m---> 12\u001b[0;31m \u001b[0mlearner\u001b[0m\u001b[0;34m.\u001b[0m\u001b[0mfit\u001b[0m\u001b[0;34m(\u001b[0m\u001b[0mlr\u001b[0m \u001b[0;34m=\u001b[0m \u001b[0;36m1e-2\u001b[0m\u001b[0;34m,\u001b[0m\u001b[0mn_cycles\u001b[0m\u001b[0;34m=\u001b[0m \u001b[0;36m3\u001b[0m\u001b[0;34m,\u001b[0m \u001b[0mcycle_len\u001b[0m \u001b[0;34m=\u001b[0m \u001b[0;36m2\u001b[0m\u001b[0;34m,\u001b[0m \u001b[0mcallbacks\u001b[0m\u001b[0;34m=\u001b[0m \u001b[0;34m[\u001b[0m\u001b[0mearly_stopping\u001b[0m\u001b[0;34m]\u001b[0m\u001b[0;34m)\u001b[0m\u001b[0;34m\u001b[0m\u001b[0;34m\u001b[0m\u001b[0m\n\u001b[0m",
      "\u001b[0;32m/usr/local/lib/python3.7/dist-packages/ktrain/core.py\u001b[0m in \u001b[0;36mfit\u001b[0;34m(self, lr, n_cycles, cycle_len, cycle_mult, lr_decay, checkpoint_folder, early_stopping, verbose, class_weight, callbacks, steps_per_epoch)\u001b[0m\n\u001b[1;32m   1180\u001b[0m                                   \u001b[0mshuffle\u001b[0m\u001b[0;34m=\u001b[0m\u001b[0;32mTrue\u001b[0m\u001b[0;34m,\u001b[0m\u001b[0;34m\u001b[0m\u001b[0;34m\u001b[0m\u001b[0m\n\u001b[1;32m   1181\u001b[0m                                   \u001b[0mclass_weight\u001b[0m\u001b[0;34m=\u001b[0m\u001b[0mclass_weight\u001b[0m\u001b[0;34m,\u001b[0m\u001b[0;34m\u001b[0m\u001b[0;34m\u001b[0m\u001b[0m\n\u001b[0;32m-> 1182\u001b[0;31m                                   callbacks=kcallbacks)\n\u001b[0m\u001b[1;32m   1183\u001b[0m \u001b[0;34m\u001b[0m\u001b[0m\n\u001b[1;32m   1184\u001b[0m         \u001b[0;32mif\u001b[0m \u001b[0msgdr\u001b[0m \u001b[0;32mis\u001b[0m \u001b[0;32mnot\u001b[0m \u001b[0;32mNone\u001b[0m\u001b[0;34m:\u001b[0m \u001b[0mhist\u001b[0m\u001b[0;34m.\u001b[0m\u001b[0mhistory\u001b[0m\u001b[0;34m[\u001b[0m\u001b[0;34m'lr'\u001b[0m\u001b[0;34m]\u001b[0m \u001b[0;34m=\u001b[0m \u001b[0msgdr\u001b[0m\u001b[0;34m.\u001b[0m\u001b[0mhistory\u001b[0m\u001b[0;34m[\u001b[0m\u001b[0;34m'lr'\u001b[0m\u001b[0;34m]\u001b[0m\u001b[0;34m\u001b[0m\u001b[0;34m\u001b[0m\u001b[0m\n",
      "\u001b[0;32m/usr/local/lib/python3.7/dist-packages/keras/utils/traceback_utils.py\u001b[0m in \u001b[0;36merror_handler\u001b[0;34m(*args, **kwargs)\u001b[0m\n\u001b[1;32m     62\u001b[0m     \u001b[0mfiltered_tb\u001b[0m \u001b[0;34m=\u001b[0m \u001b[0;32mNone\u001b[0m\u001b[0;34m\u001b[0m\u001b[0;34m\u001b[0m\u001b[0m\n\u001b[1;32m     63\u001b[0m     \u001b[0;32mtry\u001b[0m\u001b[0;34m:\u001b[0m\u001b[0;34m\u001b[0m\u001b[0;34m\u001b[0m\u001b[0m\n\u001b[0;32m---> 64\u001b[0;31m       \u001b[0;32mreturn\u001b[0m \u001b[0mfn\u001b[0m\u001b[0;34m(\u001b[0m\u001b[0;34m*\u001b[0m\u001b[0margs\u001b[0m\u001b[0;34m,\u001b[0m \u001b[0;34m**\u001b[0m\u001b[0mkwargs\u001b[0m\u001b[0;34m)\u001b[0m\u001b[0;34m\u001b[0m\u001b[0;34m\u001b[0m\u001b[0m\n\u001b[0m\u001b[1;32m     65\u001b[0m     \u001b[0;32mexcept\u001b[0m \u001b[0mException\u001b[0m \u001b[0;32mas\u001b[0m \u001b[0me\u001b[0m\u001b[0;34m:\u001b[0m  \u001b[0;31m# pylint: disable=broad-except\u001b[0m\u001b[0;34m\u001b[0m\u001b[0;34m\u001b[0m\u001b[0m\n\u001b[1;32m     66\u001b[0m       \u001b[0mfiltered_tb\u001b[0m \u001b[0;34m=\u001b[0m \u001b[0m_process_traceback_frames\u001b[0m\u001b[0;34m(\u001b[0m\u001b[0me\u001b[0m\u001b[0;34m.\u001b[0m\u001b[0m__traceback__\u001b[0m\u001b[0;34m)\u001b[0m\u001b[0;34m\u001b[0m\u001b[0;34m\u001b[0m\u001b[0m\n",
      "\u001b[0;32m/usr/local/lib/python3.7/dist-packages/keras/engine/training.py\u001b[0m in \u001b[0;36mfit\u001b[0;34m(self, x, y, batch_size, epochs, verbose, callbacks, validation_split, validation_data, shuffle, class_weight, sample_weight, initial_epoch, steps_per_epoch, validation_steps, validation_batch_size, validation_freq, max_queue_size, workers, use_multiprocessing)\u001b[0m\n\u001b[1;32m   1214\u001b[0m                 _r=1):\n\u001b[1;32m   1215\u001b[0m               \u001b[0mcallbacks\u001b[0m\u001b[0;34m.\u001b[0m\u001b[0mon_train_batch_begin\u001b[0m\u001b[0;34m(\u001b[0m\u001b[0mstep\u001b[0m\u001b[0;34m)\u001b[0m\u001b[0;34m\u001b[0m\u001b[0;34m\u001b[0m\u001b[0m\n\u001b[0;32m-> 1216\u001b[0;31m               \u001b[0mtmp_logs\u001b[0m \u001b[0;34m=\u001b[0m \u001b[0mself\u001b[0m\u001b[0;34m.\u001b[0m\u001b[0mtrain_function\u001b[0m\u001b[0;34m(\u001b[0m\u001b[0miterator\u001b[0m\u001b[0;34m)\u001b[0m\u001b[0;34m\u001b[0m\u001b[0;34m\u001b[0m\u001b[0m\n\u001b[0m\u001b[1;32m   1217\u001b[0m               \u001b[0;32mif\u001b[0m \u001b[0mdata_handler\u001b[0m\u001b[0;34m.\u001b[0m\u001b[0mshould_sync\u001b[0m\u001b[0;34m:\u001b[0m\u001b[0;34m\u001b[0m\u001b[0;34m\u001b[0m\u001b[0m\n\u001b[1;32m   1218\u001b[0m                 \u001b[0mcontext\u001b[0m\u001b[0;34m.\u001b[0m\u001b[0masync_wait\u001b[0m\u001b[0;34m(\u001b[0m\u001b[0;34m)\u001b[0m\u001b[0;34m\u001b[0m\u001b[0;34m\u001b[0m\u001b[0m\n",
      "\u001b[0;32m/usr/local/lib/python3.7/dist-packages/tensorflow/python/util/traceback_utils.py\u001b[0m in \u001b[0;36merror_handler\u001b[0;34m(*args, **kwargs)\u001b[0m\n\u001b[1;32m    148\u001b[0m     \u001b[0mfiltered_tb\u001b[0m \u001b[0;34m=\u001b[0m \u001b[0;32mNone\u001b[0m\u001b[0;34m\u001b[0m\u001b[0;34m\u001b[0m\u001b[0m\n\u001b[1;32m    149\u001b[0m     \u001b[0;32mtry\u001b[0m\u001b[0;34m:\u001b[0m\u001b[0;34m\u001b[0m\u001b[0;34m\u001b[0m\u001b[0m\n\u001b[0;32m--> 150\u001b[0;31m       \u001b[0;32mreturn\u001b[0m \u001b[0mfn\u001b[0m\u001b[0;34m(\u001b[0m\u001b[0;34m*\u001b[0m\u001b[0margs\u001b[0m\u001b[0;34m,\u001b[0m \u001b[0;34m**\u001b[0m\u001b[0mkwargs\u001b[0m\u001b[0;34m)\u001b[0m\u001b[0;34m\u001b[0m\u001b[0;34m\u001b[0m\u001b[0m\n\u001b[0m\u001b[1;32m    151\u001b[0m     \u001b[0;32mexcept\u001b[0m \u001b[0mException\u001b[0m \u001b[0;32mas\u001b[0m \u001b[0me\u001b[0m\u001b[0;34m:\u001b[0m\u001b[0;34m\u001b[0m\u001b[0;34m\u001b[0m\u001b[0m\n\u001b[1;32m    152\u001b[0m       \u001b[0mfiltered_tb\u001b[0m \u001b[0;34m=\u001b[0m \u001b[0m_process_traceback_frames\u001b[0m\u001b[0;34m(\u001b[0m\u001b[0me\u001b[0m\u001b[0;34m.\u001b[0m\u001b[0m__traceback__\u001b[0m\u001b[0;34m)\u001b[0m\u001b[0;34m\u001b[0m\u001b[0;34m\u001b[0m\u001b[0m\n",
      "\u001b[0;32m/usr/local/lib/python3.7/dist-packages/tensorflow/python/eager/def_function.py\u001b[0m in \u001b[0;36m__call__\u001b[0;34m(self, *args, **kwds)\u001b[0m\n\u001b[1;32m    908\u001b[0m \u001b[0;34m\u001b[0m\u001b[0m\n\u001b[1;32m    909\u001b[0m       \u001b[0;32mwith\u001b[0m \u001b[0mOptionalXlaContext\u001b[0m\u001b[0;34m(\u001b[0m\u001b[0mself\u001b[0m\u001b[0;34m.\u001b[0m\u001b[0m_jit_compile\u001b[0m\u001b[0;34m)\u001b[0m\u001b[0;34m:\u001b[0m\u001b[0;34m\u001b[0m\u001b[0;34m\u001b[0m\u001b[0m\n\u001b[0;32m--> 910\u001b[0;31m         \u001b[0mresult\u001b[0m \u001b[0;34m=\u001b[0m \u001b[0mself\u001b[0m\u001b[0;34m.\u001b[0m\u001b[0m_call\u001b[0m\u001b[0;34m(\u001b[0m\u001b[0;34m*\u001b[0m\u001b[0margs\u001b[0m\u001b[0;34m,\u001b[0m \u001b[0;34m**\u001b[0m\u001b[0mkwds\u001b[0m\u001b[0;34m)\u001b[0m\u001b[0;34m\u001b[0m\u001b[0;34m\u001b[0m\u001b[0m\n\u001b[0m\u001b[1;32m    911\u001b[0m \u001b[0;34m\u001b[0m\u001b[0m\n\u001b[1;32m    912\u001b[0m       \u001b[0mnew_tracing_count\u001b[0m \u001b[0;34m=\u001b[0m \u001b[0mself\u001b[0m\u001b[0;34m.\u001b[0m\u001b[0mexperimental_get_tracing_count\u001b[0m\u001b[0;34m(\u001b[0m\u001b[0;34m)\u001b[0m\u001b[0;34m\u001b[0m\u001b[0;34m\u001b[0m\u001b[0m\n",
      "\u001b[0;32m/usr/local/lib/python3.7/dist-packages/tensorflow/python/eager/def_function.py\u001b[0m in \u001b[0;36m_call\u001b[0;34m(self, *args, **kwds)\u001b[0m\n\u001b[1;32m    940\u001b[0m       \u001b[0;31m# In this case we have created variables on the first call, so we run the\u001b[0m\u001b[0;34m\u001b[0m\u001b[0;34m\u001b[0m\u001b[0;34m\u001b[0m\u001b[0m\n\u001b[1;32m    941\u001b[0m       \u001b[0;31m# defunned version which is guaranteed to never create variables.\u001b[0m\u001b[0;34m\u001b[0m\u001b[0;34m\u001b[0m\u001b[0;34m\u001b[0m\u001b[0m\n\u001b[0;32m--> 942\u001b[0;31m       \u001b[0;32mreturn\u001b[0m \u001b[0mself\u001b[0m\u001b[0;34m.\u001b[0m\u001b[0m_stateless_fn\u001b[0m\u001b[0;34m(\u001b[0m\u001b[0;34m*\u001b[0m\u001b[0margs\u001b[0m\u001b[0;34m,\u001b[0m \u001b[0;34m**\u001b[0m\u001b[0mkwds\u001b[0m\u001b[0;34m)\u001b[0m  \u001b[0;31m# pylint: disable=not-callable\u001b[0m\u001b[0;34m\u001b[0m\u001b[0;34m\u001b[0m\u001b[0m\n\u001b[0m\u001b[1;32m    943\u001b[0m     \u001b[0;32melif\u001b[0m \u001b[0mself\u001b[0m\u001b[0;34m.\u001b[0m\u001b[0m_stateful_fn\u001b[0m \u001b[0;32mis\u001b[0m \u001b[0;32mnot\u001b[0m \u001b[0;32mNone\u001b[0m\u001b[0;34m:\u001b[0m\u001b[0;34m\u001b[0m\u001b[0;34m\u001b[0m\u001b[0m\n\u001b[1;32m    944\u001b[0m       \u001b[0;31m# Release the lock early so that multiple threads can perform the call\u001b[0m\u001b[0;34m\u001b[0m\u001b[0;34m\u001b[0m\u001b[0;34m\u001b[0m\u001b[0m\n",
      "\u001b[0;32m/usr/local/lib/python3.7/dist-packages/tensorflow/python/eager/function.py\u001b[0m in \u001b[0;36m__call__\u001b[0;34m(self, *args, **kwargs)\u001b[0m\n\u001b[1;32m   3129\u001b[0m        filtered_flat_args) = self._maybe_define_function(args, kwargs)\n\u001b[1;32m   3130\u001b[0m     return graph_function._call_flat(\n\u001b[0;32m-> 3131\u001b[0;31m         filtered_flat_args, captured_inputs=graph_function.captured_inputs)  # pylint: disable=protected-access\n\u001b[0m\u001b[1;32m   3132\u001b[0m \u001b[0;34m\u001b[0m\u001b[0m\n\u001b[1;32m   3133\u001b[0m   \u001b[0;34m@\u001b[0m\u001b[0mproperty\u001b[0m\u001b[0;34m\u001b[0m\u001b[0;34m\u001b[0m\u001b[0m\n",
      "\u001b[0;32m/usr/local/lib/python3.7/dist-packages/tensorflow/python/eager/function.py\u001b[0m in \u001b[0;36m_call_flat\u001b[0;34m(self, args, captured_inputs, cancellation_manager)\u001b[0m\n\u001b[1;32m   1958\u001b[0m       \u001b[0;31m# No tape is watching; skip to running the function.\u001b[0m\u001b[0;34m\u001b[0m\u001b[0;34m\u001b[0m\u001b[0;34m\u001b[0m\u001b[0m\n\u001b[1;32m   1959\u001b[0m       return self._build_call_outputs(self._inference_function.call(\n\u001b[0;32m-> 1960\u001b[0;31m           ctx, args, cancellation_manager=cancellation_manager))\n\u001b[0m\u001b[1;32m   1961\u001b[0m     forward_backward = self._select_forward_and_backward_functions(\n\u001b[1;32m   1962\u001b[0m         \u001b[0margs\u001b[0m\u001b[0;34m,\u001b[0m\u001b[0;34m\u001b[0m\u001b[0;34m\u001b[0m\u001b[0m\n",
      "\u001b[0;32m/usr/local/lib/python3.7/dist-packages/tensorflow/python/eager/function.py\u001b[0m in \u001b[0;36mcall\u001b[0;34m(self, ctx, args, cancellation_manager)\u001b[0m\n\u001b[1;32m    601\u001b[0m               \u001b[0minputs\u001b[0m\u001b[0;34m=\u001b[0m\u001b[0margs\u001b[0m\u001b[0;34m,\u001b[0m\u001b[0;34m\u001b[0m\u001b[0;34m\u001b[0m\u001b[0m\n\u001b[1;32m    602\u001b[0m               \u001b[0mattrs\u001b[0m\u001b[0;34m=\u001b[0m\u001b[0mattrs\u001b[0m\u001b[0;34m,\u001b[0m\u001b[0;34m\u001b[0m\u001b[0;34m\u001b[0m\u001b[0m\n\u001b[0;32m--> 603\u001b[0;31m               ctx=ctx)\n\u001b[0m\u001b[1;32m    604\u001b[0m         \u001b[0;32melse\u001b[0m\u001b[0;34m:\u001b[0m\u001b[0;34m\u001b[0m\u001b[0;34m\u001b[0m\u001b[0m\n\u001b[1;32m    605\u001b[0m           outputs = execute.execute_with_cancellation(\n",
      "\u001b[0;32m/usr/local/lib/python3.7/dist-packages/tensorflow/python/eager/execute.py\u001b[0m in \u001b[0;36mquick_execute\u001b[0;34m(op_name, num_outputs, inputs, attrs, ctx, name)\u001b[0m\n\u001b[1;32m     57\u001b[0m     \u001b[0mctx\u001b[0m\u001b[0;34m.\u001b[0m\u001b[0mensure_initialized\u001b[0m\u001b[0;34m(\u001b[0m\u001b[0;34m)\u001b[0m\u001b[0;34m\u001b[0m\u001b[0;34m\u001b[0m\u001b[0m\n\u001b[1;32m     58\u001b[0m     tensors = pywrap_tfe.TFE_Py_Execute(ctx._handle, device_name, op_name,\n\u001b[0;32m---> 59\u001b[0;31m                                         inputs, attrs, num_outputs)\n\u001b[0m\u001b[1;32m     60\u001b[0m   \u001b[0;32mexcept\u001b[0m \u001b[0mcore\u001b[0m\u001b[0;34m.\u001b[0m\u001b[0m_NotOkStatusException\u001b[0m \u001b[0;32mas\u001b[0m \u001b[0me\u001b[0m\u001b[0;34m:\u001b[0m\u001b[0;34m\u001b[0m\u001b[0;34m\u001b[0m\u001b[0m\n\u001b[1;32m     61\u001b[0m     \u001b[0;32mif\u001b[0m \u001b[0mname\u001b[0m \u001b[0;32mis\u001b[0m \u001b[0;32mnot\u001b[0m \u001b[0;32mNone\u001b[0m\u001b[0;34m:\u001b[0m\u001b[0;34m\u001b[0m\u001b[0;34m\u001b[0m\u001b[0m\n",
      "\u001b[0;31mKeyboardInterrupt\u001b[0m: "
     ]
    }
   ],
   "source": [
    "# Finding epochs value ( Number fo epochs = 4). One can argue that we can keep the epoch value where val-accuracy is highest,\n",
    "# but it is advisable to go beyond that and chose epoch value when training and valid begin to diverge.\n",
    "\n",
    "learner = ktrain.get_learner(model, \n",
    "                             train_data=(x_train,y_train), \n",
    "                             val_data=(x_val,y_val), \n",
    "                             batch_size= 16)\n",
    "\n",
    "# https://github.com/amaiya/ktrain/blob/a871779581eea37c5e0211a3f787af8c7f2e9522/ktrain/core.py#L833\n",
    "# n_cycles* cycle_len = total number of epochs, in each cycle, the optimizer lr gradually decays down.\n",
    "\n",
    "learner.fit(lr = 1e-2,n_cycles= 3, cycle_len = 2, callbacks= [early_stopping])"
   ]
  },
  {
   "cell_type": "code",
   "execution_count": 9,
   "metadata": {
    "colab": {
     "base_uri": "https://localhost:8080/"
    },
    "id": "BVFGFpaRkbL0",
    "outputId": "94c68bae-8fb3-4226-8fee-c80069e16fe8"
   },
   "outputs": [
    {
     "name": "stdout",
     "output_type": "stream",
     "text": [
      "['not_label', 'label']\n",
      "   not_label  label\n",
      "0        1.0    0.0\n",
      "1        1.0    0.0\n",
      "2        1.0    0.0\n",
      "3        0.0    1.0\n",
      "4        0.0    1.0\n",
      "['not_label', 'label']\n",
      "   not_label  label\n",
      "0        0.0    1.0\n",
      "1        0.0    1.0\n",
      "2        1.0    0.0\n",
      "3        1.0    0.0\n",
      "4        0.0    1.0\n",
      "language: en\n",
      "Word Counts: 93788\n",
      "Nrows: 25000\n",
      "25000 train sequences\n",
      "train sequence lengths:\n",
      "\tmean : 226\n",
      "\t95percentile : 578\n",
      "\t99percentile : 881\n",
      "Adding 2-gram features\n",
      "max_features changed to 1234298 with addition of ngrams\n",
      "Average train sequence length with ngrams: 451\n",
      "train (w/ngrams) sequence lengths:\n",
      "\tmean : 451\n",
      "\t95percentile : 1155\n",
      "\t99percentile : 1761\n",
      "x_train shape: (25000,200)\n",
      "y_train shape: (25000, 2)\n",
      "Is Multi-Label? False\n",
      "25000 test sequences\n",
      "test sequence lengths:\n",
      "\tmean : 220\n",
      "\t95percentile : 556\n",
      "\t99percentile : 860\n",
      "Average test sequence length with ngrams: 405\n",
      "test (w/ngrams) sequence lengths:\n",
      "\tmean : 405\n",
      "\t95percentile : 1017\n",
      "\t99percentile : 1571\n",
      "x_test shape: (25000,200)\n",
      "y_test shape: (25000, 2)\n",
      "Is Multi-Label? False\n",
      "compiling word ID features...\n",
      "maxlen is 200\n",
      "done.\n"
     ]
    }
   ],
   "source": [
    "# creating finaldata set for maxlen = 200 \n",
    "(x_train, y_train), (x_val, y_val), preproc = ktrain.text.texts_from_df(train_df=d_train,\n",
    "                                                                   text_column = 'text',\n",
    "                                                                   label_columns = 'label',\n",
    "                                                                   ngram_range=2,\n",
    "                                                                   val_df = d_test,\n",
    "                                                                   maxlen = 200,\n",
    "                                                                   preprocess_mode = 'standard')\n",
    "\n",
    "model = text.text_classifier('fasttext',(x_train,y_train) , preproc=preproc)\n",
    "\n",
    "loss = tf.keras.losses.BinaryCrossentropy()\n",
    "metrics = tf.metrics.BinaryAccuracy()\n",
    "\n",
    "model.compile(optimizer=RectifiedAdam(learning_rate = 0.005, warmup_proportion = 0.2, beta_1 = 0.9, \n",
    "                                           total_steps= 3000, weight_decay = 0.1, min_lr= 0.001),loss= loss, metrics = metrics)"
   ]
  },
  {
   "cell_type": "code",
   "execution_count": 10,
   "metadata": {
    "colab": {
     "base_uri": "https://localhost:8080/"
    },
    "id": "j9BOuGvSle_G",
    "outputId": "f0923525-626f-4f38-85cc-1bb6ecf7d47d"
   },
   "outputs": [
    {
     "name": "stdout",
     "output_type": "stream",
     "text": [
      "\n",
      "\n",
      "begin training using onecycle policy with max lr of 0.005...\n",
      "Epoch 1/5\n",
      "1563/1563 [==============================] - 1762s 1s/step - loss: 0.7512 - binary_accuracy: 0.5352\n",
      "Epoch 2/5\n",
      "1563/1563 [==============================] - 1763s 1s/step - loss: 0.5879 - binary_accuracy: 0.6813\n",
      "Epoch 3/5\n",
      "1563/1563 [==============================] - 1755s 1s/step - loss: 0.4725 - binary_accuracy: 0.7738\n",
      "Epoch 4/5\n",
      "1563/1563 [==============================] - 1763s 1s/step - loss: 0.3861 - binary_accuracy: 0.8280\n",
      "Epoch 5/5\n",
      "1563/1563 [==============================] - 1766s 1s/step - loss: 0.3309 - binary_accuracy: 0.8580\n"
     ]
    },
    {
     "data": {
      "text/plain": [
       "<keras.callbacks.History at 0x7f9d22b131d0>"
      ]
     },
     "execution_count": 10,
     "metadata": {},
     "output_type": "execute_result"
    }
   ],
   "source": [
    "learner = ktrain.get_learner(model, \n",
    "                             train_data=(x_train,y_train), \n",
    "                             batch_size= 16)\n",
    "learner.fit_onecycle(lr = 5e-3,epochs = 5)"
   ]
  },
  {
   "cell_type": "code",
   "execution_count": 11,
   "metadata": {
    "colab": {
     "base_uri": "https://localhost:8080/"
    },
    "id": "ETiOpiOUxb71",
    "outputId": "91a392b0-9233-4318-f138-4d59a709694c"
   },
   "outputs": [
    {
     "name": "stdout",
     "output_type": "stream",
     "text": [
      "\n",
      "\n",
      "begin training using onecycle policy with max lr of 0.005...\n",
      "1563/1563 [==============================] - 1771s 1s/step - loss: 0.2912 - binary_accuracy: 0.8773\n"
     ]
    },
    {
     "data": {
      "text/plain": [
       "<keras.callbacks.History at 0x7f9cfd518350>"
      ]
     },
     "execution_count": 11,
     "metadata": {},
     "output_type": "execute_result"
    }
   ],
   "source": [
    "# increasing one more epoch\n",
    "learner.fit_onecycle(lr = 5e-3,epochs = 1)"
   ]
  },
  {
   "cell_type": "code",
   "execution_count": 15,
   "metadata": {
    "colab": {
     "base_uri": "https://localhost:8080/"
    },
    "id": "nnOj3G8O6O2U",
    "outputId": "2d0acecb-8d75-4436-c0ad-5af6e4c65c6e"
   },
   "outputs": [
    {
     "name": "stdout",
     "output_type": "stream",
     "text": [
      "\n",
      "\n",
      "begin training using onecycle policy with max lr of 0.001...\n",
      "1563/1563 [==============================] - 1762s 1s/step - loss: 0.2582 - binary_accuracy: 0.8963\n"
     ]
    },
    {
     "data": {
      "text/plain": [
       "<keras.callbacks.History at 0x7f9d1a0c0350>"
      ]
     },
     "execution_count": 15,
     "metadata": {},
     "output_type": "execute_result"
    }
   ],
   "source": [
    "learner.fit_onecycle(lr = 1e-3,epochs = 1)\n",
    "# increasing one more epoch with max lr of 0.001\n"
   ]
  },
  {
   "cell_type": "code",
   "execution_count": 16,
   "metadata": {
    "colab": {
     "base_uri": "https://localhost:8080/"
    },
    "id": "-fEg73C01bE2",
    "outputId": "02923ecd-8535-444d-af02-d4fc80435ec4"
   },
   "outputs": [
    {
     "name": "stdout",
     "output_type": "stream",
     "text": [
      "Evaluating on test set...FASTtext\n",
      "782/782 [==============================] - 3s 3ms/step - loss: 0.3370 - binary_accuracy: 0.8494\n",
      "loss=0.3370, accuracy: 84.9360%\n"
     ]
    }
   ],
   "source": [
    "\n",
    "print(\"Evaluating on test set...{}\".format(\"FASTtext\"))\n",
    "(test_loss, test_accuracy) = learner.model.evaluate(x_val, y_val)\n",
    "print(\"loss={:.4f}, accuracy: {:.4f}%\".format(test_loss,test_accuracy * 100))"
   ]
  },
  {
   "cell_type": "markdown",
   "metadata": {},
   "source": [
    "Though we gave away glove in trade off with n-grams approach, but there doesnt seem to be any improvement, in hindsight it seems to better include the n-grams in pre-trianed embeddings. However as we are not able to break the mark of 90% accuray lets turn to state-of-the art models ( Transformers)\n",
    "\n",
    "Note: Learning rate plot seems to suggest higher learning rate which cannot be right values, therefore fine tuning the leanring rate can substantially improve the measured metric."
   ]
  }
 ],
 "metadata": {
  "accelerator": "TPU",
  "colab": {
   "collapsed_sections": [],
   "name": "Notebook_5_Fasttext.ipynb",
   "provenance": []
  },
  "kernelspec": {
   "display_name": "Python 3",
   "language": "python",
   "name": "python3"
  },
  "language_info": {
   "codemirror_mode": {
    "name": "ipython",
    "version": 3
   },
   "file_extension": ".py",
   "mimetype": "text/x-python",
   "name": "python",
   "nbconvert_exporter": "python",
   "pygments_lexer": "ipython3",
   "version": "3.8.5"
  }
 },
 "nbformat": 4,
 "nbformat_minor": 1
}
